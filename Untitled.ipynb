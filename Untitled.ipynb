{
 "cells": [
  {
   "cell_type": "code",
   "execution_count": 2,
   "metadata": {},
   "outputs": [],
   "source": [
    "import sqlite3\n",
    "import pandas as pd"
   ]
  },
  {
   "cell_type": "code",
   "execution_count": 3,
   "metadata": {},
   "outputs": [],
   "source": [
    "conn=sqlite3.connect('/Users/Merin/Desktop/HAP880/Assignment3/testClaims_hu.db') # enter full path here\n",
    "df=pd.read_sql('select * from highUtilizationPredictionV2wco',conn)"
   ]
  },
  {
   "cell_type": "code",
   "execution_count": 4,
   "metadata": {},
   "outputs": [
    {
     "data": {
      "text/html": [
       "<div>\n",
       "<style scoped>\n",
       "    .dataframe tbody tr th:only-of-type {\n",
       "        vertical-align: middle;\n",
       "    }\n",
       "\n",
       "    .dataframe tbody tr th {\n",
       "        vertical-align: top;\n",
       "    }\n",
       "\n",
       "    .dataframe thead th {\n",
       "        text-align: right;\n",
       "    }\n",
       "</style>\n",
       "<table border=\"1\" class=\"dataframe\">\n",
       "  <thead>\n",
       "    <tr style=\"text-align: right;\">\n",
       "      <th></th>\n",
       "      <th>index</th>\n",
       "      <th>race</th>\n",
       "      <th>age</th>\n",
       "      <th>patient_id</th>\n",
       "      <th>ELIX1</th>\n",
       "      <th>ELIX2</th>\n",
       "      <th>ELIX3</th>\n",
       "      <th>ELIX4</th>\n",
       "      <th>ELIX5</th>\n",
       "      <th>ELIX6</th>\n",
       "      <th>...</th>\n",
       "      <th>drugs_m11-12</th>\n",
       "      <th>HighUtilizationY2</th>\n",
       "      <th>claimCount</th>\n",
       "      <th>A</th>\n",
       "      <th>Am.N</th>\n",
       "      <th>B</th>\n",
       "      <th>H</th>\n",
       "      <th>O</th>\n",
       "      <th>U</th>\n",
       "      <th>W</th>\n",
       "    </tr>\n",
       "  </thead>\n",
       "  <tbody>\n",
       "    <tr>\n",
       "      <th>0</th>\n",
       "      <td>0</td>\n",
       "      <td>B</td>\n",
       "      <td>71</td>\n",
       "      <td>PAT136597</td>\n",
       "      <td>0</td>\n",
       "      <td>0</td>\n",
       "      <td>0</td>\n",
       "      <td>0</td>\n",
       "      <td>0</td>\n",
       "      <td>1</td>\n",
       "      <td>...</td>\n",
       "      <td>1</td>\n",
       "      <td>1</td>\n",
       "      <td>160</td>\n",
       "      <td>0</td>\n",
       "      <td>0</td>\n",
       "      <td>1</td>\n",
       "      <td>0</td>\n",
       "      <td>0</td>\n",
       "      <td>0</td>\n",
       "      <td>0</td>\n",
       "    </tr>\n",
       "    <tr>\n",
       "      <th>1</th>\n",
       "      <td>1</td>\n",
       "      <td>A</td>\n",
       "      <td>86</td>\n",
       "      <td>PAT119838</td>\n",
       "      <td>0</td>\n",
       "      <td>0</td>\n",
       "      <td>0</td>\n",
       "      <td>0</td>\n",
       "      <td>0</td>\n",
       "      <td>0</td>\n",
       "      <td>...</td>\n",
       "      <td>0</td>\n",
       "      <td>0</td>\n",
       "      <td>24</td>\n",
       "      <td>1</td>\n",
       "      <td>0</td>\n",
       "      <td>0</td>\n",
       "      <td>0</td>\n",
       "      <td>0</td>\n",
       "      <td>0</td>\n",
       "      <td>0</td>\n",
       "    </tr>\n",
       "    <tr>\n",
       "      <th>2</th>\n",
       "      <td>2</td>\n",
       "      <td>W</td>\n",
       "      <td>70</td>\n",
       "      <td>PAT11289</td>\n",
       "      <td>1</td>\n",
       "      <td>0</td>\n",
       "      <td>0</td>\n",
       "      <td>0</td>\n",
       "      <td>0</td>\n",
       "      <td>0</td>\n",
       "      <td>...</td>\n",
       "      <td>0</td>\n",
       "      <td>0</td>\n",
       "      <td>52</td>\n",
       "      <td>0</td>\n",
       "      <td>0</td>\n",
       "      <td>0</td>\n",
       "      <td>0</td>\n",
       "      <td>0</td>\n",
       "      <td>0</td>\n",
       "      <td>1</td>\n",
       "    </tr>\n",
       "    <tr>\n",
       "      <th>3</th>\n",
       "      <td>3</td>\n",
       "      <td>W</td>\n",
       "      <td>75</td>\n",
       "      <td>PAT178745</td>\n",
       "      <td>0</td>\n",
       "      <td>0</td>\n",
       "      <td>0</td>\n",
       "      <td>0</td>\n",
       "      <td>1</td>\n",
       "      <td>0</td>\n",
       "      <td>...</td>\n",
       "      <td>0</td>\n",
       "      <td>0</td>\n",
       "      <td>15</td>\n",
       "      <td>0</td>\n",
       "      <td>0</td>\n",
       "      <td>0</td>\n",
       "      <td>0</td>\n",
       "      <td>0</td>\n",
       "      <td>0</td>\n",
       "      <td>1</td>\n",
       "    </tr>\n",
       "    <tr>\n",
       "      <th>4</th>\n",
       "      <td>4</td>\n",
       "      <td>W</td>\n",
       "      <td>77</td>\n",
       "      <td>PAT50922</td>\n",
       "      <td>0</td>\n",
       "      <td>0</td>\n",
       "      <td>0</td>\n",
       "      <td>0</td>\n",
       "      <td>1</td>\n",
       "      <td>0</td>\n",
       "      <td>...</td>\n",
       "      <td>4</td>\n",
       "      <td>0</td>\n",
       "      <td>66</td>\n",
       "      <td>0</td>\n",
       "      <td>0</td>\n",
       "      <td>0</td>\n",
       "      <td>0</td>\n",
       "      <td>0</td>\n",
       "      <td>0</td>\n",
       "      <td>1</td>\n",
       "    </tr>\n",
       "  </tbody>\n",
       "</table>\n",
       "<p>5 rows × 76 columns</p>\n",
       "</div>"
      ],
      "text/plain": [
       "   index race  age patient_id  ELIX1  ELIX2  ELIX3  ELIX4  ELIX5  ELIX6 ...  \\\n",
       "0      0    B   71  PAT136597      0      0      0      0      0      1 ...   \n",
       "1      1    A   86  PAT119838      0      0      0      0      0      0 ...   \n",
       "2      2    W   70   PAT11289      1      0      0      0      0      0 ...   \n",
       "3      3    W   75  PAT178745      0      0      0      0      1      0 ...   \n",
       "4      4    W   77   PAT50922      0      0      0      0      1      0 ...   \n",
       "\n",
       "   drugs_m11-12  HighUtilizationY2  claimCount  A  Am.N  B  H  O  U  W  \n",
       "0             1                  1         160  0     0  1  0  0  0  0  \n",
       "1             0                  0          24  1     0  0  0  0  0  0  \n",
       "2             0                  0          52  0     0  0  0  0  0  1  \n",
       "3             0                  0          15  0     0  0  0  0  0  1  \n",
       "4             4                  0          66  0     0  0  0  0  0  1  \n",
       "\n",
       "[5 rows x 76 columns]"
      ]
     },
     "execution_count": 4,
     "metadata": {},
     "output_type": "execute_result"
    }
   ],
   "source": [
    "df=df.join(pd.get_dummies(df.race))\n",
    "df.head()"
   ]
  },
  {
   "cell_type": "code",
   "execution_count": 5,
   "metadata": {},
   "outputs": [],
   "source": [
    "cols=list(df.columns)\n",
    "cols.remove('index')\n",
    "cols.remove('race')\n",
    "cols.remove('patient_id')\n",
    "cols.remove('HighUtilizationY2')\n",
    "cols.remove('claimCount')"
   ]
  },
  {
   "cell_type": "code",
   "execution_count": 6,
   "metadata": {},
   "outputs": [],
   "source": [
    "from sklearn.model_selection import train_test_split\n",
    "tr, ts = train_test_split(df)"
   ]
  },
  {
   "cell_type": "code",
   "execution_count": 7,
   "metadata": {},
   "outputs": [
    {
     "name": "stderr",
     "output_type": "stream",
     "text": [
      "C:\\Users\\Merin\\Anaconda3\\lib\\site-packages\\sklearn\\ensemble\\weight_boosting.py:29: DeprecationWarning: numpy.core.umath_tests is an internal NumPy module and should not be imported. It will be removed in a future NumPy release.\n",
      "  from numpy.core.umath_tests import inner1d\n"
     ]
    }
   ],
   "source": [
    "from skopt.space import Integer, Categorical, Real\n",
    "from skopt.utils import use_named_args\n",
    "from skopt import gp_minimize"
   ]
  },
  {
   "cell_type": "markdown",
   "metadata": {},
   "source": [
    "### Random Forest"
   ]
  },
  {
   "cell_type": "code",
   "execution_count": 8,
   "metadata": {},
   "outputs": [],
   "source": [
    "space = [Integer(10, 60, name='n_estimators'),\n",
    "         Categorical(['sqrt', 'log2'], name='max_features'),\n",
    "         Categorical(['gini','entropy'], name='criterion')]"
   ]
  },
  {
   "cell_type": "code",
   "execution_count": 9,
   "metadata": {},
   "outputs": [],
   "source": [
    "from sklearn.ensemble import RandomForestClassifier\n",
    "from sklearn.model_selection import cross_val_score\n",
    "import numpy as np\n",
    "@use_named_args(space)\n",
    "def objective(**params):\n",
    "    rf = RandomForestClassifier(**params)\n",
    "    return -np.mean(cross_val_score(rf, tr[cols], tr['HighUtilizationY2'], cv=5, n_jobs=1, scoring='roc_auc'))"
   ]
  },
  {
   "cell_type": "code",
   "execution_count": 10,
   "metadata": {},
   "outputs": [
    {
     "name": "stdout",
     "output_type": "stream",
     "text": [
      "Iteration No: 1 started. Evaluating function at random point.\n",
      "Iteration No: 1 ended. Evaluation done at random point.\n",
      "Time taken: 27.8424\n",
      "Function value obtained: -0.7821\n",
      "Current minimum: -0.7821\n",
      "Iteration No: 2 started. Evaluating function at random point.\n",
      "Iteration No: 2 ended. Evaluation done at random point.\n",
      "Time taken: 16.9411\n",
      "Function value obtained: -0.7631\n",
      "Current minimum: -0.7821\n",
      "Iteration No: 3 started. Evaluating function at random point.\n",
      "Iteration No: 3 ended. Evaluation done at random point.\n",
      "Time taken: 44.3927\n",
      "Function value obtained: -0.7938\n",
      "Current minimum: -0.7938\n",
      "Iteration No: 4 started. Evaluating function at random point.\n",
      "Iteration No: 4 ended. Evaluation done at random point.\n",
      "Time taken: 49.4298\n",
      "Function value obtained: -0.7947\n",
      "Current minimum: -0.7947\n",
      "Iteration No: 5 started. Evaluating function at random point.\n",
      "Iteration No: 5 ended. Evaluation done at random point.\n",
      "Time taken: 43.6415\n",
      "Function value obtained: -0.7928\n",
      "Current minimum: -0.7947\n",
      "Iteration No: 6 started. Evaluating function at random point.\n",
      "Iteration No: 6 ended. Evaluation done at random point.\n",
      "Time taken: 56.1004\n",
      "Function value obtained: -0.7968\n",
      "Current minimum: -0.7968\n",
      "Iteration No: 7 started. Evaluating function at random point.\n",
      "Iteration No: 7 ended. Evaluation done at random point.\n",
      "Time taken: 38.9804\n",
      "Function value obtained: -0.7894\n",
      "Current minimum: -0.7968\n",
      "Iteration No: 8 started. Evaluating function at random point.\n",
      "Iteration No: 8 ended. Evaluation done at random point.\n",
      "Time taken: 16.9838\n",
      "Function value obtained: -0.7726\n",
      "Current minimum: -0.7968\n",
      "Iteration No: 9 started. Evaluating function at random point.\n",
      "Iteration No: 9 ended. Evaluation done at random point.\n",
      "Time taken: 34.9425\n",
      "Function value obtained: -0.7891\n",
      "Current minimum: -0.7968\n",
      "Iteration No: 10 started. Evaluating function at random point.\n",
      "Iteration No: 10 ended. Evaluation done at random point.\n",
      "Time taken: 52.9106\n",
      "Function value obtained: -0.7930\n",
      "Current minimum: -0.7968\n",
      "Iteration No: 11 started. Searching for the next optimal point.\n",
      "Iteration No: 11 ended. Search finished for the next optimal point.\n",
      "Time taken: 57.1828\n",
      "Function value obtained: -0.7920\n",
      "Current minimum: -0.7968\n",
      "Iteration No: 12 started. Searching for the next optimal point.\n",
      "Iteration No: 12 ended. Search finished for the next optimal point.\n",
      "Time taken: 50.3600\n",
      "Function value obtained: -0.7956\n",
      "Current minimum: -0.7968\n",
      "Iteration No: 13 started. Searching for the next optimal point.\n",
      "Iteration No: 13 ended. Search finished for the next optimal point.\n",
      "Time taken: 47.9213\n",
      "Function value obtained: -0.7937\n",
      "Current minimum: -0.7968\n",
      "Iteration No: 14 started. Searching for the next optimal point.\n"
     ]
    },
    {
     "name": "stderr",
     "output_type": "stream",
     "text": [
      "C:\\Users\\Merin\\Anaconda3\\lib\\site-packages\\skopt\\optimizer\\optimizer.py:399: UserWarning: The objective has been evaluated at this point before.\n",
      "  warnings.warn(\"The objective has been evaluated \"\n"
     ]
    },
    {
     "name": "stdout",
     "output_type": "stream",
     "text": [
      "Iteration No: 14 ended. Search finished for the next optimal point.\n",
      "Time taken: 50.8696\n",
      "Function value obtained: -0.7940\n",
      "Current minimum: -0.7968\n",
      "Iteration No: 15 started. Searching for the next optimal point.\n",
      "Iteration No: 15 ended. Search finished for the next optimal point.\n",
      "Time taken: 61.3936\n",
      "Function value obtained: -0.7955\n",
      "Current minimum: -0.7968\n",
      "Iteration No: 16 started. Searching for the next optimal point.\n"
     ]
    },
    {
     "name": "stderr",
     "output_type": "stream",
     "text": [
      "C:\\Users\\Merin\\Anaconda3\\lib\\site-packages\\skopt\\optimizer\\optimizer.py:399: UserWarning: The objective has been evaluated at this point before.\n",
      "  warnings.warn(\"The objective has been evaluated \"\n"
     ]
    },
    {
     "name": "stdout",
     "output_type": "stream",
     "text": [
      "Iteration No: 16 ended. Search finished for the next optimal point.\n",
      "Time taken: 58.8520\n",
      "Function value obtained: -0.7929\n",
      "Current minimum: -0.7968\n",
      "Iteration No: 17 started. Searching for the next optimal point.\n"
     ]
    },
    {
     "name": "stderr",
     "output_type": "stream",
     "text": [
      "C:\\Users\\Merin\\Anaconda3\\lib\\site-packages\\skopt\\optimizer\\optimizer.py:399: UserWarning: The objective has been evaluated at this point before.\n",
      "  warnings.warn(\"The objective has been evaluated \"\n"
     ]
    },
    {
     "name": "stdout",
     "output_type": "stream",
     "text": [
      "Iteration No: 17 ended. Search finished for the next optimal point.\n",
      "Time taken: 54.2397\n",
      "Function value obtained: -0.7960\n",
      "Current minimum: -0.7968\n",
      "Iteration No: 18 started. Searching for the next optimal point.\n",
      "Iteration No: 18 ended. Search finished for the next optimal point.\n",
      "Time taken: 46.7184\n",
      "Function value obtained: -0.7912\n",
      "Current minimum: -0.7968\n",
      "Iteration No: 19 started. Searching for the next optimal point.\n"
     ]
    },
    {
     "name": "stderr",
     "output_type": "stream",
     "text": [
      "C:\\Users\\Merin\\Anaconda3\\lib\\site-packages\\skopt\\optimizer\\optimizer.py:399: UserWarning: The objective has been evaluated at this point before.\n",
      "  warnings.warn(\"The objective has been evaluated \"\n"
     ]
    },
    {
     "name": "stdout",
     "output_type": "stream",
     "text": [
      "Iteration No: 19 ended. Search finished for the next optimal point.\n",
      "Time taken: 58.8987\n",
      "Function value obtained: -0.7925\n",
      "Current minimum: -0.7968\n",
      "Iteration No: 20 started. Searching for the next optimal point.\n",
      "Iteration No: 20 ended. Search finished for the next optimal point.\n",
      "Time taken: 49.1297\n",
      "Function value obtained: -0.7925\n",
      "Current minimum: -0.7968\n",
      "Iteration No: 21 started. Searching for the next optimal point.\n"
     ]
    },
    {
     "name": "stderr",
     "output_type": "stream",
     "text": [
      "C:\\Users\\Merin\\Anaconda3\\lib\\site-packages\\skopt\\optimizer\\optimizer.py:399: UserWarning: The objective has been evaluated at this point before.\n",
      "  warnings.warn(\"The objective has been evaluated \"\n"
     ]
    },
    {
     "name": "stdout",
     "output_type": "stream",
     "text": [
      "Iteration No: 21 ended. Search finished for the next optimal point.\n",
      "Time taken: 50.7064\n",
      "Function value obtained: -0.7958\n",
      "Current minimum: -0.7968\n",
      "Iteration No: 22 started. Searching for the next optimal point.\n"
     ]
    },
    {
     "name": "stderr",
     "output_type": "stream",
     "text": [
      "C:\\Users\\Merin\\Anaconda3\\lib\\site-packages\\skopt\\optimizer\\optimizer.py:399: UserWarning: The objective has been evaluated at this point before.\n",
      "  warnings.warn(\"The objective has been evaluated \"\n"
     ]
    },
    {
     "name": "stdout",
     "output_type": "stream",
     "text": [
      "Iteration No: 22 ended. Search finished for the next optimal point.\n",
      "Time taken: 51.4440\n",
      "Function value obtained: -0.7966\n",
      "Current minimum: -0.7968\n",
      "Iteration No: 23 started. Searching for the next optimal point.\n",
      "Iteration No: 23 ended. Search finished for the next optimal point.\n",
      "Time taken: 39.5774\n",
      "Function value obtained: -0.7917\n",
      "Current minimum: -0.7968\n",
      "Iteration No: 24 started. Searching for the next optimal point.\n"
     ]
    },
    {
     "name": "stderr",
     "output_type": "stream",
     "text": [
      "C:\\Users\\Merin\\Anaconda3\\lib\\site-packages\\skopt\\optimizer\\optimizer.py:399: UserWarning: The objective has been evaluated at this point before.\n",
      "  warnings.warn(\"The objective has been evaluated \"\n"
     ]
    },
    {
     "name": "stdout",
     "output_type": "stream",
     "text": [
      "Iteration No: 24 ended. Search finished for the next optimal point.\n",
      "Time taken: 59.5219\n",
      "Function value obtained: -0.7967\n",
      "Current minimum: -0.7968\n",
      "Iteration No: 25 started. Searching for the next optimal point.\n"
     ]
    },
    {
     "name": "stderr",
     "output_type": "stream",
     "text": [
      "C:\\Users\\Merin\\Anaconda3\\lib\\site-packages\\skopt\\optimizer\\optimizer.py:399: UserWarning: The objective has been evaluated at this point before.\n",
      "  warnings.warn(\"The objective has been evaluated \"\n"
     ]
    },
    {
     "name": "stdout",
     "output_type": "stream",
     "text": [
      "Iteration No: 25 ended. Search finished for the next optimal point.\n",
      "Time taken: 56.0379\n",
      "Function value obtained: -0.7943\n",
      "Current minimum: -0.7968\n",
      "Iteration No: 26 started. Searching for the next optimal point.\n",
      "Iteration No: 26 ended. Search finished for the next optimal point.\n",
      "Time taken: 9.7104\n",
      "Function value obtained: -0.7382\n",
      "Current minimum: -0.7968\n",
      "Iteration No: 27 started. Searching for the next optimal point.\n"
     ]
    },
    {
     "name": "stderr",
     "output_type": "stream",
     "text": [
      "C:\\Users\\Merin\\Anaconda3\\lib\\site-packages\\skopt\\optimizer\\optimizer.py:399: UserWarning: The objective has been evaluated at this point before.\n",
      "  warnings.warn(\"The objective has been evaluated \"\n"
     ]
    },
    {
     "name": "stdout",
     "output_type": "stream",
     "text": [
      "Iteration No: 27 ended. Search finished for the next optimal point.\n",
      "Time taken: 50.6889\n",
      "Function value obtained: -0.7955\n",
      "Current minimum: -0.7968\n",
      "Iteration No: 28 started. Searching for the next optimal point.\n"
     ]
    },
    {
     "name": "stderr",
     "output_type": "stream",
     "text": [
      "C:\\Users\\Merin\\Anaconda3\\lib\\site-packages\\skopt\\optimizer\\optimizer.py:399: UserWarning: The objective has been evaluated at this point before.\n",
      "  warnings.warn(\"The objective has been evaluated \"\n"
     ]
    },
    {
     "name": "stdout",
     "output_type": "stream",
     "text": [
      "Iteration No: 28 ended. Search finished for the next optimal point.\n",
      "Time taken: 53.1116\n",
      "Function value obtained: -0.7965\n",
      "Current minimum: -0.7968\n",
      "Iteration No: 29 started. Searching for the next optimal point.\n",
      "Iteration No: 29 ended. Search finished for the next optimal point.\n",
      "Time taken: 34.8376\n",
      "Function value obtained: -0.7829\n",
      "Current minimum: -0.7968\n",
      "Iteration No: 30 started. Searching for the next optimal point.\n"
     ]
    },
    {
     "name": "stderr",
     "output_type": "stream",
     "text": [
      "C:\\Users\\Merin\\Anaconda3\\lib\\site-packages\\skopt\\optimizer\\optimizer.py:399: UserWarning: The objective has been evaluated at this point before.\n",
      "  warnings.warn(\"The objective has been evaluated \"\n"
     ]
    },
    {
     "name": "stdout",
     "output_type": "stream",
     "text": [
      "Iteration No: 30 ended. Search finished for the next optimal point.\n",
      "Time taken: 51.5717\n",
      "Function value obtained: -0.7972\n",
      "Current minimum: -0.7972\n",
      "Iteration No: 31 started. Searching for the next optimal point.\n",
      "Iteration No: 31 ended. Search finished for the next optimal point.\n",
      "Time taken: 44.5812\n",
      "Function value obtained: -0.7956\n",
      "Current minimum: -0.7972\n",
      "Iteration No: 32 started. Searching for the next optimal point.\n",
      "Iteration No: 32 ended. Search finished for the next optimal point.\n",
      "Time taken: 52.6403\n",
      "Function value obtained: -0.7926\n",
      "Current minimum: -0.7972\n",
      "Iteration No: 33 started. Searching for the next optimal point.\n",
      "Iteration No: 33 ended. Search finished for the next optimal point.\n",
      "Time taken: 37.1590\n",
      "Function value obtained: -0.7918\n",
      "Current minimum: -0.7972\n",
      "Iteration No: 34 started. Searching for the next optimal point.\n"
     ]
    },
    {
     "name": "stderr",
     "output_type": "stream",
     "text": [
      "C:\\Users\\Merin\\Anaconda3\\lib\\site-packages\\skopt\\optimizer\\optimizer.py:399: UserWarning: The objective has been evaluated at this point before.\n",
      "  warnings.warn(\"The objective has been evaluated \"\n"
     ]
    },
    {
     "name": "stdout",
     "output_type": "stream",
     "text": [
      "Iteration No: 34 ended. Search finished for the next optimal point.\n",
      "Time taken: 53.6472\n",
      "Function value obtained: -0.7952\n",
      "Current minimum: -0.7972\n",
      "Iteration No: 35 started. Searching for the next optimal point.\n",
      "Iteration No: 35 ended. Search finished for the next optimal point.\n",
      "Time taken: 45.1578\n",
      "Function value obtained: -0.7933\n",
      "Current minimum: -0.7972\n",
      "Iteration No: 36 started. Searching for the next optimal point.\n"
     ]
    },
    {
     "name": "stderr",
     "output_type": "stream",
     "text": [
      "C:\\Users\\Merin\\Anaconda3\\lib\\site-packages\\skopt\\optimizer\\optimizer.py:399: UserWarning: The objective has been evaluated at this point before.\n",
      "  warnings.warn(\"The objective has been evaluated \"\n"
     ]
    },
    {
     "name": "stdout",
     "output_type": "stream",
     "text": [
      "Iteration No: 36 ended. Search finished for the next optimal point.\n",
      "Time taken: 52.5960\n",
      "Function value obtained: -0.7962\n",
      "Current minimum: -0.7972\n",
      "Iteration No: 37 started. Searching for the next optimal point.\n"
     ]
    },
    {
     "name": "stderr",
     "output_type": "stream",
     "text": [
      "C:\\Users\\Merin\\Anaconda3\\lib\\site-packages\\skopt\\optimizer\\optimizer.py:399: UserWarning: The objective has been evaluated at this point before.\n",
      "  warnings.warn(\"The objective has been evaluated \"\n"
     ]
    },
    {
     "name": "stdout",
     "output_type": "stream",
     "text": [
      "Iteration No: 37 ended. Search finished for the next optimal point.\n",
      "Time taken: 52.7834\n",
      "Function value obtained: -0.7956\n",
      "Current minimum: -0.7972\n",
      "Iteration No: 38 started. Searching for the next optimal point.\n"
     ]
    },
    {
     "name": "stderr",
     "output_type": "stream",
     "text": [
      "C:\\Users\\Merin\\Anaconda3\\lib\\site-packages\\skopt\\optimizer\\optimizer.py:399: UserWarning: The objective has been evaluated at this point before.\n",
      "  warnings.warn(\"The objective has been evaluated \"\n"
     ]
    },
    {
     "name": "stdout",
     "output_type": "stream",
     "text": [
      "Iteration No: 38 ended. Search finished for the next optimal point.\n",
      "Time taken: 52.0533\n",
      "Function value obtained: -0.7927\n",
      "Current minimum: -0.7972\n",
      "Iteration No: 39 started. Searching for the next optimal point.\n",
      "Iteration No: 39 ended. Search finished for the next optimal point.\n",
      "Time taken: 35.7200\n",
      "Function value obtained: -0.7903\n",
      "Current minimum: -0.7972\n",
      "Iteration No: 40 started. Searching for the next optimal point.\n"
     ]
    },
    {
     "name": "stderr",
     "output_type": "stream",
     "text": [
      "C:\\Users\\Merin\\Anaconda3\\lib\\site-packages\\skopt\\optimizer\\optimizer.py:399: UserWarning: The objective has been evaluated at this point before.\n",
      "  warnings.warn(\"The objective has been evaluated \"\n"
     ]
    },
    {
     "name": "stdout",
     "output_type": "stream",
     "text": [
      "Iteration No: 40 ended. Search finished for the next optimal point.\n",
      "Time taken: 44.7042\n",
      "Function value obtained: -0.7941\n",
      "Current minimum: -0.7972\n",
      "Iteration No: 41 started. Searching for the next optimal point.\n",
      "Iteration No: 41 ended. Search finished for the next optimal point.\n",
      "Time taken: 25.6170\n",
      "Function value obtained: -0.7802\n",
      "Current minimum: -0.7972\n",
      "Iteration No: 42 started. Searching for the next optimal point.\n"
     ]
    },
    {
     "name": "stderr",
     "output_type": "stream",
     "text": [
      "C:\\Users\\Merin\\Anaconda3\\lib\\site-packages\\skopt\\optimizer\\optimizer.py:399: UserWarning: The objective has been evaluated at this point before.\n",
      "  warnings.warn(\"The objective has been evaluated \"\n"
     ]
    },
    {
     "name": "stdout",
     "output_type": "stream",
     "text": [
      "Iteration No: 42 ended. Search finished for the next optimal point.\n",
      "Time taken: 58.6820\n",
      "Function value obtained: -0.7947\n",
      "Current minimum: -0.7972\n",
      "Iteration No: 43 started. Searching for the next optimal point.\n",
      "Iteration No: 43 ended. Search finished for the next optimal point.\n",
      "Time taken: 54.1530\n",
      "Function value obtained: -0.7926\n",
      "Current minimum: -0.7972\n",
      "Iteration No: 44 started. Searching for the next optimal point.\n"
     ]
    },
    {
     "name": "stderr",
     "output_type": "stream",
     "text": [
      "C:\\Users\\Merin\\Anaconda3\\lib\\site-packages\\skopt\\optimizer\\optimizer.py:399: UserWarning: The objective has been evaluated at this point before.\n",
      "  warnings.warn(\"The objective has been evaluated \"\n"
     ]
    },
    {
     "name": "stdout",
     "output_type": "stream",
     "text": [
      "Iteration No: 44 ended. Search finished for the next optimal point.\n",
      "Time taken: 52.8031\n",
      "Function value obtained: -0.7964\n",
      "Current minimum: -0.7972\n",
      "Iteration No: 45 started. Searching for the next optimal point.\n",
      "Iteration No: 45 ended. Search finished for the next optimal point.\n",
      "Time taken: 41.2014\n",
      "Function value obtained: -0.7887\n",
      "Current minimum: -0.7972\n",
      "Iteration No: 46 started. Searching for the next optimal point.\n"
     ]
    },
    {
     "name": "stderr",
     "output_type": "stream",
     "text": [
      "C:\\Users\\Merin\\Anaconda3\\lib\\site-packages\\skopt\\optimizer\\optimizer.py:399: UserWarning: The objective has been evaluated at this point before.\n",
      "  warnings.warn(\"The objective has been evaluated \"\n"
     ]
    },
    {
     "name": "stdout",
     "output_type": "stream",
     "text": [
      "Iteration No: 46 ended. Search finished for the next optimal point.\n",
      "Time taken: 44.7544\n",
      "Function value obtained: -0.7927\n",
      "Current minimum: -0.7972\n",
      "Iteration No: 47 started. Searching for the next optimal point.\n"
     ]
    },
    {
     "name": "stderr",
     "output_type": "stream",
     "text": [
      "C:\\Users\\Merin\\Anaconda3\\lib\\site-packages\\skopt\\optimizer\\optimizer.py:399: UserWarning: The objective has been evaluated at this point before.\n",
      "  warnings.warn(\"The objective has been evaluated \"\n"
     ]
    },
    {
     "name": "stdout",
     "output_type": "stream",
     "text": [
      "Iteration No: 47 ended. Search finished for the next optimal point.\n",
      "Time taken: 52.2642\n",
      "Function value obtained: -0.7945\n",
      "Current minimum: -0.7972\n",
      "Iteration No: 48 started. Searching for the next optimal point.\n"
     ]
    },
    {
     "name": "stderr",
     "output_type": "stream",
     "text": [
      "C:\\Users\\Merin\\Anaconda3\\lib\\site-packages\\skopt\\optimizer\\optimizer.py:399: UserWarning: The objective has been evaluated at this point before.\n",
      "  warnings.warn(\"The objective has been evaluated \"\n"
     ]
    },
    {
     "name": "stdout",
     "output_type": "stream",
     "text": [
      "Iteration No: 48 ended. Search finished for the next optimal point.\n",
      "Time taken: 58.6493\n",
      "Function value obtained: -0.7939\n",
      "Current minimum: -0.7972\n",
      "Iteration No: 49 started. Searching for the next optimal point.\n"
     ]
    },
    {
     "name": "stderr",
     "output_type": "stream",
     "text": [
      "C:\\Users\\Merin\\Anaconda3\\lib\\site-packages\\skopt\\optimizer\\optimizer.py:399: UserWarning: The objective has been evaluated at this point before.\n",
      "  warnings.warn(\"The objective has been evaluated \"\n"
     ]
    },
    {
     "name": "stdout",
     "output_type": "stream",
     "text": [
      "Iteration No: 49 ended. Search finished for the next optimal point.\n",
      "Time taken: 52.0842\n",
      "Function value obtained: -0.7975\n",
      "Current minimum: -0.7975\n",
      "Iteration No: 50 started. Searching for the next optimal point.\n",
      "Iteration No: 50 ended. Search finished for the next optimal point.\n",
      "Time taken: 53.6085\n",
      "Function value obtained: -0.7941\n",
      "Current minimum: -0.7975\n",
      "Iteration No: 51 started. Searching for the next optimal point.\n"
     ]
    },
    {
     "name": "stderr",
     "output_type": "stream",
     "text": [
      "C:\\Users\\Merin\\Anaconda3\\lib\\site-packages\\skopt\\optimizer\\optimizer.py:399: UserWarning: The objective has been evaluated at this point before.\n",
      "  warnings.warn(\"The objective has been evaluated \"\n"
     ]
    },
    {
     "name": "stdout",
     "output_type": "stream",
     "text": [
      "Iteration No: 51 ended. Search finished for the next optimal point.\n",
      "Time taken: 50.5737\n",
      "Function value obtained: -0.7974\n",
      "Current minimum: -0.7975\n",
      "Iteration No: 52 started. Searching for the next optimal point.\n",
      "Iteration No: 52 ended. Search finished for the next optimal point.\n",
      "Time taken: 40.0522\n",
      "Function value obtained: -0.7922\n",
      "Current minimum: -0.7975\n",
      "Iteration No: 53 started. Searching for the next optimal point.\n"
     ]
    },
    {
     "name": "stderr",
     "output_type": "stream",
     "text": [
      "C:\\Users\\Merin\\Anaconda3\\lib\\site-packages\\skopt\\optimizer\\optimizer.py:399: UserWarning: The objective has been evaluated at this point before.\n",
      "  warnings.warn(\"The objective has been evaluated \"\n"
     ]
    },
    {
     "name": "stdout",
     "output_type": "stream",
     "text": [
      "Iteration No: 53 ended. Search finished for the next optimal point.\n",
      "Time taken: 50.3006\n",
      "Function value obtained: -0.7942\n",
      "Current minimum: -0.7975\n",
      "Iteration No: 54 started. Searching for the next optimal point.\n"
     ]
    },
    {
     "name": "stderr",
     "output_type": "stream",
     "text": [
      "C:\\Users\\Merin\\Anaconda3\\lib\\site-packages\\skopt\\optimizer\\optimizer.py:399: UserWarning: The objective has been evaluated at this point before.\n",
      "  warnings.warn(\"The objective has been evaluated \"\n"
     ]
    },
    {
     "name": "stdout",
     "output_type": "stream",
     "text": [
      "Iteration No: 54 ended. Search finished for the next optimal point.\n",
      "Time taken: 57.1252\n",
      "Function value obtained: -0.7957\n",
      "Current minimum: -0.7975\n",
      "Iteration No: 55 started. Searching for the next optimal point.\n",
      "Iteration No: 55 ended. Search finished for the next optimal point.\n",
      "Time taken: 44.4628\n",
      "Function value obtained: -0.7944\n",
      "Current minimum: -0.7975\n",
      "Iteration No: 56 started. Searching for the next optimal point.\n",
      "Iteration No: 56 ended. Search finished for the next optimal point.\n",
      "Time taken: 36.4784\n",
      "Function value obtained: -0.7875\n",
      "Current minimum: -0.7975\n",
      "Iteration No: 57 started. Searching for the next optimal point.\n"
     ]
    },
    {
     "name": "stderr",
     "output_type": "stream",
     "text": [
      "C:\\Users\\Merin\\Anaconda3\\lib\\site-packages\\skopt\\optimizer\\optimizer.py:399: UserWarning: The objective has been evaluated at this point before.\n",
      "  warnings.warn(\"The objective has been evaluated \"\n"
     ]
    },
    {
     "name": "stdout",
     "output_type": "stream",
     "text": [
      "Iteration No: 57 ended. Search finished for the next optimal point.\n",
      "Time taken: 50.5740\n",
      "Function value obtained: -0.7970\n",
      "Current minimum: -0.7975\n",
      "Iteration No: 58 started. Searching for the next optimal point.\n"
     ]
    },
    {
     "name": "stderr",
     "output_type": "stream",
     "text": [
      "C:\\Users\\Merin\\Anaconda3\\lib\\site-packages\\skopt\\optimizer\\optimizer.py:399: UserWarning: The objective has been evaluated at this point before.\n",
      "  warnings.warn(\"The objective has been evaluated \"\n"
     ]
    },
    {
     "name": "stdout",
     "output_type": "stream",
     "text": [
      "Iteration No: 58 ended. Search finished for the next optimal point.\n",
      "Time taken: 50.9245\n",
      "Function value obtained: -0.7960\n",
      "Current minimum: -0.7975\n",
      "Iteration No: 59 started. Searching for the next optimal point.\n"
     ]
    },
    {
     "name": "stderr",
     "output_type": "stream",
     "text": [
      "C:\\Users\\Merin\\Anaconda3\\lib\\site-packages\\skopt\\optimizer\\optimizer.py:399: UserWarning: The objective has been evaluated at this point before.\n",
      "  warnings.warn(\"The objective has been evaluated \"\n"
     ]
    },
    {
     "name": "stdout",
     "output_type": "stream",
     "text": [
      "Iteration No: 59 ended. Search finished for the next optimal point.\n",
      "Time taken: 54.0618\n",
      "Function value obtained: -0.7935\n",
      "Current minimum: -0.7975\n",
      "Iteration No: 60 started. Searching for the next optimal point.\n"
     ]
    },
    {
     "name": "stderr",
     "output_type": "stream",
     "text": [
      "C:\\Users\\Merin\\Anaconda3\\lib\\site-packages\\skopt\\optimizer\\optimizer.py:399: UserWarning: The objective has been evaluated at this point before.\n",
      "  warnings.warn(\"The objective has been evaluated \"\n"
     ]
    },
    {
     "name": "stdout",
     "output_type": "stream",
     "text": [
      "Iteration No: 60 ended. Search finished for the next optimal point.\n",
      "Time taken: 60.1919\n",
      "Function value obtained: -0.7951\n",
      "Current minimum: -0.7975\n",
      "Iteration No: 61 started. Searching for the next optimal point.\n"
     ]
    },
    {
     "name": "stderr",
     "output_type": "stream",
     "text": [
      "C:\\Users\\Merin\\Anaconda3\\lib\\site-packages\\skopt\\optimizer\\optimizer.py:399: UserWarning: The objective has been evaluated at this point before.\n",
      "  warnings.warn(\"The objective has been evaluated \"\n"
     ]
    },
    {
     "name": "stdout",
     "output_type": "stream",
     "text": [
      "Iteration No: 61 ended. Search finished for the next optimal point.\n",
      "Time taken: 52.6059\n",
      "Function value obtained: -0.7960\n",
      "Current minimum: -0.7975\n",
      "Iteration No: 62 started. Searching for the next optimal point.\n",
      "Iteration No: 62 ended. Search finished for the next optimal point.\n",
      "Time taken: 39.1032\n",
      "Function value obtained: -0.7911\n",
      "Current minimum: -0.7975\n",
      "Iteration No: 63 started. Searching for the next optimal point.\n"
     ]
    },
    {
     "name": "stderr",
     "output_type": "stream",
     "text": [
      "C:\\Users\\Merin\\Anaconda3\\lib\\site-packages\\skopt\\optimizer\\optimizer.py:399: UserWarning: The objective has been evaluated at this point before.\n",
      "  warnings.warn(\"The objective has been evaluated \"\n"
     ]
    },
    {
     "name": "stdout",
     "output_type": "stream",
     "text": [
      "Iteration No: 63 ended. Search finished for the next optimal point.\n",
      "Time taken: 46.8205\n",
      "Function value obtained: -0.7945\n",
      "Current minimum: -0.7975\n",
      "Iteration No: 64 started. Searching for the next optimal point.\n"
     ]
    },
    {
     "name": "stderr",
     "output_type": "stream",
     "text": [
      "C:\\Users\\Merin\\Anaconda3\\lib\\site-packages\\skopt\\optimizer\\optimizer.py:399: UserWarning: The objective has been evaluated at this point before.\n",
      "  warnings.warn(\"The objective has been evaluated \"\n"
     ]
    },
    {
     "name": "stdout",
     "output_type": "stream",
     "text": [
      "Iteration No: 64 ended. Search finished for the next optimal point.\n",
      "Time taken: 52.3301\n",
      "Function value obtained: -0.7963\n",
      "Current minimum: -0.7975\n",
      "Iteration No: 65 started. Searching for the next optimal point.\n"
     ]
    },
    {
     "name": "stderr",
     "output_type": "stream",
     "text": [
      "C:\\Users\\Merin\\Anaconda3\\lib\\site-packages\\skopt\\optimizer\\optimizer.py:399: UserWarning: The objective has been evaluated at this point before.\n",
      "  warnings.warn(\"The objective has been evaluated \"\n"
     ]
    },
    {
     "name": "stdout",
     "output_type": "stream",
     "text": [
      "Iteration No: 65 ended. Search finished for the next optimal point.\n",
      "Time taken: 60.2825\n",
      "Function value obtained: -0.7924\n",
      "Current minimum: -0.7975\n",
      "Iteration No: 66 started. Searching for the next optimal point.\n",
      "Iteration No: 66 ended. Search finished for the next optimal point.\n",
      "Time taken: 29.9646\n",
      "Function value obtained: -0.7801\n",
      "Current minimum: -0.7975\n",
      "Iteration No: 67 started. Searching for the next optimal point.\n"
     ]
    },
    {
     "name": "stderr",
     "output_type": "stream",
     "text": [
      "C:\\Users\\Merin\\Anaconda3\\lib\\site-packages\\skopt\\optimizer\\optimizer.py:399: UserWarning: The objective has been evaluated at this point before.\n",
      "  warnings.warn(\"The objective has been evaluated \"\n"
     ]
    },
    {
     "name": "stdout",
     "output_type": "stream",
     "text": [
      "Iteration No: 67 ended. Search finished for the next optimal point.\n",
      "Time taken: 52.5032\n",
      "Function value obtained: -0.7979\n",
      "Current minimum: -0.7979\n",
      "Iteration No: 68 started. Searching for the next optimal point.\n"
     ]
    },
    {
     "name": "stderr",
     "output_type": "stream",
     "text": [
      "C:\\Users\\Merin\\Anaconda3\\lib\\site-packages\\skopt\\optimizer\\optimizer.py:399: UserWarning: The objective has been evaluated at this point before.\n",
      "  warnings.warn(\"The objective has been evaluated \"\n"
     ]
    },
    {
     "name": "stdout",
     "output_type": "stream",
     "text": [
      "Iteration No: 68 ended. Search finished for the next optimal point.\n",
      "Time taken: 53.7205\n",
      "Function value obtained: -0.7943\n",
      "Current minimum: -0.7979\n",
      "Iteration No: 69 started. Searching for the next optimal point.\n",
      "Iteration No: 69 ended. Search finished for the next optimal point.\n",
      "Time taken: 35.1622\n",
      "Function value obtained: -0.7884\n",
      "Current minimum: -0.7979\n",
      "Iteration No: 70 started. Searching for the next optimal point.\n"
     ]
    },
    {
     "name": "stderr",
     "output_type": "stream",
     "text": [
      "C:\\Users\\Merin\\Anaconda3\\lib\\site-packages\\skopt\\optimizer\\optimizer.py:399: UserWarning: The objective has been evaluated at this point before.\n",
      "  warnings.warn(\"The objective has been evaluated \"\n"
     ]
    },
    {
     "name": "stdout",
     "output_type": "stream",
     "text": [
      "Iteration No: 70 ended. Search finished for the next optimal point.\n",
      "Time taken: 46.0380\n",
      "Function value obtained: -0.7943\n",
      "Current minimum: -0.7979\n",
      "Iteration No: 71 started. Searching for the next optimal point.\n",
      "Iteration No: 71 ended. Search finished for the next optimal point.\n",
      "Time taken: 46.0224\n",
      "Function value obtained: -0.7916\n",
      "Current minimum: -0.7979\n",
      "Iteration No: 72 started. Searching for the next optimal point.\n"
     ]
    },
    {
     "name": "stderr",
     "output_type": "stream",
     "text": [
      "C:\\Users\\Merin\\Anaconda3\\lib\\site-packages\\skopt\\optimizer\\optimizer.py:399: UserWarning: The objective has been evaluated at this point before.\n",
      "  warnings.warn(\"The objective has been evaluated \"\n"
     ]
    },
    {
     "name": "stdout",
     "output_type": "stream",
     "text": [
      "Iteration No: 72 ended. Search finished for the next optimal point.\n",
      "Time taken: 56.8476\n",
      "Function value obtained: -0.7945\n",
      "Current minimum: -0.7979\n",
      "Iteration No: 73 started. Searching for the next optimal point.\n"
     ]
    },
    {
     "name": "stderr",
     "output_type": "stream",
     "text": [
      "C:\\Users\\Merin\\Anaconda3\\lib\\site-packages\\skopt\\optimizer\\optimizer.py:399: UserWarning: The objective has been evaluated at this point before.\n",
      "  warnings.warn(\"The objective has been evaluated \"\n"
     ]
    },
    {
     "name": "stdout",
     "output_type": "stream",
     "text": [
      "Iteration No: 73 ended. Search finished for the next optimal point.\n",
      "Time taken: 51.2041\n",
      "Function value obtained: -0.7950\n",
      "Current minimum: -0.7979\n",
      "Iteration No: 74 started. Searching for the next optimal point.\n"
     ]
    },
    {
     "name": "stderr",
     "output_type": "stream",
     "text": [
      "C:\\Users\\Merin\\Anaconda3\\lib\\site-packages\\skopt\\optimizer\\optimizer.py:399: UserWarning: The objective has been evaluated at this point before.\n",
      "  warnings.warn(\"The objective has been evaluated \"\n"
     ]
    },
    {
     "name": "stdout",
     "output_type": "stream",
     "text": [
      "Iteration No: 74 ended. Search finished for the next optimal point.\n",
      "Time taken: 52.4972\n",
      "Function value obtained: -0.7969\n",
      "Current minimum: -0.7979\n",
      "Iteration No: 75 started. Searching for the next optimal point.\n",
      "Iteration No: 75 ended. Search finished for the next optimal point.\n",
      "Time taken: 36.7661\n",
      "Function value obtained: -0.7869\n",
      "Current minimum: -0.7979\n",
      "Iteration No: 76 started. Searching for the next optimal point.\n"
     ]
    },
    {
     "name": "stderr",
     "output_type": "stream",
     "text": [
      "C:\\Users\\Merin\\Anaconda3\\lib\\site-packages\\skopt\\optimizer\\optimizer.py:399: UserWarning: The objective has been evaluated at this point before.\n",
      "  warnings.warn(\"The objective has been evaluated \"\n"
     ]
    },
    {
     "name": "stdout",
     "output_type": "stream",
     "text": [
      "Iteration No: 76 ended. Search finished for the next optimal point.\n",
      "Time taken: 53.4790\n",
      "Function value obtained: -0.7946\n",
      "Current minimum: -0.7979\n",
      "Iteration No: 77 started. Searching for the next optimal point.\n"
     ]
    },
    {
     "name": "stderr",
     "output_type": "stream",
     "text": [
      "C:\\Users\\Merin\\Anaconda3\\lib\\site-packages\\skopt\\optimizer\\optimizer.py:399: UserWarning: The objective has been evaluated at this point before.\n",
      "  warnings.warn(\"The objective has been evaluated \"\n"
     ]
    },
    {
     "name": "stdout",
     "output_type": "stream",
     "text": [
      "Iteration No: 77 ended. Search finished for the next optimal point.\n",
      "Time taken: 51.9975\n",
      "Function value obtained: -0.7970\n",
      "Current minimum: -0.7979\n",
      "Iteration No: 78 started. Searching for the next optimal point.\n"
     ]
    },
    {
     "name": "stderr",
     "output_type": "stream",
     "text": [
      "C:\\Users\\Merin\\Anaconda3\\lib\\site-packages\\skopt\\optimizer\\optimizer.py:399: UserWarning: The objective has been evaluated at this point before.\n",
      "  warnings.warn(\"The objective has been evaluated \"\n"
     ]
    },
    {
     "name": "stdout",
     "output_type": "stream",
     "text": [
      "Iteration No: 78 ended. Search finished for the next optimal point.\n",
      "Time taken: 59.3938\n",
      "Function value obtained: -0.7958\n",
      "Current minimum: -0.7979\n",
      "Iteration No: 79 started. Searching for the next optimal point.\n"
     ]
    },
    {
     "name": "stderr",
     "output_type": "stream",
     "text": [
      "C:\\Users\\Merin\\Anaconda3\\lib\\site-packages\\skopt\\optimizer\\optimizer.py:399: UserWarning: The objective has been evaluated at this point before.\n",
      "  warnings.warn(\"The objective has been evaluated \"\n"
     ]
    },
    {
     "name": "stdout",
     "output_type": "stream",
     "text": [
      "Iteration No: 79 ended. Search finished for the next optimal point.\n",
      "Time taken: 51.8227\n",
      "Function value obtained: -0.7970\n",
      "Current minimum: -0.7979\n",
      "Iteration No: 80 started. Searching for the next optimal point.\n"
     ]
    },
    {
     "name": "stderr",
     "output_type": "stream",
     "text": [
      "C:\\Users\\Merin\\Anaconda3\\lib\\site-packages\\skopt\\optimizer\\optimizer.py:399: UserWarning: The objective has been evaluated at this point before.\n",
      "  warnings.warn(\"The objective has been evaluated \"\n"
     ]
    },
    {
     "name": "stdout",
     "output_type": "stream",
     "text": [
      "Iteration No: 80 ended. Search finished for the next optimal point.\n",
      "Time taken: 58.3775\n",
      "Function value obtained: -0.7929\n",
      "Current minimum: -0.7979\n",
      "Iteration No: 81 started. Searching for the next optimal point.\n"
     ]
    },
    {
     "name": "stderr",
     "output_type": "stream",
     "text": [
      "C:\\Users\\Merin\\Anaconda3\\lib\\site-packages\\skopt\\optimizer\\optimizer.py:399: UserWarning: The objective has been evaluated at this point before.\n",
      "  warnings.warn(\"The objective has been evaluated \"\n"
     ]
    },
    {
     "name": "stdout",
     "output_type": "stream",
     "text": [
      "Iteration No: 81 ended. Search finished for the next optimal point.\n",
      "Time taken: 50.9327\n",
      "Function value obtained: -0.7963\n",
      "Current minimum: -0.7979\n",
      "Iteration No: 82 started. Searching for the next optimal point.\n"
     ]
    },
    {
     "name": "stderr",
     "output_type": "stream",
     "text": [
      "C:\\Users\\Merin\\Anaconda3\\lib\\site-packages\\skopt\\optimizer\\optimizer.py:399: UserWarning: The objective has been evaluated at this point before.\n",
      "  warnings.warn(\"The objective has been evaluated \"\n"
     ]
    },
    {
     "name": "stdout",
     "output_type": "stream",
     "text": [
      "Iteration No: 82 ended. Search finished for the next optimal point.\n",
      "Time taken: 51.4420\n",
      "Function value obtained: -0.7962\n",
      "Current minimum: -0.7979\n",
      "Iteration No: 83 started. Searching for the next optimal point.\n"
     ]
    },
    {
     "name": "stderr",
     "output_type": "stream",
     "text": [
      "C:\\Users\\Merin\\Anaconda3\\lib\\site-packages\\skopt\\optimizer\\optimizer.py:399: UserWarning: The objective has been evaluated at this point before.\n",
      "  warnings.warn(\"The objective has been evaluated \"\n"
     ]
    },
    {
     "name": "stdout",
     "output_type": "stream",
     "text": [
      "Iteration No: 83 ended. Search finished for the next optimal point.\n",
      "Time taken: 52.1978\n",
      "Function value obtained: -0.7965\n",
      "Current minimum: -0.7979\n",
      "Iteration No: 84 started. Searching for the next optimal point.\n",
      "Iteration No: 84 ended. Search finished for the next optimal point.\n",
      "Time taken: 26.0932\n",
      "Function value obtained: -0.7783\n",
      "Current minimum: -0.7979\n",
      "Iteration No: 85 started. Searching for the next optimal point.\n"
     ]
    },
    {
     "name": "stderr",
     "output_type": "stream",
     "text": [
      "C:\\Users\\Merin\\Anaconda3\\lib\\site-packages\\skopt\\optimizer\\optimizer.py:399: UserWarning: The objective has been evaluated at this point before.\n",
      "  warnings.warn(\"The objective has been evaluated \"\n"
     ]
    },
    {
     "name": "stdout",
     "output_type": "stream",
     "text": [
      "Iteration No: 85 ended. Search finished for the next optimal point.\n",
      "Time taken: 46.9952\n",
      "Function value obtained: -0.7935\n",
      "Current minimum: -0.7979\n",
      "Iteration No: 86 started. Searching for the next optimal point.\n"
     ]
    },
    {
     "name": "stderr",
     "output_type": "stream",
     "text": [
      "C:\\Users\\Merin\\Anaconda3\\lib\\site-packages\\skopt\\optimizer\\optimizer.py:399: UserWarning: The objective has been evaluated at this point before.\n",
      "  warnings.warn(\"The objective has been evaluated \"\n"
     ]
    },
    {
     "name": "stdout",
     "output_type": "stream",
     "text": [
      "Iteration No: 86 ended. Search finished for the next optimal point.\n",
      "Time taken: 53.6732\n",
      "Function value obtained: -0.7932\n",
      "Current minimum: -0.7979\n",
      "Iteration No: 87 started. Searching for the next optimal point.\n"
     ]
    },
    {
     "name": "stderr",
     "output_type": "stream",
     "text": [
      "C:\\Users\\Merin\\Anaconda3\\lib\\site-packages\\skopt\\optimizer\\optimizer.py:399: UserWarning: The objective has been evaluated at this point before.\n",
      "  warnings.warn(\"The objective has been evaluated \"\n"
     ]
    },
    {
     "name": "stdout",
     "output_type": "stream",
     "text": [
      "Iteration No: 87 ended. Search finished for the next optimal point.\n",
      "Time taken: 52.4130\n",
      "Function value obtained: -0.7969\n",
      "Current minimum: -0.7979\n",
      "Iteration No: 88 started. Searching for the next optimal point.\n"
     ]
    },
    {
     "name": "stderr",
     "output_type": "stream",
     "text": [
      "C:\\Users\\Merin\\Anaconda3\\lib\\site-packages\\skopt\\optimizer\\optimizer.py:399: UserWarning: The objective has been evaluated at this point before.\n",
      "  warnings.warn(\"The objective has been evaluated \"\n"
     ]
    },
    {
     "name": "stdout",
     "output_type": "stream",
     "text": [
      "Iteration No: 88 ended. Search finished for the next optimal point.\n",
      "Time taken: 51.1700\n",
      "Function value obtained: -0.7962\n",
      "Current minimum: -0.7979\n",
      "Iteration No: 89 started. Searching for the next optimal point.\n"
     ]
    },
    {
     "name": "stderr",
     "output_type": "stream",
     "text": [
      "C:\\Users\\Merin\\Anaconda3\\lib\\site-packages\\skopt\\optimizer\\optimizer.py:399: UserWarning: The objective has been evaluated at this point before.\n",
      "  warnings.warn(\"The objective has been evaluated \"\n"
     ]
    },
    {
     "name": "stdout",
     "output_type": "stream",
     "text": [
      "Iteration No: 89 ended. Search finished for the next optimal point.\n",
      "Time taken: 58.3304\n",
      "Function value obtained: -0.7949\n",
      "Current minimum: -0.7979\n",
      "Iteration No: 90 started. Searching for the next optimal point.\n"
     ]
    },
    {
     "name": "stderr",
     "output_type": "stream",
     "text": [
      "C:\\Users\\Merin\\Anaconda3\\lib\\site-packages\\skopt\\optimizer\\optimizer.py:399: UserWarning: The objective has been evaluated at this point before.\n",
      "  warnings.warn(\"The objective has been evaluated \"\n"
     ]
    },
    {
     "name": "stdout",
     "output_type": "stream",
     "text": [
      "Iteration No: 90 ended. Search finished for the next optimal point.\n",
      "Time taken: 54.7413\n",
      "Function value obtained: -0.7965\n",
      "Current minimum: -0.7979\n",
      "Iteration No: 91 started. Searching for the next optimal point.\n"
     ]
    },
    {
     "name": "stderr",
     "output_type": "stream",
     "text": [
      "C:\\Users\\Merin\\Anaconda3\\lib\\site-packages\\skopt\\optimizer\\optimizer.py:399: UserWarning: The objective has been evaluated at this point before.\n",
      "  warnings.warn(\"The objective has been evaluated \"\n"
     ]
    },
    {
     "name": "stdout",
     "output_type": "stream",
     "text": [
      "Iteration No: 91 ended. Search finished for the next optimal point.\n",
      "Time taken: 45.6269\n",
      "Function value obtained: -0.7959\n",
      "Current minimum: -0.7979\n",
      "Iteration No: 92 started. Searching for the next optimal point.\n"
     ]
    },
    {
     "name": "stderr",
     "output_type": "stream",
     "text": [
      "C:\\Users\\Merin\\Anaconda3\\lib\\site-packages\\skopt\\optimizer\\optimizer.py:399: UserWarning: The objective has been evaluated at this point before.\n",
      "  warnings.warn(\"The objective has been evaluated \"\n"
     ]
    },
    {
     "name": "stdout",
     "output_type": "stream",
     "text": [
      "Iteration No: 92 ended. Search finished for the next optimal point.\n",
      "Time taken: 30.3929\n",
      "Function value obtained: -0.7970\n",
      "Current minimum: -0.7979\n",
      "Iteration No: 93 started. Searching for the next optimal point.\n"
     ]
    },
    {
     "name": "stderr",
     "output_type": "stream",
     "text": [
      "C:\\Users\\Merin\\Anaconda3\\lib\\site-packages\\skopt\\optimizer\\optimizer.py:399: UserWarning: The objective has been evaluated at this point before.\n",
      "  warnings.warn(\"The objective has been evaluated \"\n"
     ]
    },
    {
     "name": "stdout",
     "output_type": "stream",
     "text": [
      "Iteration No: 93 ended. Search finished for the next optimal point.\n",
      "Time taken: 25.6687\n",
      "Function value obtained: -0.7933\n",
      "Current minimum: -0.7979\n",
      "Iteration No: 94 started. Searching for the next optimal point.\n"
     ]
    },
    {
     "name": "stderr",
     "output_type": "stream",
     "text": [
      "C:\\Users\\Merin\\Anaconda3\\lib\\site-packages\\skopt\\optimizer\\optimizer.py:399: UserWarning: The objective has been evaluated at this point before.\n",
      "  warnings.warn(\"The objective has been evaluated \"\n"
     ]
    },
    {
     "name": "stdout",
     "output_type": "stream",
     "text": [
      "Iteration No: 94 ended. Search finished for the next optimal point.\n",
      "Time taken: 28.7698\n",
      "Function value obtained: -0.7970\n",
      "Current minimum: -0.7979\n",
      "Iteration No: 95 started. Searching for the next optimal point.\n"
     ]
    },
    {
     "name": "stderr",
     "output_type": "stream",
     "text": [
      "C:\\Users\\Merin\\Anaconda3\\lib\\site-packages\\skopt\\optimizer\\optimizer.py:399: UserWarning: The objective has been evaluated at this point before.\n",
      "  warnings.warn(\"The objective has been evaluated \"\n"
     ]
    },
    {
     "name": "stdout",
     "output_type": "stream",
     "text": [
      "Iteration No: 95 ended. Search finished for the next optimal point.\n",
      "Time taken: 28.8908\n",
      "Function value obtained: -0.7968\n",
      "Current minimum: -0.7979\n",
      "Iteration No: 96 started. Searching for the next optimal point.\n"
     ]
    },
    {
     "name": "stderr",
     "output_type": "stream",
     "text": [
      "C:\\Users\\Merin\\Anaconda3\\lib\\site-packages\\skopt\\optimizer\\optimizer.py:399: UserWarning: The objective has been evaluated at this point before.\n",
      "  warnings.warn(\"The objective has been evaluated \"\n"
     ]
    },
    {
     "name": "stdout",
     "output_type": "stream",
     "text": [
      "Iteration No: 96 ended. Search finished for the next optimal point.\n",
      "Time taken: 30.2055\n",
      "Function value obtained: -0.7954\n",
      "Current minimum: -0.7979\n",
      "Iteration No: 97 started. Searching for the next optimal point.\n"
     ]
    },
    {
     "name": "stderr",
     "output_type": "stream",
     "text": [
      "C:\\Users\\Merin\\Anaconda3\\lib\\site-packages\\skopt\\optimizer\\optimizer.py:399: UserWarning: The objective has been evaluated at this point before.\n",
      "  warnings.warn(\"The objective has been evaluated \"\n"
     ]
    },
    {
     "name": "stdout",
     "output_type": "stream",
     "text": [
      "Iteration No: 97 ended. Search finished for the next optimal point.\n",
      "Time taken: 31.2006\n",
      "Function value obtained: -0.7955\n",
      "Current minimum: -0.7979\n",
      "Iteration No: 98 started. Searching for the next optimal point.\n",
      "Iteration No: 98 ended. Search finished for the next optimal point.\n",
      "Time taken: 26.4120\n",
      "Function value obtained: -0.7913\n",
      "Current minimum: -0.7979\n",
      "Iteration No: 99 started. Searching for the next optimal point.\n"
     ]
    },
    {
     "name": "stderr",
     "output_type": "stream",
     "text": [
      "C:\\Users\\Merin\\Anaconda3\\lib\\site-packages\\skopt\\optimizer\\optimizer.py:399: UserWarning: The objective has been evaluated at this point before.\n",
      "  warnings.warn(\"The objective has been evaluated \"\n"
     ]
    },
    {
     "name": "stdout",
     "output_type": "stream",
     "text": [
      "Iteration No: 99 ended. Search finished for the next optimal point.\n",
      "Time taken: 30.1787\n",
      "Function value obtained: -0.7959\n",
      "Current minimum: -0.7979\n",
      "Iteration No: 100 started. Searching for the next optimal point.\n"
     ]
    },
    {
     "name": "stderr",
     "output_type": "stream",
     "text": [
      "C:\\Users\\Merin\\Anaconda3\\lib\\site-packages\\skopt\\optimizer\\optimizer.py:399: UserWarning: The objective has been evaluated at this point before.\n",
      "  warnings.warn(\"The objective has been evaluated \"\n"
     ]
    },
    {
     "name": "stdout",
     "output_type": "stream",
     "text": [
      "Iteration No: 100 ended. Search finished for the next optimal point.\n",
      "Time taken: 34.9718\n",
      "Function value obtained: -0.7950\n",
      "Current minimum: -0.7979\n"
     ]
    }
   ],
   "source": [
    "reg_gp = gp_minimize(objective, space, verbose=True)"
   ]
  },
  {
   "cell_type": "code",
   "execution_count": 11,
   "metadata": {},
   "outputs": [
    {
     "data": {
      "text/plain": [
       "          fun: -0.7979193515683425\n",
       "    func_vals: array([-0.78207012, -0.76309939, -0.79379942, -0.79469681, -0.79284974,\n",
       "       -0.79676301, -0.78941111, -0.7726158 , -0.78914182, -0.79301477,\n",
       "       -0.79201595, -0.79561286, -0.7937242 , -0.79397446, -0.7955161 ,\n",
       "       -0.79294485, -0.7960008 , -0.79117736, -0.79248218, -0.7924592 ,\n",
       "       -0.79576144, -0.79660507, -0.79167833, -0.79668592, -0.79429308,\n",
       "       -0.73819287, -0.79545616, -0.79652635, -0.78286579, -0.79715402,\n",
       "       -0.79559944, -0.79258553, -0.79178886, -0.79518867, -0.793268  ,\n",
       "       -0.79622377, -0.79555057, -0.79265016, -0.79027588, -0.79406122,\n",
       "       -0.78021762, -0.79467003, -0.79263206, -0.79644426, -0.78868863,\n",
       "       -0.79272715, -0.79451832, -0.79390743, -0.79745551, -0.79408006,\n",
       "       -0.79740484, -0.79217537, -0.79415391, -0.79572978, -0.79444407,\n",
       "       -0.7875385 , -0.79698287, -0.79600629, -0.79351064, -0.79509331,\n",
       "       -0.79602205, -0.79112101, -0.79449032, -0.79628706, -0.79243379,\n",
       "       -0.78005059, -0.79791935, -0.79426281, -0.78842038, -0.79428482,\n",
       "       -0.7915818 , -0.79446638, -0.79503134, -0.79691705, -0.7869142 ,\n",
       "       -0.79459708, -0.79703966, -0.79575938, -0.79701956, -0.79291356,\n",
       "       -0.79632903, -0.79623838, -0.79647459, -0.77833124, -0.79352756,\n",
       "       -0.79318718, -0.79691475, -0.79623941, -0.79489148, -0.79652609,\n",
       "       -0.79594702, -0.79704735, -0.7933051 , -0.79696657, -0.79675544,\n",
       "       -0.79536702, -0.79551532, -0.79126828, -0.79588551, -0.79497598])\n",
       "       models: [GaussianProcessRegressor(alpha=1e-10, copy_X_train=True,\n",
       "             kernel=1**2 * Matern(length_scale=[1, 1, 1], nu=2.5) + WhiteKernel(noise_level=1),\n",
       "             n_restarts_optimizer=2, noise='gaussian', normalize_y=True,\n",
       "             optimizer='fmin_l_bfgs_b', random_state=1244168658), GaussianProcessRegressor(alpha=1e-10, copy_X_train=True,\n",
       "             kernel=1**2 * Matern(length_scale=[1, 1, 1], nu=2.5) + WhiteKernel(noise_level=1),\n",
       "             n_restarts_optimizer=2, noise='gaussian', normalize_y=True,\n",
       "             optimizer='fmin_l_bfgs_b', random_state=1244168658), GaussianProcessRegressor(alpha=1e-10, copy_X_train=True,\n",
       "             kernel=1**2 * Matern(length_scale=[1, 1, 1], nu=2.5) + WhiteKernel(noise_level=1),\n",
       "             n_restarts_optimizer=2, noise='gaussian', normalize_y=True,\n",
       "             optimizer='fmin_l_bfgs_b', random_state=1244168658), GaussianProcessRegressor(alpha=1e-10, copy_X_train=True,\n",
       "             kernel=1**2 * Matern(length_scale=[1, 1, 1], nu=2.5) + WhiteKernel(noise_level=1),\n",
       "             n_restarts_optimizer=2, noise='gaussian', normalize_y=True,\n",
       "             optimizer='fmin_l_bfgs_b', random_state=1244168658), GaussianProcessRegressor(alpha=1e-10, copy_X_train=True,\n",
       "             kernel=1**2 * Matern(length_scale=[1, 1, 1], nu=2.5) + WhiteKernel(noise_level=1),\n",
       "             n_restarts_optimizer=2, noise='gaussian', normalize_y=True,\n",
       "             optimizer='fmin_l_bfgs_b', random_state=1244168658), GaussianProcessRegressor(alpha=1e-10, copy_X_train=True,\n",
       "             kernel=1**2 * Matern(length_scale=[1, 1, 1], nu=2.5) + WhiteKernel(noise_level=1),\n",
       "             n_restarts_optimizer=2, noise='gaussian', normalize_y=True,\n",
       "             optimizer='fmin_l_bfgs_b', random_state=1244168658), GaussianProcessRegressor(alpha=1e-10, copy_X_train=True,\n",
       "             kernel=1**2 * Matern(length_scale=[1, 1, 1], nu=2.5) + WhiteKernel(noise_level=1),\n",
       "             n_restarts_optimizer=2, noise='gaussian', normalize_y=True,\n",
       "             optimizer='fmin_l_bfgs_b', random_state=1244168658), GaussianProcessRegressor(alpha=1e-10, copy_X_train=True,\n",
       "             kernel=1**2 * Matern(length_scale=[1, 1, 1], nu=2.5) + WhiteKernel(noise_level=1),\n",
       "             n_restarts_optimizer=2, noise='gaussian', normalize_y=True,\n",
       "             optimizer='fmin_l_bfgs_b', random_state=1244168658), GaussianProcessRegressor(alpha=1e-10, copy_X_train=True,\n",
       "             kernel=1**2 * Matern(length_scale=[1, 1, 1], nu=2.5) + WhiteKernel(noise_level=1),\n",
       "             n_restarts_optimizer=2, noise='gaussian', normalize_y=True,\n",
       "             optimizer='fmin_l_bfgs_b', random_state=1244168658), GaussianProcessRegressor(alpha=1e-10, copy_X_train=True,\n",
       "             kernel=1**2 * Matern(length_scale=[1, 1, 1], nu=2.5) + WhiteKernel(noise_level=1),\n",
       "             n_restarts_optimizer=2, noise='gaussian', normalize_y=True,\n",
       "             optimizer='fmin_l_bfgs_b', random_state=1244168658), GaussianProcessRegressor(alpha=1e-10, copy_X_train=True,\n",
       "             kernel=1**2 * Matern(length_scale=[1, 1, 1], nu=2.5) + WhiteKernel(noise_level=1),\n",
       "             n_restarts_optimizer=2, noise='gaussian', normalize_y=True,\n",
       "             optimizer='fmin_l_bfgs_b', random_state=1244168658), GaussianProcessRegressor(alpha=1e-10, copy_X_train=True,\n",
       "             kernel=1**2 * Matern(length_scale=[1, 1, 1], nu=2.5) + WhiteKernel(noise_level=1),\n",
       "             n_restarts_optimizer=2, noise='gaussian', normalize_y=True,\n",
       "             optimizer='fmin_l_bfgs_b', random_state=1244168658), GaussianProcessRegressor(alpha=1e-10, copy_X_train=True,\n",
       "             kernel=1**2 * Matern(length_scale=[1, 1, 1], nu=2.5) + WhiteKernel(noise_level=1),\n",
       "             n_restarts_optimizer=2, noise='gaussian', normalize_y=True,\n",
       "             optimizer='fmin_l_bfgs_b', random_state=1244168658), GaussianProcessRegressor(alpha=1e-10, copy_X_train=True,\n",
       "             kernel=1**2 * Matern(length_scale=[1, 1, 1], nu=2.5) + WhiteKernel(noise_level=1),\n",
       "             n_restarts_optimizer=2, noise='gaussian', normalize_y=True,\n",
       "             optimizer='fmin_l_bfgs_b', random_state=1244168658), GaussianProcessRegressor(alpha=1e-10, copy_X_train=True,\n",
       "             kernel=1**2 * Matern(length_scale=[1, 1, 1], nu=2.5) + WhiteKernel(noise_level=1),\n",
       "             n_restarts_optimizer=2, noise='gaussian', normalize_y=True,\n",
       "             optimizer='fmin_l_bfgs_b', random_state=1244168658), GaussianProcessRegressor(alpha=1e-10, copy_X_train=True,\n",
       "             kernel=1**2 * Matern(length_scale=[1, 1, 1], nu=2.5) + WhiteKernel(noise_level=1),\n",
       "             n_restarts_optimizer=2, noise='gaussian', normalize_y=True,\n",
       "             optimizer='fmin_l_bfgs_b', random_state=1244168658), GaussianProcessRegressor(alpha=1e-10, copy_X_train=True,\n",
       "             kernel=1**2 * Matern(length_scale=[1, 1, 1], nu=2.5) + WhiteKernel(noise_level=1),\n",
       "             n_restarts_optimizer=2, noise='gaussian', normalize_y=True,\n",
       "             optimizer='fmin_l_bfgs_b', random_state=1244168658), GaussianProcessRegressor(alpha=1e-10, copy_X_train=True,\n",
       "             kernel=1**2 * Matern(length_scale=[1, 1, 1], nu=2.5) + WhiteKernel(noise_level=1),\n",
       "             n_restarts_optimizer=2, noise='gaussian', normalize_y=True,\n",
       "             optimizer='fmin_l_bfgs_b', random_state=1244168658), GaussianProcessRegressor(alpha=1e-10, copy_X_train=True,\n",
       "             kernel=1**2 * Matern(length_scale=[1, 1, 1], nu=2.5) + WhiteKernel(noise_level=1),\n",
       "             n_restarts_optimizer=2, noise='gaussian', normalize_y=True,\n",
       "             optimizer='fmin_l_bfgs_b', random_state=1244168658), GaussianProcessRegressor(alpha=1e-10, copy_X_train=True,\n",
       "             kernel=1**2 * Matern(length_scale=[1, 1, 1], nu=2.5) + WhiteKernel(noise_level=1),\n",
       "             n_restarts_optimizer=2, noise='gaussian', normalize_y=True,\n",
       "             optimizer='fmin_l_bfgs_b', random_state=1244168658), GaussianProcessRegressor(alpha=1e-10, copy_X_train=True,\n",
       "             kernel=1**2 * Matern(length_scale=[1, 1, 1], nu=2.5) + WhiteKernel(noise_level=1),\n",
       "             n_restarts_optimizer=2, noise='gaussian', normalize_y=True,\n",
       "             optimizer='fmin_l_bfgs_b', random_state=1244168658), GaussianProcessRegressor(alpha=1e-10, copy_X_train=True,\n",
       "             kernel=1**2 * Matern(length_scale=[1, 1, 1], nu=2.5) + WhiteKernel(noise_level=1),\n",
       "             n_restarts_optimizer=2, noise='gaussian', normalize_y=True,\n",
       "             optimizer='fmin_l_bfgs_b', random_state=1244168658), GaussianProcessRegressor(alpha=1e-10, copy_X_train=True,\n",
       "             kernel=1**2 * Matern(length_scale=[1, 1, 1], nu=2.5) + WhiteKernel(noise_level=1),\n",
       "             n_restarts_optimizer=2, noise='gaussian', normalize_y=True,\n",
       "             optimizer='fmin_l_bfgs_b', random_state=1244168658), GaussianProcessRegressor(alpha=1e-10, copy_X_train=True,\n",
       "             kernel=1**2 * Matern(length_scale=[1, 1, 1], nu=2.5) + WhiteKernel(noise_level=1),\n",
       "             n_restarts_optimizer=2, noise='gaussian', normalize_y=True,\n",
       "             optimizer='fmin_l_bfgs_b', random_state=1244168658), GaussianProcessRegressor(alpha=1e-10, copy_X_train=True,\n",
       "             kernel=1**2 * Matern(length_scale=[1, 1, 1], nu=2.5) + WhiteKernel(noise_level=1),\n",
       "             n_restarts_optimizer=2, noise='gaussian', normalize_y=True,\n",
       "             optimizer='fmin_l_bfgs_b', random_state=1244168658), GaussianProcessRegressor(alpha=1e-10, copy_X_train=True,\n",
       "             kernel=1**2 * Matern(length_scale=[1, 1, 1], nu=2.5) + WhiteKernel(noise_level=1),\n",
       "             n_restarts_optimizer=2, noise='gaussian', normalize_y=True,\n",
       "             optimizer='fmin_l_bfgs_b', random_state=1244168658), GaussianProcessRegressor(alpha=1e-10, copy_X_train=True,\n",
       "             kernel=1**2 * Matern(length_scale=[1, 1, 1], nu=2.5) + WhiteKernel(noise_level=1),\n",
       "             n_restarts_optimizer=2, noise='gaussian', normalize_y=True,\n",
       "             optimizer='fmin_l_bfgs_b', random_state=1244168658), GaussianProcessRegressor(alpha=1e-10, copy_X_train=True,\n",
       "             kernel=1**2 * Matern(length_scale=[1, 1, 1], nu=2.5) + WhiteKernel(noise_level=1),\n",
       "             n_restarts_optimizer=2, noise='gaussian', normalize_y=True,\n",
       "             optimizer='fmin_l_bfgs_b', random_state=1244168658), GaussianProcessRegressor(alpha=1e-10, copy_X_train=True,\n",
       "             kernel=1**2 * Matern(length_scale=[1, 1, 1], nu=2.5) + WhiteKernel(noise_level=1),\n",
       "             n_restarts_optimizer=2, noise='gaussian', normalize_y=True,\n",
       "             optimizer='fmin_l_bfgs_b', random_state=1244168658), GaussianProcessRegressor(alpha=1e-10, copy_X_train=True,\n",
       "             kernel=1**2 * Matern(length_scale=[1, 1, 1], nu=2.5) + WhiteKernel(noise_level=1),\n",
       "             n_restarts_optimizer=2, noise='gaussian', normalize_y=True,\n",
       "             optimizer='fmin_l_bfgs_b', random_state=1244168658), GaussianProcessRegressor(alpha=1e-10, copy_X_train=True,\n",
       "             kernel=1**2 * Matern(length_scale=[1, 1, 1], nu=2.5) + WhiteKernel(noise_level=1),\n",
       "             n_restarts_optimizer=2, noise='gaussian', normalize_y=True,\n",
       "             optimizer='fmin_l_bfgs_b', random_state=1244168658), GaussianProcessRegressor(alpha=1e-10, copy_X_train=True,\n",
       "             kernel=1**2 * Matern(length_scale=[1, 1, 1], nu=2.5) + WhiteKernel(noise_level=1),\n",
       "             n_restarts_optimizer=2, noise='gaussian', normalize_y=True,\n",
       "             optimizer='fmin_l_bfgs_b', random_state=1244168658), GaussianProcessRegressor(alpha=1e-10, copy_X_train=True,\n",
       "             kernel=1**2 * Matern(length_scale=[1, 1, 1], nu=2.5) + WhiteKernel(noise_level=1),\n",
       "             n_restarts_optimizer=2, noise='gaussian', normalize_y=True,\n",
       "             optimizer='fmin_l_bfgs_b', random_state=1244168658), GaussianProcessRegressor(alpha=1e-10, copy_X_train=True,\n",
       "             kernel=1**2 * Matern(length_scale=[1, 1, 1], nu=2.5) + WhiteKernel(noise_level=1),\n",
       "             n_restarts_optimizer=2, noise='gaussian', normalize_y=True,\n",
       "             optimizer='fmin_l_bfgs_b', random_state=1244168658), GaussianProcessRegressor(alpha=1e-10, copy_X_train=True,\n",
       "             kernel=1**2 * Matern(length_scale=[1, 1, 1], nu=2.5) + WhiteKernel(noise_level=1),\n",
       "             n_restarts_optimizer=2, noise='gaussian', normalize_y=True,\n",
       "             optimizer='fmin_l_bfgs_b', random_state=1244168658), GaussianProcessRegressor(alpha=1e-10, copy_X_train=True,\n",
       "             kernel=1**2 * Matern(length_scale=[1, 1, 1], nu=2.5) + WhiteKernel(noise_level=1),\n",
       "             n_restarts_optimizer=2, noise='gaussian', normalize_y=True,\n",
       "             optimizer='fmin_l_bfgs_b', random_state=1244168658), GaussianProcessRegressor(alpha=1e-10, copy_X_train=True,\n",
       "             kernel=1**2 * Matern(length_scale=[1, 1, 1], nu=2.5) + WhiteKernel(noise_level=1),\n",
       "             n_restarts_optimizer=2, noise='gaussian', normalize_y=True,\n",
       "             optimizer='fmin_l_bfgs_b', random_state=1244168658), GaussianProcessRegressor(alpha=1e-10, copy_X_train=True,\n",
       "             kernel=1**2 * Matern(length_scale=[1, 1, 1], nu=2.5) + WhiteKernel(noise_level=1),\n",
       "             n_restarts_optimizer=2, noise='gaussian', normalize_y=True,\n",
       "             optimizer='fmin_l_bfgs_b', random_state=1244168658), GaussianProcessRegressor(alpha=1e-10, copy_X_train=True,\n",
       "             kernel=1**2 * Matern(length_scale=[1, 1, 1], nu=2.5) + WhiteKernel(noise_level=1),\n",
       "             n_restarts_optimizer=2, noise='gaussian', normalize_y=True,\n",
       "             optimizer='fmin_l_bfgs_b', random_state=1244168658), GaussianProcessRegressor(alpha=1e-10, copy_X_train=True,\n",
       "             kernel=1**2 * Matern(length_scale=[1, 1, 1], nu=2.5) + WhiteKernel(noise_level=1),\n",
       "             n_restarts_optimizer=2, noise='gaussian', normalize_y=True,\n",
       "             optimizer='fmin_l_bfgs_b', random_state=1244168658), GaussianProcessRegressor(alpha=1e-10, copy_X_train=True,\n",
       "             kernel=1**2 * Matern(length_scale=[1, 1, 1], nu=2.5) + WhiteKernel(noise_level=1),\n",
       "             n_restarts_optimizer=2, noise='gaussian', normalize_y=True,\n",
       "             optimizer='fmin_l_bfgs_b', random_state=1244168658), GaussianProcessRegressor(alpha=1e-10, copy_X_train=True,\n",
       "             kernel=1**2 * Matern(length_scale=[1, 1, 1], nu=2.5) + WhiteKernel(noise_level=1),\n",
       "             n_restarts_optimizer=2, noise='gaussian', normalize_y=True,\n",
       "             optimizer='fmin_l_bfgs_b', random_state=1244168658), GaussianProcessRegressor(alpha=1e-10, copy_X_train=True,\n",
       "             kernel=1**2 * Matern(length_scale=[1, 1, 1], nu=2.5) + WhiteKernel(noise_level=1),\n",
       "             n_restarts_optimizer=2, noise='gaussian', normalize_y=True,\n",
       "             optimizer='fmin_l_bfgs_b', random_state=1244168658), GaussianProcessRegressor(alpha=1e-10, copy_X_train=True,\n",
       "             kernel=1**2 * Matern(length_scale=[1, 1, 1], nu=2.5) + WhiteKernel(noise_level=1),\n",
       "             n_restarts_optimizer=2, noise='gaussian', normalize_y=True,\n",
       "             optimizer='fmin_l_bfgs_b', random_state=1244168658), GaussianProcessRegressor(alpha=1e-10, copy_X_train=True,\n",
       "             kernel=1**2 * Matern(length_scale=[1, 1, 1], nu=2.5) + WhiteKernel(noise_level=1),\n",
       "             n_restarts_optimizer=2, noise='gaussian', normalize_y=True,\n",
       "             optimizer='fmin_l_bfgs_b', random_state=1244168658), GaussianProcessRegressor(alpha=1e-10, copy_X_train=True,\n",
       "             kernel=1**2 * Matern(length_scale=[1, 1, 1], nu=2.5) + WhiteKernel(noise_level=1),\n",
       "             n_restarts_optimizer=2, noise='gaussian', normalize_y=True,\n",
       "             optimizer='fmin_l_bfgs_b', random_state=1244168658), GaussianProcessRegressor(alpha=1e-10, copy_X_train=True,\n",
       "             kernel=1**2 * Matern(length_scale=[1, 1, 1], nu=2.5) + WhiteKernel(noise_level=1),\n",
       "             n_restarts_optimizer=2, noise='gaussian', normalize_y=True,\n",
       "             optimizer='fmin_l_bfgs_b', random_state=1244168658), GaussianProcessRegressor(alpha=1e-10, copy_X_train=True,\n",
       "             kernel=1**2 * Matern(length_scale=[1, 1, 1], nu=2.5) + WhiteKernel(noise_level=1),\n",
       "             n_restarts_optimizer=2, noise='gaussian', normalize_y=True,\n",
       "             optimizer='fmin_l_bfgs_b', random_state=1244168658), GaussianProcessRegressor(alpha=1e-10, copy_X_train=True,\n",
       "             kernel=1**2 * Matern(length_scale=[1, 1, 1], nu=2.5) + WhiteKernel(noise_level=1),\n",
       "             n_restarts_optimizer=2, noise='gaussian', normalize_y=True,\n",
       "             optimizer='fmin_l_bfgs_b', random_state=1244168658), GaussianProcessRegressor(alpha=1e-10, copy_X_train=True,\n",
       "             kernel=1**2 * Matern(length_scale=[1, 1, 1], nu=2.5) + WhiteKernel(noise_level=1),\n",
       "             n_restarts_optimizer=2, noise='gaussian', normalize_y=True,\n",
       "             optimizer='fmin_l_bfgs_b', random_state=1244168658), GaussianProcessRegressor(alpha=1e-10, copy_X_train=True,\n",
       "             kernel=1**2 * Matern(length_scale=[1, 1, 1], nu=2.5) + WhiteKernel(noise_level=1),\n",
       "             n_restarts_optimizer=2, noise='gaussian', normalize_y=True,\n",
       "             optimizer='fmin_l_bfgs_b', random_state=1244168658), GaussianProcessRegressor(alpha=1e-10, copy_X_train=True,\n",
       "             kernel=1**2 * Matern(length_scale=[1, 1, 1], nu=2.5) + WhiteKernel(noise_level=1),\n",
       "             n_restarts_optimizer=2, noise='gaussian', normalize_y=True,\n",
       "             optimizer='fmin_l_bfgs_b', random_state=1244168658), GaussianProcessRegressor(alpha=1e-10, copy_X_train=True,\n",
       "             kernel=1**2 * Matern(length_scale=[1, 1, 1], nu=2.5) + WhiteKernel(noise_level=1),\n",
       "             n_restarts_optimizer=2, noise='gaussian', normalize_y=True,\n",
       "             optimizer='fmin_l_bfgs_b', random_state=1244168658), GaussianProcessRegressor(alpha=1e-10, copy_X_train=True,\n",
       "             kernel=1**2 * Matern(length_scale=[1, 1, 1], nu=2.5) + WhiteKernel(noise_level=1),\n",
       "             n_restarts_optimizer=2, noise='gaussian', normalize_y=True,\n",
       "             optimizer='fmin_l_bfgs_b', random_state=1244168658), GaussianProcessRegressor(alpha=1e-10, copy_X_train=True,\n",
       "             kernel=1**2 * Matern(length_scale=[1, 1, 1], nu=2.5) + WhiteKernel(noise_level=1),\n",
       "             n_restarts_optimizer=2, noise='gaussian', normalize_y=True,\n",
       "             optimizer='fmin_l_bfgs_b', random_state=1244168658), GaussianProcessRegressor(alpha=1e-10, copy_X_train=True,\n",
       "             kernel=1**2 * Matern(length_scale=[1, 1, 1], nu=2.5) + WhiteKernel(noise_level=1),\n",
       "             n_restarts_optimizer=2, noise='gaussian', normalize_y=True,\n",
       "             optimizer='fmin_l_bfgs_b', random_state=1244168658), GaussianProcessRegressor(alpha=1e-10, copy_X_train=True,\n",
       "             kernel=1**2 * Matern(length_scale=[1, 1, 1], nu=2.5) + WhiteKernel(noise_level=1),\n",
       "             n_restarts_optimizer=2, noise='gaussian', normalize_y=True,\n",
       "             optimizer='fmin_l_bfgs_b', random_state=1244168658), GaussianProcessRegressor(alpha=1e-10, copy_X_train=True,\n",
       "             kernel=1**2 * Matern(length_scale=[1, 1, 1], nu=2.5) + WhiteKernel(noise_level=1),\n",
       "             n_restarts_optimizer=2, noise='gaussian', normalize_y=True,\n",
       "             optimizer='fmin_l_bfgs_b', random_state=1244168658), GaussianProcessRegressor(alpha=1e-10, copy_X_train=True,\n",
       "             kernel=1**2 * Matern(length_scale=[1, 1, 1], nu=2.5) + WhiteKernel(noise_level=1),\n",
       "             n_restarts_optimizer=2, noise='gaussian', normalize_y=True,\n",
       "             optimizer='fmin_l_bfgs_b', random_state=1244168658), GaussianProcessRegressor(alpha=1e-10, copy_X_train=True,\n",
       "             kernel=1**2 * Matern(length_scale=[1, 1, 1], nu=2.5) + WhiteKernel(noise_level=1),\n",
       "             n_restarts_optimizer=2, noise='gaussian', normalize_y=True,\n",
       "             optimizer='fmin_l_bfgs_b', random_state=1244168658), GaussianProcessRegressor(alpha=1e-10, copy_X_train=True,\n",
       "             kernel=1**2 * Matern(length_scale=[1, 1, 1], nu=2.5) + WhiteKernel(noise_level=1),\n",
       "             n_restarts_optimizer=2, noise='gaussian', normalize_y=True,\n",
       "             optimizer='fmin_l_bfgs_b', random_state=1244168658), GaussianProcessRegressor(alpha=1e-10, copy_X_train=True,\n",
       "             kernel=1**2 * Matern(length_scale=[1, 1, 1], nu=2.5) + WhiteKernel(noise_level=1),\n",
       "             n_restarts_optimizer=2, noise='gaussian', normalize_y=True,\n",
       "             optimizer='fmin_l_bfgs_b', random_state=1244168658), GaussianProcessRegressor(alpha=1e-10, copy_X_train=True,\n",
       "             kernel=1**2 * Matern(length_scale=[1, 1, 1], nu=2.5) + WhiteKernel(noise_level=1),\n",
       "             n_restarts_optimizer=2, noise='gaussian', normalize_y=True,\n",
       "             optimizer='fmin_l_bfgs_b', random_state=1244168658), GaussianProcessRegressor(alpha=1e-10, copy_X_train=True,\n",
       "             kernel=1**2 * Matern(length_scale=[1, 1, 1], nu=2.5) + WhiteKernel(noise_level=1),\n",
       "             n_restarts_optimizer=2, noise='gaussian', normalize_y=True,\n",
       "             optimizer='fmin_l_bfgs_b', random_state=1244168658), GaussianProcessRegressor(alpha=1e-10, copy_X_train=True,\n",
       "             kernel=1**2 * Matern(length_scale=[1, 1, 1], nu=2.5) + WhiteKernel(noise_level=1),\n",
       "             n_restarts_optimizer=2, noise='gaussian', normalize_y=True,\n",
       "             optimizer='fmin_l_bfgs_b', random_state=1244168658), GaussianProcessRegressor(alpha=1e-10, copy_X_train=True,\n",
       "             kernel=1**2 * Matern(length_scale=[1, 1, 1], nu=2.5) + WhiteKernel(noise_level=1),\n",
       "             n_restarts_optimizer=2, noise='gaussian', normalize_y=True,\n",
       "             optimizer='fmin_l_bfgs_b', random_state=1244168658), GaussianProcessRegressor(alpha=1e-10, copy_X_train=True,\n",
       "             kernel=1**2 * Matern(length_scale=[1, 1, 1], nu=2.5) + WhiteKernel(noise_level=1),\n",
       "             n_restarts_optimizer=2, noise='gaussian', normalize_y=True,\n",
       "             optimizer='fmin_l_bfgs_b', random_state=1244168658), GaussianProcessRegressor(alpha=1e-10, copy_X_train=True,\n",
       "             kernel=1**2 * Matern(length_scale=[1, 1, 1], nu=2.5) + WhiteKernel(noise_level=1),\n",
       "             n_restarts_optimizer=2, noise='gaussian', normalize_y=True,\n",
       "             optimizer='fmin_l_bfgs_b', random_state=1244168658), GaussianProcessRegressor(alpha=1e-10, copy_X_train=True,\n",
       "             kernel=1**2 * Matern(length_scale=[1, 1, 1], nu=2.5) + WhiteKernel(noise_level=1),\n",
       "             n_restarts_optimizer=2, noise='gaussian', normalize_y=True,\n",
       "             optimizer='fmin_l_bfgs_b', random_state=1244168658), GaussianProcessRegressor(alpha=1e-10, copy_X_train=True,\n",
       "             kernel=1**2 * Matern(length_scale=[1, 1, 1], nu=2.5) + WhiteKernel(noise_level=1),\n",
       "             n_restarts_optimizer=2, noise='gaussian', normalize_y=True,\n",
       "             optimizer='fmin_l_bfgs_b', random_state=1244168658), GaussianProcessRegressor(alpha=1e-10, copy_X_train=True,\n",
       "             kernel=1**2 * Matern(length_scale=[1, 1, 1], nu=2.5) + WhiteKernel(noise_level=1),\n",
       "             n_restarts_optimizer=2, noise='gaussian', normalize_y=True,\n",
       "             optimizer='fmin_l_bfgs_b', random_state=1244168658), GaussianProcessRegressor(alpha=1e-10, copy_X_train=True,\n",
       "             kernel=1**2 * Matern(length_scale=[1, 1, 1], nu=2.5) + WhiteKernel(noise_level=1),\n",
       "             n_restarts_optimizer=2, noise='gaussian', normalize_y=True,\n",
       "             optimizer='fmin_l_bfgs_b', random_state=1244168658), GaussianProcessRegressor(alpha=1e-10, copy_X_train=True,\n",
       "             kernel=1**2 * Matern(length_scale=[1, 1, 1], nu=2.5) + WhiteKernel(noise_level=1),\n",
       "             n_restarts_optimizer=2, noise='gaussian', normalize_y=True,\n",
       "             optimizer='fmin_l_bfgs_b', random_state=1244168658), GaussianProcessRegressor(alpha=1e-10, copy_X_train=True,\n",
       "             kernel=1**2 * Matern(length_scale=[1, 1, 1], nu=2.5) + WhiteKernel(noise_level=1),\n",
       "             n_restarts_optimizer=2, noise='gaussian', normalize_y=True,\n",
       "             optimizer='fmin_l_bfgs_b', random_state=1244168658), GaussianProcessRegressor(alpha=1e-10, copy_X_train=True,\n",
       "             kernel=1**2 * Matern(length_scale=[1, 1, 1], nu=2.5) + WhiteKernel(noise_level=1),\n",
       "             n_restarts_optimizer=2, noise='gaussian', normalize_y=True,\n",
       "             optimizer='fmin_l_bfgs_b', random_state=1244168658), GaussianProcessRegressor(alpha=1e-10, copy_X_train=True,\n",
       "             kernel=1**2 * Matern(length_scale=[1, 1, 1], nu=2.5) + WhiteKernel(noise_level=1),\n",
       "             n_restarts_optimizer=2, noise='gaussian', normalize_y=True,\n",
       "             optimizer='fmin_l_bfgs_b', random_state=1244168658), GaussianProcessRegressor(alpha=1e-10, copy_X_train=True,\n",
       "             kernel=1**2 * Matern(length_scale=[1, 1, 1], nu=2.5) + WhiteKernel(noise_level=1),\n",
       "             n_restarts_optimizer=2, noise='gaussian', normalize_y=True,\n",
       "             optimizer='fmin_l_bfgs_b', random_state=1244168658), GaussianProcessRegressor(alpha=1e-10, copy_X_train=True,\n",
       "             kernel=1**2 * Matern(length_scale=[1, 1, 1], nu=2.5) + WhiteKernel(noise_level=1),\n",
       "             n_restarts_optimizer=2, noise='gaussian', normalize_y=True,\n",
       "             optimizer='fmin_l_bfgs_b', random_state=1244168658), GaussianProcessRegressor(alpha=1e-10, copy_X_train=True,\n",
       "             kernel=1**2 * Matern(length_scale=[1, 1, 1], nu=2.5) + WhiteKernel(noise_level=1),\n",
       "             n_restarts_optimizer=2, noise='gaussian', normalize_y=True,\n",
       "             optimizer='fmin_l_bfgs_b', random_state=1244168658), GaussianProcessRegressor(alpha=1e-10, copy_X_train=True,\n",
       "             kernel=1**2 * Matern(length_scale=[1, 1, 1], nu=2.5) + WhiteKernel(noise_level=1),\n",
       "             n_restarts_optimizer=2, noise='gaussian', normalize_y=True,\n",
       "             optimizer='fmin_l_bfgs_b', random_state=1244168658), GaussianProcessRegressor(alpha=1e-10, copy_X_train=True,\n",
       "             kernel=1**2 * Matern(length_scale=[1, 1, 1], nu=2.5) + WhiteKernel(noise_level=1),\n",
       "             n_restarts_optimizer=2, noise='gaussian', normalize_y=True,\n",
       "             optimizer='fmin_l_bfgs_b', random_state=1244168658), GaussianProcessRegressor(alpha=1e-10, copy_X_train=True,\n",
       "             kernel=1**2 * Matern(length_scale=[1, 1, 1], nu=2.5) + WhiteKernel(noise_level=1),\n",
       "             n_restarts_optimizer=2, noise='gaussian', normalize_y=True,\n",
       "             optimizer='fmin_l_bfgs_b', random_state=1244168658), GaussianProcessRegressor(alpha=1e-10, copy_X_train=True,\n",
       "             kernel=1**2 * Matern(length_scale=[1, 1, 1], nu=2.5) + WhiteKernel(noise_level=1),\n",
       "             n_restarts_optimizer=2, noise='gaussian', normalize_y=True,\n",
       "             optimizer='fmin_l_bfgs_b', random_state=1244168658), GaussianProcessRegressor(alpha=1e-10, copy_X_train=True,\n",
       "             kernel=1**2 * Matern(length_scale=[1, 1, 1], nu=2.5) + WhiteKernel(noise_level=1),\n",
       "             n_restarts_optimizer=2, noise='gaussian', normalize_y=True,\n",
       "             optimizer='fmin_l_bfgs_b', random_state=1244168658), GaussianProcessRegressor(alpha=1e-10, copy_X_train=True,\n",
       "             kernel=1**2 * Matern(length_scale=[1, 1, 1], nu=2.5) + WhiteKernel(noise_level=1),\n",
       "             n_restarts_optimizer=2, noise='gaussian', normalize_y=True,\n",
       "             optimizer='fmin_l_bfgs_b', random_state=1244168658), GaussianProcessRegressor(alpha=1e-10, copy_X_train=True,\n",
       "             kernel=1**2 * Matern(length_scale=[1, 1, 1], nu=2.5) + WhiteKernel(noise_level=1),\n",
       "             n_restarts_optimizer=2, noise='gaussian', normalize_y=True,\n",
       "             optimizer='fmin_l_bfgs_b', random_state=1244168658), GaussianProcessRegressor(alpha=1e-10, copy_X_train=True,\n",
       "             kernel=1**2 * Matern(length_scale=[1, 1, 1], nu=2.5) + WhiteKernel(noise_level=1),\n",
       "             n_restarts_optimizer=2, noise='gaussian', normalize_y=True,\n",
       "             optimizer='fmin_l_bfgs_b', random_state=1244168658), GaussianProcessRegressor(alpha=1e-10, copy_X_train=True,\n",
       "             kernel=1**2 * Matern(length_scale=[1, 1, 1], nu=2.5) + WhiteKernel(noise_level=1),\n",
       "             n_restarts_optimizer=2, noise='gaussian', normalize_y=True,\n",
       "             optimizer='fmin_l_bfgs_b', random_state=1244168658), GaussianProcessRegressor(alpha=1e-10, copy_X_train=True,\n",
       "             kernel=1**2 * Matern(length_scale=[1, 1, 1], nu=2.5) + WhiteKernel(noise_level=1),\n",
       "             n_restarts_optimizer=2, noise='gaussian', normalize_y=True,\n",
       "             optimizer='fmin_l_bfgs_b', random_state=1244168658), GaussianProcessRegressor(alpha=1e-10, copy_X_train=True,\n",
       "             kernel=1**2 * Matern(length_scale=[1, 1, 1], nu=2.5) + WhiteKernel(noise_level=1),\n",
       "             n_restarts_optimizer=2, noise='gaussian', normalize_y=True,\n",
       "             optimizer='fmin_l_bfgs_b', random_state=1244168658), GaussianProcessRegressor(alpha=1e-10, copy_X_train=True,\n",
       "             kernel=1**2 * Matern(length_scale=[1, 1, 1], nu=2.5) + WhiteKernel(noise_level=1),\n",
       "             n_restarts_optimizer=2, noise='gaussian', normalize_y=True,\n",
       "             optimizer='fmin_l_bfgs_b', random_state=1244168658)]\n",
       " random_state: <mtrand.RandomState object at 0x0000020A41524E10>\n",
       "        space: Space([Integer(low=10, high=60),\n",
       "       Categorical(categories=('sqrt', 'log2'), prior=None),\n",
       "       Categorical(categories=('gini', 'entropy'), prior=None)])\n",
       "        specs: {'args': {'func': <function objective at 0x0000020A4B055D90>, 'dimensions': Space([Integer(low=10, high=60),\n",
       "       Categorical(categories=('sqrt', 'log2'), prior=None),\n",
       "       Categorical(categories=('gini', 'entropy'), prior=None)]), 'base_estimator': GaussianProcessRegressor(alpha=1e-10, copy_X_train=True,\n",
       "             kernel=1**2 * Matern(length_scale=[1, 1, 1], nu=2.5),\n",
       "             n_restarts_optimizer=2, noise='gaussian', normalize_y=True,\n",
       "             optimizer='fmin_l_bfgs_b', random_state=1244168658), 'n_calls': 100, 'n_random_starts': 10, 'acq_func': 'gp_hedge', 'acq_optimizer': 'auto', 'x0': None, 'y0': None, 'random_state': <mtrand.RandomState object at 0x0000020A41524E10>, 'verbose': True, 'callback': None, 'n_points': 10000, 'n_restarts_optimizer': 5, 'xi': 0.01, 'kappa': 1.96, 'n_jobs': 1}, 'function': 'base_minimize'}\n",
       "            x: [60, 'log2', 'entropy']\n",
       "      x_iters: [[32, 'log2', 'entropy'], [17, 'sqrt', 'entropy'], [55, 'log2', 'gini'], [59, 'log2', 'entropy'], [54, 'log2', 'entropy'], [58, 'sqrt', 'entropy'], [40, 'sqrt', 'entropy'], [20, 'log2', 'entropy'], [43, 'log2', 'gini'], [55, 'sqrt', 'entropy'], [60, 'sqrt', 'gini'], [60, 'log2', 'entropy'], [60, 'log2', 'gini'], [60, 'log2', 'entropy'], [60, 'sqrt', 'entropy'], [60, 'sqrt', 'gini'], [60, 'log2', 'entropy'], [48, 'sqrt', 'gini'], [60, 'sqrt', 'gini'], [48, 'sqrt', 'entropy'], [60, 'log2', 'gini'], [60, 'log2', 'entropy'], [48, 'log2', 'gini'], [60, 'sqrt', 'entropy'], [60, 'sqrt', 'gini'], [10, 'log2', 'gini'], [60, 'log2', 'entropy'], [60, 'log2', 'entropy'], [33, 'sqrt', 'gini'], [60, 'log2', 'entropy'], [52, 'log2', 'entropy'], [52, 'sqrt', 'entropy'], [42, 'log2', 'entropy'], [60, 'log2', 'entropy'], [53, 'log2', 'gini'], [60, 'log2', 'entropy'], [60, 'log2', 'entropy'], [52, 'sqrt', 'entropy'], [41, 'log2', 'entropy'], [53, 'log2', 'gini'], [30, 'log2', 'gini'], [60, 'sqrt', 'gini'], [53, 'sqrt', 'entropy'], [60, 'log2', 'entropy'], [42, 'sqrt', 'entropy'], [53, 'log2', 'gini'], [60, 'log2', 'entropy'], [60, 'sqrt', 'gini'], [60, 'log2', 'entropy'], [54, 'sqrt', 'entropy'], [60, 'log2', 'entropy'], [47, 'log2', 'entropy'], [60, 'log2', 'entropy'], [60, 'sqrt', 'gini'], [54, 'log2', 'gini'], [37, 'sqrt', 'entropy'], [60, 'log2', 'entropy'], [60, 'log2', 'entropy'], [54, 'sqrt', 'entropy'], [60, 'sqrt', 'gini'], [60, 'log2', 'entropy'], [45, 'log2', 'gini'], [54, 'log2', 'gini'], [60, 'log2', 'entropy'], [60, 'sqrt', 'gini'], [29, 'sqrt', 'gini'], [60, 'log2', 'entropy'], [53, 'sqrt', 'entropy'], [39, 'log2', 'entropy'], [54, 'log2', 'gini'], [47, 'sqrt', 'entropy'], [60, 'sqrt', 'gini'], [60, 'log2', 'entropy'], [60, 'log2', 'entropy'], [44, 'log2', 'gini'], [54, 'sqrt', 'entropy'], [60, 'log2', 'entropy'], [60, 'sqrt', 'entropy'], [60, 'log2', 'entropy'], [60, 'sqrt', 'gini'], [60, 'log2', 'entropy'], [60, 'log2', 'entropy'], [60, 'log2', 'entropy'], [29, 'log2', 'entropy'], [54, 'log2', 'gini'], [54, 'sqrt', 'entropy'], [60, 'log2', 'entropy'], [60, 'log2', 'entropy'], [60, 'sqrt', 'gini'], [60, 'log2', 'entropy'], [60, 'log2', 'entropy'], [60, 'log2', 'entropy'], [54, 'log2', 'gini'], [60, 'log2', 'entropy'], [60, 'log2', 'entropy'], [60, 'log2', 'entropy'], [60, 'log2', 'entropy'], [45, 'sqrt', 'entropy'], [60, 'log2', 'entropy'], [60, 'sqrt', 'gini']]"
      ]
     },
     "execution_count": 11,
     "metadata": {},
     "output_type": "execute_result"
    }
   ],
   "source": [
    "reg_gp"
   ]
  },
  {
   "cell_type": "code",
   "execution_count": 12,
   "metadata": {},
   "outputs": [],
   "source": [
    "from sklearn.model_selection import cross_validate\n",
    "from sklearn.ensemble import RandomForestClassifier\n",
    "from sklearn.metrics import auc\n",
    "from sklearn.metrics import roc_curve\n",
    "import numpy as np"
   ]
  },
  {
   "cell_type": "code",
   "execution_count": 13,
   "metadata": {},
   "outputs": [
    {
     "data": {
      "text/plain": [
       "RandomForestClassifier(bootstrap=True, class_weight=None, criterion='gini',\n",
       "            max_depth=None, max_features='auto', max_leaf_nodes=None,\n",
       "            min_impurity_decrease=0.0, min_impurity_split=None,\n",
       "            min_samples_leaf=1, min_samples_split=2,\n",
       "            min_weight_fraction_leaf=0.0, n_estimators=10, n_jobs=1,\n",
       "            oob_score=False, random_state=None, verbose=0,\n",
       "            warm_start=False)"
      ]
     },
     "execution_count": 13,
     "metadata": {},
     "output_type": "execute_result"
    }
   ],
   "source": [
    "rf = RandomForestClassifier()\n",
    "rf"
   ]
  },
  {
   "cell_type": "markdown",
   "metadata": {},
   "source": [
    "### Random Forest - Default parameters"
   ]
  },
  {
   "cell_type": "code",
   "execution_count": 14,
   "metadata": {},
   "outputs": [
    {
     "data": {
      "text/html": [
       "<div>\n",
       "<style scoped>\n",
       "    .dataframe tbody tr th:only-of-type {\n",
       "        vertical-align: middle;\n",
       "    }\n",
       "\n",
       "    .dataframe tbody tr th {\n",
       "        vertical-align: top;\n",
       "    }\n",
       "\n",
       "    .dataframe thead th {\n",
       "        text-align: right;\n",
       "    }\n",
       "</style>\n",
       "<table border=\"1\" class=\"dataframe\">\n",
       "  <thead>\n",
       "    <tr style=\"text-align: right;\">\n",
       "      <th></th>\n",
       "      <th>Estimators</th>\n",
       "      <th>max_features</th>\n",
       "      <th>criterion</th>\n",
       "      <th>score</th>\n",
       "      <th>score_val0</th>\n",
       "      <th>score_val1</th>\n",
       "      <th>score_val2</th>\n",
       "      <th>score_val3</th>\n",
       "      <th>score_val4</th>\n",
       "      <th>score_val5</th>\n",
       "      <th>score_val6</th>\n",
       "      <th>score_val7</th>\n",
       "      <th>score_val8</th>\n",
       "      <th>score_val9</th>\n",
       "      <th>average</th>\n",
       "    </tr>\n",
       "  </thead>\n",
       "  <tbody>\n",
       "    <tr>\n",
       "      <th>0</th>\n",
       "      <td>10</td>\n",
       "      <td>auto</td>\n",
       "      <td>gini</td>\n",
       "      <td>fit_time</td>\n",
       "      <td>1.218738</td>\n",
       "      <td>1.319470</td>\n",
       "      <td>1.124992</td>\n",
       "      <td>1.127985</td>\n",
       "      <td>1.157902</td>\n",
       "      <td>1.107039</td>\n",
       "      <td>1.111029</td>\n",
       "      <td>1.089087</td>\n",
       "      <td>1.093076</td>\n",
       "      <td>1.099063</td>\n",
       "      <td>1.144838</td>\n",
       "    </tr>\n",
       "    <tr>\n",
       "      <th>1</th>\n",
       "      <td>10</td>\n",
       "      <td>auto</td>\n",
       "      <td>gini</td>\n",
       "      <td>score_time</td>\n",
       "      <td>0.119680</td>\n",
       "      <td>0.112701</td>\n",
       "      <td>0.109707</td>\n",
       "      <td>0.111703</td>\n",
       "      <td>0.147607</td>\n",
       "      <td>0.107714</td>\n",
       "      <td>0.108741</td>\n",
       "      <td>0.107714</td>\n",
       "      <td>0.118684</td>\n",
       "      <td>0.114717</td>\n",
       "      <td>0.115897</td>\n",
       "    </tr>\n",
       "    <tr>\n",
       "      <th>2</th>\n",
       "      <td>10</td>\n",
       "      <td>auto</td>\n",
       "      <td>gini</td>\n",
       "      <td>test_roc_auc</td>\n",
       "      <td>0.737108</td>\n",
       "      <td>0.738276</td>\n",
       "      <td>0.738626</td>\n",
       "      <td>0.730029</td>\n",
       "      <td>0.734488</td>\n",
       "      <td>0.747551</td>\n",
       "      <td>0.744623</td>\n",
       "      <td>0.733488</td>\n",
       "      <td>0.733915</td>\n",
       "      <td>0.748271</td>\n",
       "      <td>0.738638</td>\n",
       "    </tr>\n",
       "    <tr>\n",
       "      <th>3</th>\n",
       "      <td>10</td>\n",
       "      <td>auto</td>\n",
       "      <td>gini</td>\n",
       "      <td>train_roc_auc</td>\n",
       "      <td>0.998612</td>\n",
       "      <td>0.998684</td>\n",
       "      <td>0.998655</td>\n",
       "      <td>0.998699</td>\n",
       "      <td>0.998655</td>\n",
       "      <td>0.998761</td>\n",
       "      <td>0.998559</td>\n",
       "      <td>0.998811</td>\n",
       "      <td>0.998866</td>\n",
       "      <td>0.998643</td>\n",
       "      <td>0.998694</td>\n",
       "    </tr>\n",
       "    <tr>\n",
       "      <th>4</th>\n",
       "      <td>10</td>\n",
       "      <td>auto</td>\n",
       "      <td>gini</td>\n",
       "      <td>test_accuracy</td>\n",
       "      <td>0.935362</td>\n",
       "      <td>0.937013</td>\n",
       "      <td>0.932531</td>\n",
       "      <td>0.935944</td>\n",
       "      <td>0.935826</td>\n",
       "      <td>0.935347</td>\n",
       "      <td>0.935347</td>\n",
       "      <td>0.935937</td>\n",
       "      <td>0.935347</td>\n",
       "      <td>0.935465</td>\n",
       "      <td>0.935412</td>\n",
       "    </tr>\n",
       "    <tr>\n",
       "      <th>5</th>\n",
       "      <td>10</td>\n",
       "      <td>auto</td>\n",
       "      <td>gini</td>\n",
       "      <td>train_accuracy</td>\n",
       "      <td>0.988819</td>\n",
       "      <td>0.989134</td>\n",
       "      <td>0.989396</td>\n",
       "      <td>0.989317</td>\n",
       "      <td>0.988885</td>\n",
       "      <td>0.988452</td>\n",
       "      <td>0.988885</td>\n",
       "      <td>0.988990</td>\n",
       "      <td>0.989173</td>\n",
       "      <td>0.988111</td>\n",
       "      <td>0.988916</td>\n",
       "    </tr>\n",
       "    <tr>\n",
       "      <th>6</th>\n",
       "      <td>10</td>\n",
       "      <td>auto</td>\n",
       "      <td>gini</td>\n",
       "      <td>test_precision</td>\n",
       "      <td>0.508333</td>\n",
       "      <td>0.583333</td>\n",
       "      <td>0.394231</td>\n",
       "      <td>0.534884</td>\n",
       "      <td>0.524272</td>\n",
       "      <td>0.504348</td>\n",
       "      <td>0.504673</td>\n",
       "      <td>0.525424</td>\n",
       "      <td>0.504505</td>\n",
       "      <td>0.509804</td>\n",
       "      <td>0.509381</td>\n",
       "    </tr>\n",
       "    <tr>\n",
       "      <th>7</th>\n",
       "      <td>10</td>\n",
       "      <td>auto</td>\n",
       "      <td>gini</td>\n",
       "      <td>train_precision</td>\n",
       "      <td>0.994678</td>\n",
       "      <td>0.993522</td>\n",
       "      <td>0.994261</td>\n",
       "      <td>0.997350</td>\n",
       "      <td>0.995404</td>\n",
       "      <td>0.995609</td>\n",
       "      <td>0.997087</td>\n",
       "      <td>0.995174</td>\n",
       "      <td>0.995190</td>\n",
       "      <td>0.996068</td>\n",
       "      <td>0.995434</td>\n",
       "    </tr>\n",
       "    <tr>\n",
       "      <th>8</th>\n",
       "      <td>10</td>\n",
       "      <td>auto</td>\n",
       "      <td>gini</td>\n",
       "      <td>test_recall</td>\n",
       "      <td>0.110909</td>\n",
       "      <td>0.101818</td>\n",
       "      <td>0.074545</td>\n",
       "      <td>0.083789</td>\n",
       "      <td>0.098361</td>\n",
       "      <td>0.105647</td>\n",
       "      <td>0.098361</td>\n",
       "      <td>0.112933</td>\n",
       "      <td>0.102004</td>\n",
       "      <td>0.094718</td>\n",
       "      <td>0.098308</td>\n",
       "    </tr>\n",
       "    <tr>\n",
       "      <th>9</th>\n",
       "      <td>10</td>\n",
       "      <td>auto</td>\n",
       "      <td>gini</td>\n",
       "      <td>train_recall</td>\n",
       "      <td>0.831883</td>\n",
       "      <td>0.837750</td>\n",
       "      <td>0.841190</td>\n",
       "      <td>0.837379</td>\n",
       "      <td>0.832322</td>\n",
       "      <td>0.825445</td>\n",
       "      <td>0.830906</td>\n",
       "      <td>0.834142</td>\n",
       "      <td>0.836974</td>\n",
       "      <td>0.819782</td>\n",
       "      <td>0.832777</td>\n",
       "    </tr>\n",
       "  </tbody>\n",
       "</table>\n",
       "</div>"
      ],
      "text/plain": [
       "  Estimators max_features criterion            score  score_val0  score_val1  \\\n",
       "0         10         auto      gini         fit_time    1.218738    1.319470   \n",
       "1         10         auto      gini       score_time    0.119680    0.112701   \n",
       "2         10         auto      gini     test_roc_auc    0.737108    0.738276   \n",
       "3         10         auto      gini    train_roc_auc    0.998612    0.998684   \n",
       "4         10         auto      gini    test_accuracy    0.935362    0.937013   \n",
       "5         10         auto      gini   train_accuracy    0.988819    0.989134   \n",
       "6         10         auto      gini   test_precision    0.508333    0.583333   \n",
       "7         10         auto      gini  train_precision    0.994678    0.993522   \n",
       "8         10         auto      gini      test_recall    0.110909    0.101818   \n",
       "9         10         auto      gini     train_recall    0.831883    0.837750   \n",
       "\n",
       "   score_val2  score_val3  score_val4  score_val5  score_val6  score_val7  \\\n",
       "0    1.124992    1.127985    1.157902    1.107039    1.111029    1.089087   \n",
       "1    0.109707    0.111703    0.147607    0.107714    0.108741    0.107714   \n",
       "2    0.738626    0.730029    0.734488    0.747551    0.744623    0.733488   \n",
       "3    0.998655    0.998699    0.998655    0.998761    0.998559    0.998811   \n",
       "4    0.932531    0.935944    0.935826    0.935347    0.935347    0.935937   \n",
       "5    0.989396    0.989317    0.988885    0.988452    0.988885    0.988990   \n",
       "6    0.394231    0.534884    0.524272    0.504348    0.504673    0.525424   \n",
       "7    0.994261    0.997350    0.995404    0.995609    0.997087    0.995174   \n",
       "8    0.074545    0.083789    0.098361    0.105647    0.098361    0.112933   \n",
       "9    0.841190    0.837379    0.832322    0.825445    0.830906    0.834142   \n",
       "\n",
       "   score_val8  score_val9   average  \n",
       "0    1.093076    1.099063  1.144838  \n",
       "1    0.118684    0.114717  0.115897  \n",
       "2    0.733915    0.748271  0.738638  \n",
       "3    0.998866    0.998643  0.998694  \n",
       "4    0.935347    0.935465  0.935412  \n",
       "5    0.989173    0.988111  0.988916  \n",
       "6    0.504505    0.509804  0.509381  \n",
       "7    0.995190    0.996068  0.995434  \n",
       "8    0.102004    0.094718  0.098308  \n",
       "9    0.836974    0.819782  0.832777  "
      ]
     },
     "execution_count": 14,
     "metadata": {},
     "output_type": "execute_result"
    }
   ],
   "source": [
    "res_rf = []\n",
    "rf = RandomForestClassifier()\n",
    "scores = [10, 'auto','gini', cross_validate(rf, tr[cols], tr['HighUtilizationY2'], \n",
    "                                            scoring=['roc_auc','accuracy','precision','recall'], cv=10)]\n",
    "res_rf.append(scores)\n",
    "res_df_rf = pd.DataFrame(columns=[\"Estimators\",\"max_features\",\"criterion\",\"score\",\"score_val0\",\"score_val1\",\"score_val2\",\n",
    "                                  \"score_val3\",\n",
    "                                  \"score_val4\",\"score_val5\",\"score_val6\",\"score_val7\",\"score_val8\",\"score_val9\",])\n",
    "cnt=0\n",
    "for r in res_rf:\n",
    "    for k,v in r[3].items():\n",
    "        l = [r[0]]\n",
    "        l.append(r[1])\n",
    "        l.append(r[2])\n",
    "        l.append(k)\n",
    "        for i in v:\n",
    "            l.append(i)\n",
    "        res_df_rf.loc[cnt]=l  \n",
    "        cnt = cnt + 1\n",
    "res_df_rf['average'] = res_df_rf[[\"score_val0\",\"score_val1\",\"score_val2\",\"score_val3\",\"score_val4\",\"score_val5\",\"score_val6\",\n",
    "                                  \"score_val7\",\"score_val8\",\"score_val9\"]].mean(numeric_only=True, axis=1)\n",
    "res_df_rf"
   ]
  },
  {
   "cell_type": "markdown",
   "metadata": {},
   "source": [
    "### Random Forest - Optimized parameters"
   ]
  },
  {
   "cell_type": "code",
   "execution_count": 15,
   "metadata": {},
   "outputs": [
    {
     "data": {
      "text/html": [
       "<div>\n",
       "<style scoped>\n",
       "    .dataframe tbody tr th:only-of-type {\n",
       "        vertical-align: middle;\n",
       "    }\n",
       "\n",
       "    .dataframe tbody tr th {\n",
       "        vertical-align: top;\n",
       "    }\n",
       "\n",
       "    .dataframe thead th {\n",
       "        text-align: right;\n",
       "    }\n",
       "</style>\n",
       "<table border=\"1\" class=\"dataframe\">\n",
       "  <thead>\n",
       "    <tr style=\"text-align: right;\">\n",
       "      <th></th>\n",
       "      <th>Estimators</th>\n",
       "      <th>max_features</th>\n",
       "      <th>criterion</th>\n",
       "      <th>score</th>\n",
       "      <th>score_val0</th>\n",
       "      <th>score_val1</th>\n",
       "      <th>score_val2</th>\n",
       "      <th>score_val3</th>\n",
       "      <th>score_val4</th>\n",
       "      <th>score_val5</th>\n",
       "      <th>score_val6</th>\n",
       "      <th>score_val7</th>\n",
       "      <th>score_val8</th>\n",
       "      <th>score_val9</th>\n",
       "      <th>average</th>\n",
       "    </tr>\n",
       "  </thead>\n",
       "  <tbody>\n",
       "    <tr>\n",
       "      <th>0</th>\n",
       "      <td>60</td>\n",
       "      <td>log2</td>\n",
       "      <td>entropy</td>\n",
       "      <td>fit_time</td>\n",
       "      <td>6.008932</td>\n",
       "      <td>5.482339</td>\n",
       "      <td>5.496301</td>\n",
       "      <td>6.210393</td>\n",
       "      <td>5.546172</td>\n",
       "      <td>5.599030</td>\n",
       "      <td>5.721702</td>\n",
       "      <td>5.461397</td>\n",
       "      <td>5.497299</td>\n",
       "      <td>5.464386</td>\n",
       "      <td>5.648795</td>\n",
       "    </tr>\n",
       "    <tr>\n",
       "      <th>1</th>\n",
       "      <td>60</td>\n",
       "      <td>log2</td>\n",
       "      <td>entropy</td>\n",
       "      <td>score_time</td>\n",
       "      <td>0.636298</td>\n",
       "      <td>0.562527</td>\n",
       "      <td>0.568482</td>\n",
       "      <td>0.613360</td>\n",
       "      <td>0.561497</td>\n",
       "      <td>0.563493</td>\n",
       "      <td>0.598398</td>\n",
       "      <td>0.558539</td>\n",
       "      <td>0.560533</td>\n",
       "      <td>0.557510</td>\n",
       "      <td>0.578064</td>\n",
       "    </tr>\n",
       "    <tr>\n",
       "      <th>2</th>\n",
       "      <td>60</td>\n",
       "      <td>log2</td>\n",
       "      <td>entropy</td>\n",
       "      <td>test_roc_auc</td>\n",
       "      <td>0.801876</td>\n",
       "      <td>0.788874</td>\n",
       "      <td>0.805129</td>\n",
       "      <td>0.785730</td>\n",
       "      <td>0.798506</td>\n",
       "      <td>0.807326</td>\n",
       "      <td>0.785357</td>\n",
       "      <td>0.798079</td>\n",
       "      <td>0.789132</td>\n",
       "      <td>0.801787</td>\n",
       "      <td>0.796180</td>\n",
       "    </tr>\n",
       "    <tr>\n",
       "      <th>3</th>\n",
       "      <td>60</td>\n",
       "      <td>log2</td>\n",
       "      <td>entropy</td>\n",
       "      <td>train_roc_auc</td>\n",
       "      <td>0.999256</td>\n",
       "      <td>0.999373</td>\n",
       "      <td>0.999299</td>\n",
       "      <td>0.999264</td>\n",
       "      <td>0.999326</td>\n",
       "      <td>0.999315</td>\n",
       "      <td>0.999185</td>\n",
       "      <td>0.999270</td>\n",
       "      <td>0.999347</td>\n",
       "      <td>0.999223</td>\n",
       "      <td>0.999286</td>\n",
       "    </tr>\n",
       "    <tr>\n",
       "      <th>4</th>\n",
       "      <td>60</td>\n",
       "      <td>log2</td>\n",
       "      <td>entropy</td>\n",
       "      <td>test_accuracy</td>\n",
       "      <td>0.937839</td>\n",
       "      <td>0.938311</td>\n",
       "      <td>0.938075</td>\n",
       "      <td>0.938658</td>\n",
       "      <td>0.936888</td>\n",
       "      <td>0.938178</td>\n",
       "      <td>0.939476</td>\n",
       "      <td>0.937353</td>\n",
       "      <td>0.937942</td>\n",
       "      <td>0.939358</td>\n",
       "      <td>0.938208</td>\n",
       "    </tr>\n",
       "    <tr>\n",
       "      <th>5</th>\n",
       "      <td>60</td>\n",
       "      <td>log2</td>\n",
       "      <td>entropy</td>\n",
       "      <td>train_accuracy</td>\n",
       "      <td>0.998178</td>\n",
       "      <td>0.998217</td>\n",
       "      <td>0.998047</td>\n",
       "      <td>0.998165</td>\n",
       "      <td>0.998191</td>\n",
       "      <td>0.998178</td>\n",
       "      <td>0.998126</td>\n",
       "      <td>0.998217</td>\n",
       "      <td>0.998283</td>\n",
       "      <td>0.998139</td>\n",
       "      <td>0.998174</td>\n",
       "    </tr>\n",
       "    <tr>\n",
       "      <th>6</th>\n",
       "      <td>60</td>\n",
       "      <td>log2</td>\n",
       "      <td>entropy</td>\n",
       "      <td>test_precision</td>\n",
       "      <td>0.653333</td>\n",
       "      <td>0.680000</td>\n",
       "      <td>0.643678</td>\n",
       "      <td>0.670588</td>\n",
       "      <td>0.572917</td>\n",
       "      <td>0.643678</td>\n",
       "      <td>0.704545</td>\n",
       "      <td>0.593750</td>\n",
       "      <td>0.635294</td>\n",
       "      <td>0.696629</td>\n",
       "      <td>0.649441</td>\n",
       "    </tr>\n",
       "    <tr>\n",
       "      <th>7</th>\n",
       "      <td>60</td>\n",
       "      <td>log2</td>\n",
       "      <td>entropy</td>\n",
       "      <td>train_precision</td>\n",
       "      <td>0.997927</td>\n",
       "      <td>0.998962</td>\n",
       "      <td>0.998959</td>\n",
       "      <td>0.999376</td>\n",
       "      <td>0.999377</td>\n",
       "      <td>0.998547</td>\n",
       "      <td>0.999376</td>\n",
       "      <td>0.998755</td>\n",
       "      <td>0.998756</td>\n",
       "      <td>0.999584</td>\n",
       "      <td>0.998962</td>\n",
       "    </tr>\n",
       "    <tr>\n",
       "      <th>8</th>\n",
       "      <td>60</td>\n",
       "      <td>log2</td>\n",
       "      <td>entropy</td>\n",
       "      <td>test_recall</td>\n",
       "      <td>0.089091</td>\n",
       "      <td>0.092727</td>\n",
       "      <td>0.101818</td>\n",
       "      <td>0.103825</td>\n",
       "      <td>0.100182</td>\n",
       "      <td>0.102004</td>\n",
       "      <td>0.112933</td>\n",
       "      <td>0.103825</td>\n",
       "      <td>0.098361</td>\n",
       "      <td>0.112933</td>\n",
       "      <td>0.101770</td>\n",
       "    </tr>\n",
       "    <tr>\n",
       "      <th>9</th>\n",
       "      <td>60</td>\n",
       "      <td>log2</td>\n",
       "      <td>entropy</td>\n",
       "      <td>train_recall</td>\n",
       "      <td>0.973902</td>\n",
       "      <td>0.973498</td>\n",
       "      <td>0.970868</td>\n",
       "      <td>0.972290</td>\n",
       "      <td>0.972694</td>\n",
       "      <td>0.973301</td>\n",
       "      <td>0.971683</td>\n",
       "      <td>0.973706</td>\n",
       "      <td>0.974717</td>\n",
       "      <td>0.971683</td>\n",
       "      <td>0.972834</td>\n",
       "    </tr>\n",
       "  </tbody>\n",
       "</table>\n",
       "</div>"
      ],
      "text/plain": [
       "  Estimators max_features criterion            score  score_val0  score_val1  \\\n",
       "0         60         log2   entropy         fit_time    6.008932    5.482339   \n",
       "1         60         log2   entropy       score_time    0.636298    0.562527   \n",
       "2         60         log2   entropy     test_roc_auc    0.801876    0.788874   \n",
       "3         60         log2   entropy    train_roc_auc    0.999256    0.999373   \n",
       "4         60         log2   entropy    test_accuracy    0.937839    0.938311   \n",
       "5         60         log2   entropy   train_accuracy    0.998178    0.998217   \n",
       "6         60         log2   entropy   test_precision    0.653333    0.680000   \n",
       "7         60         log2   entropy  train_precision    0.997927    0.998962   \n",
       "8         60         log2   entropy      test_recall    0.089091    0.092727   \n",
       "9         60         log2   entropy     train_recall    0.973902    0.973498   \n",
       "\n",
       "   score_val2  score_val3  score_val4  score_val5  score_val6  score_val7  \\\n",
       "0    5.496301    6.210393    5.546172    5.599030    5.721702    5.461397   \n",
       "1    0.568482    0.613360    0.561497    0.563493    0.598398    0.558539   \n",
       "2    0.805129    0.785730    0.798506    0.807326    0.785357    0.798079   \n",
       "3    0.999299    0.999264    0.999326    0.999315    0.999185    0.999270   \n",
       "4    0.938075    0.938658    0.936888    0.938178    0.939476    0.937353   \n",
       "5    0.998047    0.998165    0.998191    0.998178    0.998126    0.998217   \n",
       "6    0.643678    0.670588    0.572917    0.643678    0.704545    0.593750   \n",
       "7    0.998959    0.999376    0.999377    0.998547    0.999376    0.998755   \n",
       "8    0.101818    0.103825    0.100182    0.102004    0.112933    0.103825   \n",
       "9    0.970868    0.972290    0.972694    0.973301    0.971683    0.973706   \n",
       "\n",
       "   score_val8  score_val9   average  \n",
       "0    5.497299    5.464386  5.648795  \n",
       "1    0.560533    0.557510  0.578064  \n",
       "2    0.789132    0.801787  0.796180  \n",
       "3    0.999347    0.999223  0.999286  \n",
       "4    0.937942    0.939358  0.938208  \n",
       "5    0.998283    0.998139  0.998174  \n",
       "6    0.635294    0.696629  0.649441  \n",
       "7    0.998756    0.999584  0.998962  \n",
       "8    0.098361    0.112933  0.101770  \n",
       "9    0.974717    0.971683  0.972834  "
      ]
     },
     "execution_count": 15,
     "metadata": {},
     "output_type": "execute_result"
    }
   ],
   "source": [
    "res_rf = []\n",
    "rf=RandomForestClassifier(n_estimators = 60, max_features = 'log2',criterion = 'entropy')\n",
    "scores = [60, 'log2','entropy', cross_validate(rf, tr[cols], tr['HighUtilizationY2'], \n",
    "                                            scoring=['roc_auc','accuracy','precision','recall'], cv=10)]\n",
    "res_rf.append(scores)\n",
    "res_df_rf = pd.DataFrame(columns=[\"Estimators\",\"max_features\",\"criterion\",\"score\",\"score_val0\",\"score_val1\",\"score_val2\",\n",
    "                                  \"score_val3\",\n",
    "                                  \"score_val4\",\"score_val5\",\"score_val6\",\"score_val7\",\"score_val8\",\"score_val9\",])\n",
    "cnt=0\n",
    "for r in res_rf:\n",
    "    for k,v in r[3].items():\n",
    "        l = [r[0]]\n",
    "        l.append(r[1])\n",
    "        l.append(r[2])\n",
    "        l.append(k)\n",
    "        for i in v:\n",
    "            l.append(i)\n",
    "        res_df_rf.loc[cnt]=l  \n",
    "        cnt = cnt + 1\n",
    "res_df_rf['average'] = res_df_rf[[\"score_val0\",\"score_val1\",\"score_val2\",\"score_val3\",\"score_val4\",\"score_val5\",\"score_val6\",\n",
    "                                  \"score_val7\",\"score_val8\",\"score_val9\"]].mean(numeric_only=True, axis=1)\n",
    "res_df_rf"
   ]
  },
  {
   "cell_type": "markdown",
   "metadata": {},
   "source": [
    "### Logistic Regression"
   ]
  },
  {
   "cell_type": "code",
   "execution_count": 16,
   "metadata": {},
   "outputs": [],
   "source": [
    "space_lr = [Real(0.01,1.0, name='C'),\n",
    "         Categorical(['liblinear','lbfgs'], name='solver'),\n",
    "         Categorical([None, 'balanced'], name='class_weight')]"
   ]
  },
  {
   "cell_type": "code",
   "execution_count": 17,
   "metadata": {},
   "outputs": [],
   "source": [
    "from sklearn.linear_model import LogisticRegression\n",
    "from sklearn.model_selection import cross_val_score\n",
    "import numpy as np\n",
    "@use_named_args(space_lr)\n",
    "def objective(**params):\n",
    "    lr = LogisticRegression(**params)\n",
    "    return -np.mean(cross_val_score(lr, tr[cols], tr['HighUtilizationY2'], cv=5, n_jobs=1, scoring='roc_auc'))"
   ]
  },
  {
   "cell_type": "code",
   "execution_count": 18,
   "metadata": {},
   "outputs": [
    {
     "name": "stdout",
     "output_type": "stream",
     "text": [
      "Iteration No: 1 started. Evaluating function at random point.\n",
      "Iteration No: 1 ended. Evaluation done at random point.\n",
      "Time taken: 4.9956\n",
      "Function value obtained: -0.8200\n",
      "Current minimum: -0.8200\n",
      "Iteration No: 2 started. Evaluating function at random point.\n",
      "Iteration No: 2 ended. Evaluation done at random point.\n",
      "Time taken: 5.2300\n",
      "Function value obtained: -0.8199\n",
      "Current minimum: -0.8200\n",
      "Iteration No: 3 started. Evaluating function at random point.\n",
      "Iteration No: 3 ended. Evaluation done at random point.\n",
      "Time taken: 5.5182\n",
      "Function value obtained: -0.8095\n",
      "Current minimum: -0.8200\n",
      "Iteration No: 4 started. Evaluating function at random point.\n",
      "Iteration No: 4 ended. Evaluation done at random point.\n",
      "Time taken: 7.1758\n",
      "Function value obtained: -0.8197\n",
      "Current minimum: -0.8200\n",
      "Iteration No: 5 started. Evaluating function at random point.\n",
      "Iteration No: 5 ended. Evaluation done at random point.\n",
      "Time taken: 8.0455\n",
      "Function value obtained: -0.8200\n",
      "Current minimum: -0.8200\n",
      "Iteration No: 6 started. Evaluating function at random point.\n",
      "Iteration No: 6 ended. Evaluation done at random point.\n",
      "Time taken: 11.6100\n",
      "Function value obtained: -0.8221\n",
      "Current minimum: -0.8221\n",
      "Iteration No: 7 started. Evaluating function at random point.\n",
      "Iteration No: 7 ended. Evaluation done at random point.\n",
      "Time taken: 8.5172\n",
      "Function value obtained: -0.8199\n",
      "Current minimum: -0.8221\n",
      "Iteration No: 8 started. Evaluating function at random point.\n",
      "Iteration No: 8 ended. Evaluation done at random point.\n",
      "Time taken: 8.4325\n",
      "Function value obtained: -0.8218\n",
      "Current minimum: -0.8221\n",
      "Iteration No: 9 started. Evaluating function at random point.\n",
      "Iteration No: 9 ended. Evaluation done at random point.\n",
      "Time taken: 6.0458\n",
      "Function value obtained: -0.8200\n",
      "Current minimum: -0.8221\n",
      "Iteration No: 10 started. Evaluating function at random point.\n",
      "Iteration No: 10 ended. Evaluation done at random point.\n",
      "Time taken: 5.7227\n",
      "Function value obtained: -0.8100\n",
      "Current minimum: -0.8221\n",
      "Iteration No: 11 started. Searching for the next optimal point.\n",
      "Iteration No: 11 ended. Search finished for the next optimal point.\n",
      "Time taken: 16.8021\n",
      "Function value obtained: -0.8221\n",
      "Current minimum: -0.8221\n",
      "Iteration No: 12 started. Searching for the next optimal point.\n",
      "Iteration No: 12 ended. Search finished for the next optimal point.\n",
      "Time taken: 15.1236\n",
      "Function value obtained: -0.8221\n",
      "Current minimum: -0.8221\n",
      "Iteration No: 13 started. Searching for the next optimal point.\n",
      "Iteration No: 13 ended. Search finished for the next optimal point.\n",
      "Time taken: 5.4913\n",
      "Function value obtained: -0.8207\n",
      "Current minimum: -0.8221\n",
      "Iteration No: 14 started. Searching for the next optimal point.\n",
      "Iteration No: 14 ended. Search finished for the next optimal point.\n",
      "Time taken: 16.4191\n",
      "Function value obtained: -0.8221\n",
      "Current minimum: -0.8221\n",
      "Iteration No: 15 started. Searching for the next optimal point.\n"
     ]
    },
    {
     "name": "stderr",
     "output_type": "stream",
     "text": [
      "C:\\Users\\Merin\\Anaconda3\\lib\\site-packages\\skopt\\optimizer\\optimizer.py:399: UserWarning: The objective has been evaluated at this point before.\n",
      "  warnings.warn(\"The objective has been evaluated \"\n"
     ]
    },
    {
     "name": "stdout",
     "output_type": "stream",
     "text": [
      "Iteration No: 15 ended. Search finished for the next optimal point.\n",
      "Time taken: 15.6910\n",
      "Function value obtained: -0.8221\n",
      "Current minimum: -0.8221\n",
      "Iteration No: 16 started. Searching for the next optimal point.\n"
     ]
    },
    {
     "name": "stderr",
     "output_type": "stream",
     "text": [
      "C:\\Users\\Merin\\Anaconda3\\lib\\site-packages\\skopt\\optimizer\\optimizer.py:399: UserWarning: The objective has been evaluated at this point before.\n",
      "  warnings.warn(\"The objective has been evaluated \"\n"
     ]
    },
    {
     "name": "stdout",
     "output_type": "stream",
     "text": [
      "Iteration No: 16 ended. Search finished for the next optimal point.\n",
      "Time taken: 15.6619\n",
      "Function value obtained: -0.8221\n",
      "Current minimum: -0.8221\n",
      "Iteration No: 17 started. Searching for the next optimal point.\n"
     ]
    },
    {
     "name": "stderr",
     "output_type": "stream",
     "text": [
      "C:\\Users\\Merin\\Anaconda3\\lib\\site-packages\\skopt\\optimizer\\optimizer.py:399: UserWarning: The objective has been evaluated at this point before.\n",
      "  warnings.warn(\"The objective has been evaluated \"\n"
     ]
    },
    {
     "name": "stdout",
     "output_type": "stream",
     "text": [
      "Iteration No: 17 ended. Search finished for the next optimal point.\n",
      "Time taken: 15.0518\n",
      "Function value obtained: -0.8221\n",
      "Current minimum: -0.8221\n",
      "Iteration No: 18 started. Searching for the next optimal point.\n",
      "Iteration No: 18 ended. Search finished for the next optimal point.\n",
      "Time taken: 5.6758\n",
      "Function value obtained: -0.8209\n",
      "Current minimum: -0.8221\n",
      "Iteration No: 19 started. Searching for the next optimal point.\n",
      "Iteration No: 19 ended. Search finished for the next optimal point.\n",
      "Time taken: 5.3737\n",
      "Function value obtained: -0.8193\n",
      "Current minimum: -0.8221\n",
      "Iteration No: 20 started. Searching for the next optimal point.\n",
      "Iteration No: 20 ended. Search finished for the next optimal point.\n",
      "Time taken: 5.3607\n",
      "Function value obtained: -0.8207\n",
      "Current minimum: -0.8221\n",
      "Iteration No: 21 started. Searching for the next optimal point.\n",
      "Iteration No: 21 ended. Search finished for the next optimal point.\n",
      "Time taken: 8.1268\n",
      "Function value obtained: -0.8200\n",
      "Current minimum: -0.8221\n",
      "Iteration No: 22 started. Searching for the next optimal point.\n",
      "Iteration No: 22 ended. Search finished for the next optimal point.\n",
      "Time taken: 6.1685\n",
      "Function value obtained: -0.8207\n",
      "Current minimum: -0.8221\n",
      "Iteration No: 23 started. Searching for the next optimal point.\n",
      "Iteration No: 23 ended. Search finished for the next optimal point.\n",
      "Time taken: 6.4567\n",
      "Function value obtained: -0.8200\n",
      "Current minimum: -0.8221\n",
      "Iteration No: 24 started. Searching for the next optimal point.\n",
      "Iteration No: 24 ended. Search finished for the next optimal point.\n",
      "Time taken: 7.5817\n",
      "Function value obtained: -0.8201\n",
      "Current minimum: -0.8221\n",
      "Iteration No: 25 started. Searching for the next optimal point.\n"
     ]
    },
    {
     "name": "stderr",
     "output_type": "stream",
     "text": [
      "C:\\Users\\Merin\\Anaconda3\\lib\\site-packages\\skopt\\optimizer\\optimizer.py:399: UserWarning: The objective has been evaluated at this point before.\n",
      "  warnings.warn(\"The objective has been evaluated \"\n"
     ]
    },
    {
     "name": "stdout",
     "output_type": "stream",
     "text": [
      "Iteration No: 25 ended. Search finished for the next optimal point.\n",
      "Time taken: 15.2063\n",
      "Function value obtained: -0.8221\n",
      "Current minimum: -0.8221\n",
      "Iteration No: 26 started. Searching for the next optimal point.\n",
      "Iteration No: 26 ended. Search finished for the next optimal point.\n",
      "Time taken: 4.2008\n",
      "Function value obtained: -0.8091\n",
      "Current minimum: -0.8221\n",
      "Iteration No: 27 started. Searching for the next optimal point.\n",
      "Iteration No: 27 ended. Search finished for the next optimal point.\n",
      "Time taken: 16.6565\n",
      "Function value obtained: -0.8221\n",
      "Current minimum: -0.8221\n",
      "Iteration No: 28 started. Searching for the next optimal point.\n",
      "Iteration No: 28 ended. Search finished for the next optimal point.\n",
      "Time taken: 5.2879\n",
      "Function value obtained: -0.8198\n",
      "Current minimum: -0.8221\n",
      "Iteration No: 29 started. Searching for the next optimal point.\n",
      "Iteration No: 29 ended. Search finished for the next optimal point.\n",
      "Time taken: 15.7928\n",
      "Function value obtained: -0.8221\n",
      "Current minimum: -0.8221\n",
      "Iteration No: 30 started. Searching for the next optimal point.\n",
      "Iteration No: 30 ended. Search finished for the next optimal point.\n",
      "Time taken: 5.4504\n",
      "Function value obtained: -0.8207\n",
      "Current minimum: -0.8221\n",
      "Iteration No: 31 started. Searching for the next optimal point.\n",
      "Iteration No: 31 ended. Search finished for the next optimal point.\n",
      "Time taken: 5.6379\n",
      "Function value obtained: -0.8202\n",
      "Current minimum: -0.8221\n",
      "Iteration No: 32 started. Searching for the next optimal point.\n",
      "Iteration No: 32 ended. Search finished for the next optimal point.\n",
      "Time taken: 15.6043\n",
      "Function value obtained: -0.8221\n",
      "Current minimum: -0.8221\n",
      "Iteration No: 33 started. Searching for the next optimal point.\n",
      "Iteration No: 33 ended. Search finished for the next optimal point.\n",
      "Time taken: 5.2729\n",
      "Function value obtained: -0.8191\n",
      "Current minimum: -0.8221\n",
      "Iteration No: 34 started. Searching for the next optimal point.\n"
     ]
    },
    {
     "name": "stderr",
     "output_type": "stream",
     "text": [
      "C:\\Users\\Merin\\Anaconda3\\lib\\site-packages\\skopt\\optimizer\\optimizer.py:399: UserWarning: The objective has been evaluated at this point before.\n",
      "  warnings.warn(\"The objective has been evaluated \"\n"
     ]
    },
    {
     "name": "stdout",
     "output_type": "stream",
     "text": [
      "Iteration No: 34 ended. Search finished for the next optimal point.\n",
      "Time taken: 15.4806\n",
      "Function value obtained: -0.8221\n",
      "Current minimum: -0.8221\n",
      "Iteration No: 35 started. Searching for the next optimal point.\n"
     ]
    },
    {
     "name": "stderr",
     "output_type": "stream",
     "text": [
      "C:\\Users\\Merin\\Anaconda3\\lib\\site-packages\\skopt\\optimizer\\optimizer.py:399: UserWarning: The objective has been evaluated at this point before.\n",
      "  warnings.warn(\"The objective has been evaluated \"\n"
     ]
    },
    {
     "name": "stdout",
     "output_type": "stream",
     "text": [
      "Iteration No: 35 ended. Search finished for the next optimal point.\n",
      "Time taken: 16.3792\n",
      "Function value obtained: -0.8221\n",
      "Current minimum: -0.8221\n",
      "Iteration No: 36 started. Searching for the next optimal point.\n"
     ]
    },
    {
     "name": "stderr",
     "output_type": "stream",
     "text": [
      "C:\\Users\\Merin\\Anaconda3\\lib\\site-packages\\skopt\\optimizer\\optimizer.py:399: UserWarning: The objective has been evaluated at this point before.\n",
      "  warnings.warn(\"The objective has been evaluated \"\n"
     ]
    },
    {
     "name": "stdout",
     "output_type": "stream",
     "text": [
      "Iteration No: 36 ended. Search finished for the next optimal point.\n",
      "Time taken: 15.8576\n",
      "Function value obtained: -0.8221\n",
      "Current minimum: -0.8221\n",
      "Iteration No: 37 started. Searching for the next optimal point.\n",
      "Iteration No: 37 ended. Search finished for the next optimal point.\n",
      "Time taken: 6.1107\n",
      "Function value obtained: -0.8209\n",
      "Current minimum: -0.8221\n",
      "Iteration No: 38 started. Searching for the next optimal point.\n",
      "Iteration No: 38 ended. Search finished for the next optimal point.\n",
      "Time taken: 5.3437\n",
      "Function value obtained: -0.8202\n",
      "Current minimum: -0.8221\n",
      "Iteration No: 39 started. Searching for the next optimal point.\n",
      "Iteration No: 39 ended. Search finished for the next optimal point.\n",
      "Time taken: 7.7144\n",
      "Function value obtained: -0.8200\n",
      "Current minimum: -0.8221\n",
      "Iteration No: 40 started. Searching for the next optimal point.\n",
      "Iteration No: 40 ended. Search finished for the next optimal point.\n",
      "Time taken: 5.3557\n",
      "Function value obtained: -0.8208\n",
      "Current minimum: -0.8221\n",
      "Iteration No: 41 started. Searching for the next optimal point.\n",
      "Iteration No: 41 ended. Search finished for the next optimal point.\n",
      "Time taken: 5.4734\n",
      "Function value obtained: -0.8188\n",
      "Current minimum: -0.8221\n",
      "Iteration No: 42 started. Searching for the next optimal point.\n",
      "Iteration No: 42 ended. Search finished for the next optimal point.\n",
      "Time taken: 5.7875\n",
      "Function value obtained: -0.8094\n",
      "Current minimum: -0.8221\n",
      "Iteration No: 43 started. Searching for the next optimal point.\n"
     ]
    },
    {
     "name": "stderr",
     "output_type": "stream",
     "text": [
      "C:\\Users\\Merin\\Anaconda3\\lib\\site-packages\\skopt\\optimizer\\optimizer.py:399: UserWarning: The objective has been evaluated at this point before.\n",
      "  warnings.warn(\"The objective has been evaluated \"\n"
     ]
    },
    {
     "name": "stdout",
     "output_type": "stream",
     "text": [
      "Iteration No: 43 ended. Search finished for the next optimal point.\n",
      "Time taken: 16.0291\n",
      "Function value obtained: -0.8221\n",
      "Current minimum: -0.8221\n",
      "Iteration No: 44 started. Searching for the next optimal point.\n",
      "Iteration No: 44 ended. Search finished for the next optimal point.\n",
      "Time taken: 4.2945\n",
      "Function value obtained: -0.8090\n",
      "Current minimum: -0.8221\n",
      "Iteration No: 45 started. Searching for the next optimal point.\n",
      "Iteration No: 45 ended. Search finished for the next optimal point.\n",
      "Time taken: 7.7543\n",
      "Function value obtained: -0.8201\n",
      "Current minimum: -0.8221\n",
      "Iteration No: 46 started. Searching for the next optimal point.\n",
      "Iteration No: 46 ended. Search finished for the next optimal point.\n",
      "Time taken: 7.6904\n",
      "Function value obtained: -0.8201\n",
      "Current minimum: -0.8221\n",
      "Iteration No: 47 started. Searching for the next optimal point.\n",
      "Iteration No: 47 ended. Search finished for the next optimal point.\n",
      "Time taken: 5.9611\n",
      "Function value obtained: -0.8089\n",
      "Current minimum: -0.8221\n",
      "Iteration No: 48 started. Searching for the next optimal point.\n"
     ]
    },
    {
     "name": "stderr",
     "output_type": "stream",
     "text": [
      "C:\\Users\\Merin\\Anaconda3\\lib\\site-packages\\skopt\\optimizer\\optimizer.py:399: UserWarning: The objective has been evaluated at this point before.\n",
      "  warnings.warn(\"The objective has been evaluated \"\n"
     ]
    },
    {
     "name": "stdout",
     "output_type": "stream",
     "text": [
      "Iteration No: 48 ended. Search finished for the next optimal point.\n",
      "Time taken: 15.6571\n",
      "Function value obtained: -0.8221\n",
      "Current minimum: -0.8221\n",
      "Iteration No: 49 started. Searching for the next optimal point.\n"
     ]
    },
    {
     "name": "stderr",
     "output_type": "stream",
     "text": [
      "C:\\Users\\Merin\\Anaconda3\\lib\\site-packages\\skopt\\optimizer\\optimizer.py:399: UserWarning: The objective has been evaluated at this point before.\n",
      "  warnings.warn(\"The objective has been evaluated \"\n"
     ]
    },
    {
     "name": "stdout",
     "output_type": "stream",
     "text": [
      "Iteration No: 49 ended. Search finished for the next optimal point.\n",
      "Time taken: 16.2625\n",
      "Function value obtained: -0.8221\n",
      "Current minimum: -0.8221\n",
      "Iteration No: 50 started. Searching for the next optimal point.\n"
     ]
    },
    {
     "name": "stderr",
     "output_type": "stream",
     "text": [
      "C:\\Users\\Merin\\Anaconda3\\lib\\site-packages\\skopt\\optimizer\\optimizer.py:399: UserWarning: The objective has been evaluated at this point before.\n",
      "  warnings.warn(\"The objective has been evaluated \"\n"
     ]
    },
    {
     "name": "stdout",
     "output_type": "stream",
     "text": [
      "Iteration No: 50 ended. Search finished for the next optimal point.\n",
      "Time taken: 16.5767\n",
      "Function value obtained: -0.8221\n",
      "Current minimum: -0.8221\n",
      "Iteration No: 51 started. Searching for the next optimal point.\n",
      "Iteration No: 51 ended. Search finished for the next optimal point.\n",
      "Time taken: 5.7736\n",
      "Function value obtained: -0.8191\n",
      "Current minimum: -0.8221\n",
      "Iteration No: 52 started. Searching for the next optimal point.\n",
      "Iteration No: 52 ended. Search finished for the next optimal point.\n",
      "Time taken: 8.1871\n",
      "Function value obtained: -0.8200\n",
      "Current minimum: -0.8221\n",
      "Iteration No: 53 started. Searching for the next optimal point.\n",
      "Iteration No: 53 ended. Search finished for the next optimal point.\n",
      "Time taken: 4.3015\n",
      "Function value obtained: -0.8092\n",
      "Current minimum: -0.8221\n",
      "Iteration No: 54 started. Searching for the next optimal point.\n",
      "Iteration No: 54 ended. Search finished for the next optimal point.\n",
      "Time taken: 5.7077\n",
      "Function value obtained: -0.8193\n",
      "Current minimum: -0.8221\n",
      "Iteration No: 55 started. Searching for the next optimal point.\n",
      "Iteration No: 55 ended. Search finished for the next optimal point.\n",
      "Time taken: 8.4664\n",
      "Function value obtained: -0.8200\n",
      "Current minimum: -0.8221\n",
      "Iteration No: 56 started. Searching for the next optimal point.\n",
      "Iteration No: 56 ended. Search finished for the next optimal point.\n",
      "Time taken: 5.7805\n",
      "Function value obtained: -0.8200\n",
      "Current minimum: -0.8221\n",
      "Iteration No: 57 started. Searching for the next optimal point.\n"
     ]
    },
    {
     "name": "stderr",
     "output_type": "stream",
     "text": [
      "C:\\Users\\Merin\\Anaconda3\\lib\\site-packages\\skopt\\optimizer\\optimizer.py:399: UserWarning: The objective has been evaluated at this point before.\n",
      "  warnings.warn(\"The objective has been evaluated \"\n"
     ]
    },
    {
     "name": "stdout",
     "output_type": "stream",
     "text": [
      "Iteration No: 57 ended. Search finished for the next optimal point.\n",
      "Time taken: 16.6634\n",
      "Function value obtained: -0.8221\n",
      "Current minimum: -0.8221\n",
      "Iteration No: 58 started. Searching for the next optimal point.\n"
     ]
    },
    {
     "name": "stderr",
     "output_type": "stream",
     "text": [
      "C:\\Users\\Merin\\Anaconda3\\lib\\site-packages\\skopt\\optimizer\\optimizer.py:399: UserWarning: The objective has been evaluated at this point before.\n",
      "  warnings.warn(\"The objective has been evaluated \"\n"
     ]
    },
    {
     "name": "stdout",
     "output_type": "stream",
     "text": [
      "Iteration No: 58 ended. Search finished for the next optimal point.\n",
      "Time taken: 16.2386\n",
      "Function value obtained: -0.8221\n",
      "Current minimum: -0.8221\n",
      "Iteration No: 59 started. Searching for the next optimal point.\n"
     ]
    },
    {
     "name": "stderr",
     "output_type": "stream",
     "text": [
      "C:\\Users\\Merin\\Anaconda3\\lib\\site-packages\\skopt\\optimizer\\optimizer.py:399: UserWarning: The objective has been evaluated at this point before.\n",
      "  warnings.warn(\"The objective has been evaluated \"\n"
     ]
    },
    {
     "name": "stdout",
     "output_type": "stream",
     "text": [
      "Iteration No: 59 ended. Search finished for the next optimal point.\n",
      "Time taken: 15.9045\n",
      "Function value obtained: -0.8221\n",
      "Current minimum: -0.8221\n",
      "Iteration No: 60 started. Searching for the next optimal point.\n"
     ]
    },
    {
     "name": "stderr",
     "output_type": "stream",
     "text": [
      "C:\\Users\\Merin\\Anaconda3\\lib\\site-packages\\skopt\\optimizer\\optimizer.py:399: UserWarning: The objective has been evaluated at this point before.\n",
      "  warnings.warn(\"The objective has been evaluated \"\n"
     ]
    },
    {
     "name": "stdout",
     "output_type": "stream",
     "text": [
      "Iteration No: 60 ended. Search finished for the next optimal point.\n",
      "Time taken: 16.3204\n",
      "Function value obtained: -0.8221\n",
      "Current minimum: -0.8221\n",
      "Iteration No: 61 started. Searching for the next optimal point.\n",
      "Iteration No: 61 ended. Search finished for the next optimal point.\n",
      "Time taken: 5.7785\n",
      "Function value obtained: -0.8208\n",
      "Current minimum: -0.8221\n",
      "Iteration No: 62 started. Searching for the next optimal point.\n",
      "Iteration No: 62 ended. Search finished for the next optimal point.\n",
      "Time taken: 8.0944\n",
      "Function value obtained: -0.8201\n",
      "Current minimum: -0.8221\n",
      "Iteration No: 63 started. Searching for the next optimal point.\n",
      "Iteration No: 63 ended. Search finished for the next optimal point.\n",
      "Time taken: 6.3400\n",
      "Function value obtained: -0.8196\n",
      "Current minimum: -0.8221\n",
      "Iteration No: 64 started. Searching for the next optimal point.\n"
     ]
    },
    {
     "name": "stderr",
     "output_type": "stream",
     "text": [
      "C:\\Users\\Merin\\Anaconda3\\lib\\site-packages\\skopt\\optimizer\\optimizer.py:399: UserWarning: The objective has been evaluated at this point before.\n",
      "  warnings.warn(\"The objective has been evaluated \"\n"
     ]
    },
    {
     "name": "stdout",
     "output_type": "stream",
     "text": [
      "Iteration No: 64 ended. Search finished for the next optimal point.\n",
      "Time taken: 16.2545\n",
      "Function value obtained: -0.8221\n",
      "Current minimum: -0.8221\n",
      "Iteration No: 65 started. Searching for the next optimal point.\n"
     ]
    },
    {
     "name": "stderr",
     "output_type": "stream",
     "text": [
      "C:\\Users\\Merin\\Anaconda3\\lib\\site-packages\\skopt\\optimizer\\optimizer.py:399: UserWarning: The objective has been evaluated at this point before.\n",
      "  warnings.warn(\"The objective has been evaluated \"\n"
     ]
    },
    {
     "name": "stdout",
     "output_type": "stream",
     "text": [
      "Iteration No: 65 ended. Search finished for the next optimal point.\n",
      "Time taken: 16.2156\n",
      "Function value obtained: -0.8221\n",
      "Current minimum: -0.8221\n",
      "Iteration No: 66 started. Searching for the next optimal point.\n"
     ]
    },
    {
     "name": "stderr",
     "output_type": "stream",
     "text": [
      "C:\\Users\\Merin\\Anaconda3\\lib\\site-packages\\skopt\\optimizer\\optimizer.py:399: UserWarning: The objective has been evaluated at this point before.\n",
      "  warnings.warn(\"The objective has been evaluated \"\n"
     ]
    },
    {
     "name": "stdout",
     "output_type": "stream",
     "text": [
      "Iteration No: 66 ended. Search finished for the next optimal point.\n",
      "Time taken: 16.1508\n",
      "Function value obtained: -0.8221\n",
      "Current minimum: -0.8221\n",
      "Iteration No: 67 started. Searching for the next optimal point.\n"
     ]
    },
    {
     "name": "stderr",
     "output_type": "stream",
     "text": [
      "C:\\Users\\Merin\\Anaconda3\\lib\\site-packages\\skopt\\optimizer\\optimizer.py:399: UserWarning: The objective has been evaluated at this point before.\n",
      "  warnings.warn(\"The objective has been evaluated \"\n"
     ]
    },
    {
     "name": "stdout",
     "output_type": "stream",
     "text": [
      "Iteration No: 67 ended. Search finished for the next optimal point.\n",
      "Time taken: 16.4680\n",
      "Function value obtained: -0.8221\n",
      "Current minimum: -0.8221\n",
      "Iteration No: 68 started. Searching for the next optimal point.\n"
     ]
    },
    {
     "name": "stderr",
     "output_type": "stream",
     "text": [
      "C:\\Users\\Merin\\Anaconda3\\lib\\site-packages\\skopt\\optimizer\\optimizer.py:399: UserWarning: The objective has been evaluated at this point before.\n",
      "  warnings.warn(\"The objective has been evaluated \"\n"
     ]
    },
    {
     "name": "stdout",
     "output_type": "stream",
     "text": [
      "Iteration No: 68 ended. Search finished for the next optimal point.\n",
      "Time taken: 16.4570\n",
      "Function value obtained: -0.8221\n",
      "Current minimum: -0.8221\n",
      "Iteration No: 69 started. Searching for the next optimal point.\n",
      "Iteration No: 69 ended. Search finished for the next optimal point.\n",
      "Time taken: 6.0169\n",
      "Function value obtained: -0.8200\n",
      "Current minimum: -0.8221\n",
      "Iteration No: 70 started. Searching for the next optimal point.\n"
     ]
    },
    {
     "name": "stderr",
     "output_type": "stream",
     "text": [
      "C:\\Users\\Merin\\Anaconda3\\lib\\site-packages\\skopt\\optimizer\\optimizer.py:399: UserWarning: The objective has been evaluated at this point before.\n",
      "  warnings.warn(\"The objective has been evaluated \"\n"
     ]
    },
    {
     "name": "stdout",
     "output_type": "stream",
     "text": [
      "Iteration No: 70 ended. Search finished for the next optimal point.\n",
      "Time taken: 16.1289\n",
      "Function value obtained: -0.8221\n",
      "Current minimum: -0.8221\n",
      "Iteration No: 71 started. Searching for the next optimal point.\n"
     ]
    },
    {
     "name": "stderr",
     "output_type": "stream",
     "text": [
      "C:\\Users\\Merin\\Anaconda3\\lib\\site-packages\\skopt\\optimizer\\optimizer.py:399: UserWarning: The objective has been evaluated at this point before.\n",
      "  warnings.warn(\"The objective has been evaluated \"\n"
     ]
    },
    {
     "name": "stdout",
     "output_type": "stream",
     "text": [
      "Iteration No: 71 ended. Search finished for the next optimal point.\n",
      "Time taken: 16.2496\n",
      "Function value obtained: -0.8221\n",
      "Current minimum: -0.8221\n",
      "Iteration No: 72 started. Searching for the next optimal point.\n"
     ]
    },
    {
     "name": "stderr",
     "output_type": "stream",
     "text": [
      "C:\\Users\\Merin\\Anaconda3\\lib\\site-packages\\skopt\\optimizer\\optimizer.py:399: UserWarning: The objective has been evaluated at this point before.\n",
      "  warnings.warn(\"The objective has been evaluated \"\n"
     ]
    },
    {
     "name": "stdout",
     "output_type": "stream",
     "text": [
      "Iteration No: 72 ended. Search finished for the next optimal point.\n",
      "Time taken: 16.7253\n",
      "Function value obtained: -0.8221\n",
      "Current minimum: -0.8221\n",
      "Iteration No: 73 started. Searching for the next optimal point.\n"
     ]
    },
    {
     "name": "stderr",
     "output_type": "stream",
     "text": [
      "C:\\Users\\Merin\\Anaconda3\\lib\\site-packages\\skopt\\optimizer\\optimizer.py:399: UserWarning: The objective has been evaluated at this point before.\n",
      "  warnings.warn(\"The objective has been evaluated \"\n"
     ]
    },
    {
     "name": "stdout",
     "output_type": "stream",
     "text": [
      "Iteration No: 73 ended. Search finished for the next optimal point.\n",
      "Time taken: 16.1009\n",
      "Function value obtained: -0.8221\n",
      "Current minimum: -0.8221\n",
      "Iteration No: 74 started. Searching for the next optimal point.\n",
      "Iteration No: 74 ended. Search finished for the next optimal point.\n",
      "Time taken: 6.1785\n",
      "Function value obtained: -0.8092\n",
      "Current minimum: -0.8221\n",
      "Iteration No: 75 started. Searching for the next optimal point.\n",
      "Iteration No: 75 ended. Search finished for the next optimal point.\n",
      "Time taken: 5.9830\n",
      "Function value obtained: -0.8207\n",
      "Current minimum: -0.8221\n",
      "Iteration No: 76 started. Searching for the next optimal point.\n"
     ]
    },
    {
     "name": "stderr",
     "output_type": "stream",
     "text": [
      "C:\\Users\\Merin\\Anaconda3\\lib\\site-packages\\skopt\\optimizer\\optimizer.py:399: UserWarning: The objective has been evaluated at this point before.\n",
      "  warnings.warn(\"The objective has been evaluated \"\n"
     ]
    },
    {
     "name": "stdout",
     "output_type": "stream",
     "text": [
      "Iteration No: 76 ended. Search finished for the next optimal point.\n",
      "Time taken: 16.3094\n",
      "Function value obtained: -0.8221\n",
      "Current minimum: -0.8221\n",
      "Iteration No: 77 started. Searching for the next optimal point.\n"
     ]
    },
    {
     "name": "stderr",
     "output_type": "stream",
     "text": [
      "C:\\Users\\Merin\\Anaconda3\\lib\\site-packages\\skopt\\optimizer\\optimizer.py:399: UserWarning: The objective has been evaluated at this point before.\n",
      "  warnings.warn(\"The objective has been evaluated \"\n"
     ]
    },
    {
     "name": "stdout",
     "output_type": "stream",
     "text": [
      "Iteration No: 77 ended. Search finished for the next optimal point.\n",
      "Time taken: 19.4572\n",
      "Function value obtained: -0.8221\n",
      "Current minimum: -0.8221\n",
      "Iteration No: 78 started. Searching for the next optimal point.\n",
      "Iteration No: 78 ended. Search finished for the next optimal point.\n",
      "Time taken: 9.2553\n",
      "Function value obtained: -0.8201\n",
      "Current minimum: -0.8221\n",
      "Iteration No: 79 started. Searching for the next optimal point.\n",
      "Iteration No: 79 ended. Search finished for the next optimal point.\n",
      "Time taken: 7.1818\n",
      "Function value obtained: -0.8196\n",
      "Current minimum: -0.8221\n",
      "Iteration No: 80 started. Searching for the next optimal point.\n"
     ]
    },
    {
     "name": "stderr",
     "output_type": "stream",
     "text": [
      "C:\\Users\\Merin\\Anaconda3\\lib\\site-packages\\skopt\\optimizer\\optimizer.py:399: UserWarning: The objective has been evaluated at this point before.\n",
      "  warnings.warn(\"The objective has been evaluated \"\n"
     ]
    },
    {
     "name": "stdout",
     "output_type": "stream",
     "text": [
      "Iteration No: 80 ended. Search finished for the next optimal point.\n",
      "Time taken: 16.7642\n",
      "Function value obtained: -0.8221\n",
      "Current minimum: -0.8221\n",
      "Iteration No: 81 started. Searching for the next optimal point.\n",
      "Iteration No: 81 ended. Search finished for the next optimal point.\n",
      "Time taken: 6.9384\n",
      "Function value obtained: -0.8207\n",
      "Current minimum: -0.8221\n",
      "Iteration No: 82 started. Searching for the next optimal point.\n",
      "Iteration No: 82 ended. Search finished for the next optimal point.\n",
      "Time taken: 7.4022\n",
      "Function value obtained: -0.8188\n",
      "Current minimum: -0.8221\n",
      "Iteration No: 83 started. Searching for the next optimal point.\n",
      "Iteration No: 83 ended. Search finished for the next optimal point.\n",
      "Time taken: 4.8700\n",
      "Function value obtained: -0.8094\n",
      "Current minimum: -0.8221\n",
      "Iteration No: 84 started. Searching for the next optimal point.\n",
      "Iteration No: 84 ended. Search finished for the next optimal point.\n",
      "Time taken: 18.2043\n",
      "Function value obtained: -0.8221\n",
      "Current minimum: -0.8221\n",
      "Iteration No: 85 started. Searching for the next optimal point.\n",
      "Iteration No: 85 ended. Search finished for the next optimal point.\n",
      "Time taken: 8.3796\n",
      "Function value obtained: -0.8201\n",
      "Current minimum: -0.8221\n",
      "Iteration No: 86 started. Searching for the next optimal point.\n",
      "Iteration No: 86 ended. Search finished for the next optimal point.\n",
      "Time taken: 18.4150\n",
      "Function value obtained: -0.8221\n",
      "Current minimum: -0.8221\n",
      "Iteration No: 87 started. Searching for the next optimal point.\n",
      "Iteration No: 87 ended. Search finished for the next optimal point.\n",
      "Time taken: 6.8138\n",
      "Function value obtained: -0.8197\n",
      "Current minimum: -0.8221\n",
      "Iteration No: 88 started. Searching for the next optimal point.\n",
      "Iteration No: 88 ended. Search finished for the next optimal point.\n",
      "Time taken: 6.9155\n",
      "Function value obtained: -0.8189\n",
      "Current minimum: -0.8221\n",
      "Iteration No: 89 started. Searching for the next optimal point.\n",
      "Iteration No: 89 ended. Search finished for the next optimal point.\n",
      "Time taken: 8.7257\n",
      "Function value obtained: -0.8200\n",
      "Current minimum: -0.8221\n",
      "Iteration No: 90 started. Searching for the next optimal point.\n",
      "Iteration No: 90 ended. Search finished for the next optimal point.\n",
      "Time taken: 6.4926\n",
      "Function value obtained: -0.8207\n",
      "Current minimum: -0.8221\n",
      "Iteration No: 91 started. Searching for the next optimal point.\n",
      "Iteration No: 91 ended. Search finished for the next optimal point.\n",
      "Time taken: 7.6037\n",
      "Function value obtained: -0.8197\n",
      "Current minimum: -0.8221\n",
      "Iteration No: 92 started. Searching for the next optimal point.\n",
      "Iteration No: 92 ended. Search finished for the next optimal point.\n",
      "Time taken: 9.7719\n",
      "Function value obtained: -0.8201\n",
      "Current minimum: -0.8221\n",
      "Iteration No: 93 started. Searching for the next optimal point.\n",
      "Iteration No: 93 ended. Search finished for the next optimal point.\n",
      "Time taken: 7.6226\n",
      "Function value obtained: -0.8207\n",
      "Current minimum: -0.8221\n",
      "Iteration No: 94 started. Searching for the next optimal point.\n",
      "Iteration No: 94 ended. Search finished for the next optimal point.\n",
      "Time taken: 9.5535\n",
      "Function value obtained: -0.8097\n",
      "Current minimum: -0.8221\n",
      "Iteration No: 95 started. Searching for the next optimal point.\n",
      "Iteration No: 95 ended. Search finished for the next optimal point.\n",
      "Time taken: 18.9583\n",
      "Function value obtained: -0.8221\n",
      "Current minimum: -0.8221\n",
      "Iteration No: 96 started. Searching for the next optimal point.\n"
     ]
    },
    {
     "name": "stderr",
     "output_type": "stream",
     "text": [
      "C:\\Users\\Merin\\Anaconda3\\lib\\site-packages\\skopt\\optimizer\\optimizer.py:399: UserWarning: The objective has been evaluated at this point before.\n",
      "  warnings.warn(\"The objective has been evaluated \"\n"
     ]
    },
    {
     "name": "stdout",
     "output_type": "stream",
     "text": [
      "Iteration No: 96 ended. Search finished for the next optimal point.\n",
      "Time taken: 19.3489\n",
      "Function value obtained: -0.8221\n",
      "Current minimum: -0.8221\n",
      "Iteration No: 97 started. Searching for the next optimal point.\n",
      "Iteration No: 97 ended. Search finished for the next optimal point.\n",
      "Time taken: 6.9534\n",
      "Function value obtained: -0.8196\n",
      "Current minimum: -0.8221\n",
      "Iteration No: 98 started. Searching for the next optimal point.\n",
      "Iteration No: 98 ended. Search finished for the next optimal point.\n",
      "Time taken: 7.5259\n",
      "Function value obtained: -0.8081\n",
      "Current minimum: -0.8221\n",
      "Iteration No: 99 started. Searching for the next optimal point.\n",
      "Iteration No: 99 ended. Search finished for the next optimal point.\n",
      "Time taken: 17.4373\n",
      "Function value obtained: -0.8221\n",
      "Current minimum: -0.8221\n",
      "Iteration No: 100 started. Searching for the next optimal point.\n",
      "Iteration No: 100 ended. Search finished for the next optimal point.\n",
      "Time taken: 15.9523\n",
      "Function value obtained: -0.8221\n",
      "Current minimum: -0.8221\n"
     ]
    }
   ],
   "source": [
    "reg_gp_lr = gp_minimize(objective, space_lr, verbose=True)"
   ]
  },
  {
   "cell_type": "code",
   "execution_count": 19,
   "metadata": {},
   "outputs": [
    {
     "data": {
      "text/plain": [
       "          fun: -0.8221475388714673\n",
       "    func_vals: array([-0.81997442, -0.8198796 , -0.8095296 , -0.81966766, -0.82002991,\n",
       "       -0.82214754, -0.81989051, -0.82178303, -0.82001738, -0.81003193,\n",
       "       -0.82212381, -0.82212249, -0.82072527, -0.82212283, -0.82212381,\n",
       "       -0.82212381, -0.82212381, -0.82085758, -0.81931846, -0.82072272,\n",
       "       -0.82004112, -0.82073008, -0.82003939, -0.820056  , -0.82212381,\n",
       "       -0.80905721, -0.82212331, -0.81977524, -0.82212147, -0.8207353 ,\n",
       "       -0.82020189, -0.82212321, -0.81912699, -0.82212381, -0.82212381,\n",
       "       -0.82212381, -0.82088731, -0.8202435 , -0.82004648, -0.82077493,\n",
       "       -0.81877438, -0.80939515, -0.82212381, -0.80904028, -0.82005305,\n",
       "       -0.82005732, -0.80894095, -0.82212381, -0.82212381, -0.82212381,\n",
       "       -0.81911952, -0.82003579, -0.80916517, -0.81931388, -0.8200252 ,\n",
       "       -0.82000136, -0.82212381, -0.82212381, -0.82212381, -0.82212381,\n",
       "       -0.82078677, -0.82005051, -0.81963461, -0.82212381, -0.82212381,\n",
       "       -0.82212381, -0.82212381, -0.82212381, -0.82002548, -0.82212381,\n",
       "       -0.82212381, -0.82212381, -0.82212381, -0.80921137, -0.82071854,\n",
       "       -0.82212381, -0.82212381, -0.82005389, -0.81959377, -0.82212381,\n",
       "       -0.82072562, -0.81876453, -0.80936813, -0.82214052, -0.82005515,\n",
       "       -0.82214235, -0.81973368, -0.81887333, -0.82003452, -0.82072599,\n",
       "       -0.81969968, -0.82005505, -0.82074704, -0.80972545, -0.82214239,\n",
       "       -0.82212381, -0.81957586, -0.8081273 , -0.82213928, -0.82214289])\n",
       "       models: [GaussianProcessRegressor(alpha=1e-10, copy_X_train=True,\n",
       "             kernel=1**2 * Matern(length_scale=[1, 1, 1], nu=2.5) + WhiteKernel(noise_level=1),\n",
       "             n_restarts_optimizer=2, noise='gaussian', normalize_y=True,\n",
       "             optimizer='fmin_l_bfgs_b', random_state=1117903871), GaussianProcessRegressor(alpha=1e-10, copy_X_train=True,\n",
       "             kernel=1**2 * Matern(length_scale=[1, 1, 1], nu=2.5) + WhiteKernel(noise_level=1),\n",
       "             n_restarts_optimizer=2, noise='gaussian', normalize_y=True,\n",
       "             optimizer='fmin_l_bfgs_b', random_state=1117903871), GaussianProcessRegressor(alpha=1e-10, copy_X_train=True,\n",
       "             kernel=1**2 * Matern(length_scale=[1, 1, 1], nu=2.5) + WhiteKernel(noise_level=1),\n",
       "             n_restarts_optimizer=2, noise='gaussian', normalize_y=True,\n",
       "             optimizer='fmin_l_bfgs_b', random_state=1117903871), GaussianProcessRegressor(alpha=1e-10, copy_X_train=True,\n",
       "             kernel=1**2 * Matern(length_scale=[1, 1, 1], nu=2.5) + WhiteKernel(noise_level=1),\n",
       "             n_restarts_optimizer=2, noise='gaussian', normalize_y=True,\n",
       "             optimizer='fmin_l_bfgs_b', random_state=1117903871), GaussianProcessRegressor(alpha=1e-10, copy_X_train=True,\n",
       "             kernel=1**2 * Matern(length_scale=[1, 1, 1], nu=2.5) + WhiteKernel(noise_level=1),\n",
       "             n_restarts_optimizer=2, noise='gaussian', normalize_y=True,\n",
       "             optimizer='fmin_l_bfgs_b', random_state=1117903871), GaussianProcessRegressor(alpha=1e-10, copy_X_train=True,\n",
       "             kernel=1**2 * Matern(length_scale=[1, 1, 1], nu=2.5) + WhiteKernel(noise_level=1),\n",
       "             n_restarts_optimizer=2, noise='gaussian', normalize_y=True,\n",
       "             optimizer='fmin_l_bfgs_b', random_state=1117903871), GaussianProcessRegressor(alpha=1e-10, copy_X_train=True,\n",
       "             kernel=1**2 * Matern(length_scale=[1, 1, 1], nu=2.5) + WhiteKernel(noise_level=1),\n",
       "             n_restarts_optimizer=2, noise='gaussian', normalize_y=True,\n",
       "             optimizer='fmin_l_bfgs_b', random_state=1117903871), GaussianProcessRegressor(alpha=1e-10, copy_X_train=True,\n",
       "             kernel=1**2 * Matern(length_scale=[1, 1, 1], nu=2.5) + WhiteKernel(noise_level=1),\n",
       "             n_restarts_optimizer=2, noise='gaussian', normalize_y=True,\n",
       "             optimizer='fmin_l_bfgs_b', random_state=1117903871), GaussianProcessRegressor(alpha=1e-10, copy_X_train=True,\n",
       "             kernel=1**2 * Matern(length_scale=[1, 1, 1], nu=2.5) + WhiteKernel(noise_level=1),\n",
       "             n_restarts_optimizer=2, noise='gaussian', normalize_y=True,\n",
       "             optimizer='fmin_l_bfgs_b', random_state=1117903871), GaussianProcessRegressor(alpha=1e-10, copy_X_train=True,\n",
       "             kernel=1**2 * Matern(length_scale=[1, 1, 1], nu=2.5) + WhiteKernel(noise_level=1),\n",
       "             n_restarts_optimizer=2, noise='gaussian', normalize_y=True,\n",
       "             optimizer='fmin_l_bfgs_b', random_state=1117903871), GaussianProcessRegressor(alpha=1e-10, copy_X_train=True,\n",
       "             kernel=1**2 * Matern(length_scale=[1, 1, 1], nu=2.5) + WhiteKernel(noise_level=1),\n",
       "             n_restarts_optimizer=2, noise='gaussian', normalize_y=True,\n",
       "             optimizer='fmin_l_bfgs_b', random_state=1117903871), GaussianProcessRegressor(alpha=1e-10, copy_X_train=True,\n",
       "             kernel=1**2 * Matern(length_scale=[1, 1, 1], nu=2.5) + WhiteKernel(noise_level=1),\n",
       "             n_restarts_optimizer=2, noise='gaussian', normalize_y=True,\n",
       "             optimizer='fmin_l_bfgs_b', random_state=1117903871), GaussianProcessRegressor(alpha=1e-10, copy_X_train=True,\n",
       "             kernel=1**2 * Matern(length_scale=[1, 1, 1], nu=2.5) + WhiteKernel(noise_level=1),\n",
       "             n_restarts_optimizer=2, noise='gaussian', normalize_y=True,\n",
       "             optimizer='fmin_l_bfgs_b', random_state=1117903871), GaussianProcessRegressor(alpha=1e-10, copy_X_train=True,\n",
       "             kernel=1**2 * Matern(length_scale=[1, 1, 1], nu=2.5) + WhiteKernel(noise_level=1),\n",
       "             n_restarts_optimizer=2, noise='gaussian', normalize_y=True,\n",
       "             optimizer='fmin_l_bfgs_b', random_state=1117903871), GaussianProcessRegressor(alpha=1e-10, copy_X_train=True,\n",
       "             kernel=1**2 * Matern(length_scale=[1, 1, 1], nu=2.5) + WhiteKernel(noise_level=1),\n",
       "             n_restarts_optimizer=2, noise='gaussian', normalize_y=True,\n",
       "             optimizer='fmin_l_bfgs_b', random_state=1117903871), GaussianProcessRegressor(alpha=1e-10, copy_X_train=True,\n",
       "             kernel=1**2 * Matern(length_scale=[1, 1, 1], nu=2.5) + WhiteKernel(noise_level=1),\n",
       "             n_restarts_optimizer=2, noise='gaussian', normalize_y=True,\n",
       "             optimizer='fmin_l_bfgs_b', random_state=1117903871), GaussianProcessRegressor(alpha=1e-10, copy_X_train=True,\n",
       "             kernel=1**2 * Matern(length_scale=[1, 1, 1], nu=2.5) + WhiteKernel(noise_level=1),\n",
       "             n_restarts_optimizer=2, noise='gaussian', normalize_y=True,\n",
       "             optimizer='fmin_l_bfgs_b', random_state=1117903871), GaussianProcessRegressor(alpha=1e-10, copy_X_train=True,\n",
       "             kernel=1**2 * Matern(length_scale=[1, 1, 1], nu=2.5) + WhiteKernel(noise_level=1),\n",
       "             n_restarts_optimizer=2, noise='gaussian', normalize_y=True,\n",
       "             optimizer='fmin_l_bfgs_b', random_state=1117903871), GaussianProcessRegressor(alpha=1e-10, copy_X_train=True,\n",
       "             kernel=1**2 * Matern(length_scale=[1, 1, 1], nu=2.5) + WhiteKernel(noise_level=1),\n",
       "             n_restarts_optimizer=2, noise='gaussian', normalize_y=True,\n",
       "             optimizer='fmin_l_bfgs_b', random_state=1117903871), GaussianProcessRegressor(alpha=1e-10, copy_X_train=True,\n",
       "             kernel=1**2 * Matern(length_scale=[1, 1, 1], nu=2.5) + WhiteKernel(noise_level=1),\n",
       "             n_restarts_optimizer=2, noise='gaussian', normalize_y=True,\n",
       "             optimizer='fmin_l_bfgs_b', random_state=1117903871), GaussianProcessRegressor(alpha=1e-10, copy_X_train=True,\n",
       "             kernel=1**2 * Matern(length_scale=[1, 1, 1], nu=2.5) + WhiteKernel(noise_level=1),\n",
       "             n_restarts_optimizer=2, noise='gaussian', normalize_y=True,\n",
       "             optimizer='fmin_l_bfgs_b', random_state=1117903871), GaussianProcessRegressor(alpha=1e-10, copy_X_train=True,\n",
       "             kernel=1**2 * Matern(length_scale=[1, 1, 1], nu=2.5) + WhiteKernel(noise_level=1),\n",
       "             n_restarts_optimizer=2, noise='gaussian', normalize_y=True,\n",
       "             optimizer='fmin_l_bfgs_b', random_state=1117903871), GaussianProcessRegressor(alpha=1e-10, copy_X_train=True,\n",
       "             kernel=1**2 * Matern(length_scale=[1, 1, 1], nu=2.5) + WhiteKernel(noise_level=1),\n",
       "             n_restarts_optimizer=2, noise='gaussian', normalize_y=True,\n",
       "             optimizer='fmin_l_bfgs_b', random_state=1117903871), GaussianProcessRegressor(alpha=1e-10, copy_X_train=True,\n",
       "             kernel=1**2 * Matern(length_scale=[1, 1, 1], nu=2.5) + WhiteKernel(noise_level=1),\n",
       "             n_restarts_optimizer=2, noise='gaussian', normalize_y=True,\n",
       "             optimizer='fmin_l_bfgs_b', random_state=1117903871), GaussianProcessRegressor(alpha=1e-10, copy_X_train=True,\n",
       "             kernel=1**2 * Matern(length_scale=[1, 1, 1], nu=2.5) + WhiteKernel(noise_level=1),\n",
       "             n_restarts_optimizer=2, noise='gaussian', normalize_y=True,\n",
       "             optimizer='fmin_l_bfgs_b', random_state=1117903871), GaussianProcessRegressor(alpha=1e-10, copy_X_train=True,\n",
       "             kernel=1**2 * Matern(length_scale=[1, 1, 1], nu=2.5) + WhiteKernel(noise_level=1),\n",
       "             n_restarts_optimizer=2, noise='gaussian', normalize_y=True,\n",
       "             optimizer='fmin_l_bfgs_b', random_state=1117903871), GaussianProcessRegressor(alpha=1e-10, copy_X_train=True,\n",
       "             kernel=1**2 * Matern(length_scale=[1, 1, 1], nu=2.5) + WhiteKernel(noise_level=1),\n",
       "             n_restarts_optimizer=2, noise='gaussian', normalize_y=True,\n",
       "             optimizer='fmin_l_bfgs_b', random_state=1117903871), GaussianProcessRegressor(alpha=1e-10, copy_X_train=True,\n",
       "             kernel=1**2 * Matern(length_scale=[1, 1, 1], nu=2.5) + WhiteKernel(noise_level=1),\n",
       "             n_restarts_optimizer=2, noise='gaussian', normalize_y=True,\n",
       "             optimizer='fmin_l_bfgs_b', random_state=1117903871), GaussianProcessRegressor(alpha=1e-10, copy_X_train=True,\n",
       "             kernel=1**2 * Matern(length_scale=[1, 1, 1], nu=2.5) + WhiteKernel(noise_level=1),\n",
       "             n_restarts_optimizer=2, noise='gaussian', normalize_y=True,\n",
       "             optimizer='fmin_l_bfgs_b', random_state=1117903871), GaussianProcessRegressor(alpha=1e-10, copy_X_train=True,\n",
       "             kernel=1**2 * Matern(length_scale=[1, 1, 1], nu=2.5) + WhiteKernel(noise_level=1),\n",
       "             n_restarts_optimizer=2, noise='gaussian', normalize_y=True,\n",
       "             optimizer='fmin_l_bfgs_b', random_state=1117903871), GaussianProcessRegressor(alpha=1e-10, copy_X_train=True,\n",
       "             kernel=1**2 * Matern(length_scale=[1, 1, 1], nu=2.5) + WhiteKernel(noise_level=1),\n",
       "             n_restarts_optimizer=2, noise='gaussian', normalize_y=True,\n",
       "             optimizer='fmin_l_bfgs_b', random_state=1117903871), GaussianProcessRegressor(alpha=1e-10, copy_X_train=True,\n",
       "             kernel=1**2 * Matern(length_scale=[1, 1, 1], nu=2.5) + WhiteKernel(noise_level=1),\n",
       "             n_restarts_optimizer=2, noise='gaussian', normalize_y=True,\n",
       "             optimizer='fmin_l_bfgs_b', random_state=1117903871), GaussianProcessRegressor(alpha=1e-10, copy_X_train=True,\n",
       "             kernel=1**2 * Matern(length_scale=[1, 1, 1], nu=2.5) + WhiteKernel(noise_level=1),\n",
       "             n_restarts_optimizer=2, noise='gaussian', normalize_y=True,\n",
       "             optimizer='fmin_l_bfgs_b', random_state=1117903871), GaussianProcessRegressor(alpha=1e-10, copy_X_train=True,\n",
       "             kernel=1**2 * Matern(length_scale=[1, 1, 1], nu=2.5) + WhiteKernel(noise_level=1),\n",
       "             n_restarts_optimizer=2, noise='gaussian', normalize_y=True,\n",
       "             optimizer='fmin_l_bfgs_b', random_state=1117903871), GaussianProcessRegressor(alpha=1e-10, copy_X_train=True,\n",
       "             kernel=1**2 * Matern(length_scale=[1, 1, 1], nu=2.5) + WhiteKernel(noise_level=1),\n",
       "             n_restarts_optimizer=2, noise='gaussian', normalize_y=True,\n",
       "             optimizer='fmin_l_bfgs_b', random_state=1117903871), GaussianProcessRegressor(alpha=1e-10, copy_X_train=True,\n",
       "             kernel=1**2 * Matern(length_scale=[1, 1, 1], nu=2.5) + WhiteKernel(noise_level=1),\n",
       "             n_restarts_optimizer=2, noise='gaussian', normalize_y=True,\n",
       "             optimizer='fmin_l_bfgs_b', random_state=1117903871), GaussianProcessRegressor(alpha=1e-10, copy_X_train=True,\n",
       "             kernel=1**2 * Matern(length_scale=[1, 1, 1], nu=2.5) + WhiteKernel(noise_level=1),\n",
       "             n_restarts_optimizer=2, noise='gaussian', normalize_y=True,\n",
       "             optimizer='fmin_l_bfgs_b', random_state=1117903871), GaussianProcessRegressor(alpha=1e-10, copy_X_train=True,\n",
       "             kernel=1**2 * Matern(length_scale=[1, 1, 1], nu=2.5) + WhiteKernel(noise_level=1),\n",
       "             n_restarts_optimizer=2, noise='gaussian', normalize_y=True,\n",
       "             optimizer='fmin_l_bfgs_b', random_state=1117903871), GaussianProcessRegressor(alpha=1e-10, copy_X_train=True,\n",
       "             kernel=1**2 * Matern(length_scale=[1, 1, 1], nu=2.5) + WhiteKernel(noise_level=1),\n",
       "             n_restarts_optimizer=2, noise='gaussian', normalize_y=True,\n",
       "             optimizer='fmin_l_bfgs_b', random_state=1117903871), GaussianProcessRegressor(alpha=1e-10, copy_X_train=True,\n",
       "             kernel=1**2 * Matern(length_scale=[1, 1, 1], nu=2.5) + WhiteKernel(noise_level=1),\n",
       "             n_restarts_optimizer=2, noise='gaussian', normalize_y=True,\n",
       "             optimizer='fmin_l_bfgs_b', random_state=1117903871), GaussianProcessRegressor(alpha=1e-10, copy_X_train=True,\n",
       "             kernel=1**2 * Matern(length_scale=[1, 1, 1], nu=2.5) + WhiteKernel(noise_level=1),\n",
       "             n_restarts_optimizer=2, noise='gaussian', normalize_y=True,\n",
       "             optimizer='fmin_l_bfgs_b', random_state=1117903871), GaussianProcessRegressor(alpha=1e-10, copy_X_train=True,\n",
       "             kernel=1**2 * Matern(length_scale=[1, 1, 1], nu=2.5) + WhiteKernel(noise_level=1),\n",
       "             n_restarts_optimizer=2, noise='gaussian', normalize_y=True,\n",
       "             optimizer='fmin_l_bfgs_b', random_state=1117903871), GaussianProcessRegressor(alpha=1e-10, copy_X_train=True,\n",
       "             kernel=1**2 * Matern(length_scale=[1, 1, 1], nu=2.5) + WhiteKernel(noise_level=1),\n",
       "             n_restarts_optimizer=2, noise='gaussian', normalize_y=True,\n",
       "             optimizer='fmin_l_bfgs_b', random_state=1117903871), GaussianProcessRegressor(alpha=1e-10, copy_X_train=True,\n",
       "             kernel=1**2 * Matern(length_scale=[1, 1, 1], nu=2.5) + WhiteKernel(noise_level=1),\n",
       "             n_restarts_optimizer=2, noise='gaussian', normalize_y=True,\n",
       "             optimizer='fmin_l_bfgs_b', random_state=1117903871), GaussianProcessRegressor(alpha=1e-10, copy_X_train=True,\n",
       "             kernel=1**2 * Matern(length_scale=[1, 1, 1], nu=2.5) + WhiteKernel(noise_level=1),\n",
       "             n_restarts_optimizer=2, noise='gaussian', normalize_y=True,\n",
       "             optimizer='fmin_l_bfgs_b', random_state=1117903871), GaussianProcessRegressor(alpha=1e-10, copy_X_train=True,\n",
       "             kernel=1**2 * Matern(length_scale=[1, 1, 1], nu=2.5) + WhiteKernel(noise_level=1),\n",
       "             n_restarts_optimizer=2, noise='gaussian', normalize_y=True,\n",
       "             optimizer='fmin_l_bfgs_b', random_state=1117903871), GaussianProcessRegressor(alpha=1e-10, copy_X_train=True,\n",
       "             kernel=1**2 * Matern(length_scale=[1, 1, 1], nu=2.5) + WhiteKernel(noise_level=1),\n",
       "             n_restarts_optimizer=2, noise='gaussian', normalize_y=True,\n",
       "             optimizer='fmin_l_bfgs_b', random_state=1117903871), GaussianProcessRegressor(alpha=1e-10, copy_X_train=True,\n",
       "             kernel=1**2 * Matern(length_scale=[1, 1, 1], nu=2.5) + WhiteKernel(noise_level=1),\n",
       "             n_restarts_optimizer=2, noise='gaussian', normalize_y=True,\n",
       "             optimizer='fmin_l_bfgs_b', random_state=1117903871), GaussianProcessRegressor(alpha=1e-10, copy_X_train=True,\n",
       "             kernel=1**2 * Matern(length_scale=[1, 1, 1], nu=2.5) + WhiteKernel(noise_level=1),\n",
       "             n_restarts_optimizer=2, noise='gaussian', normalize_y=True,\n",
       "             optimizer='fmin_l_bfgs_b', random_state=1117903871), GaussianProcessRegressor(alpha=1e-10, copy_X_train=True,\n",
       "             kernel=1**2 * Matern(length_scale=[1, 1, 1], nu=2.5) + WhiteKernel(noise_level=1),\n",
       "             n_restarts_optimizer=2, noise='gaussian', normalize_y=True,\n",
       "             optimizer='fmin_l_bfgs_b', random_state=1117903871), GaussianProcessRegressor(alpha=1e-10, copy_X_train=True,\n",
       "             kernel=1**2 * Matern(length_scale=[1, 1, 1], nu=2.5) + WhiteKernel(noise_level=1),\n",
       "             n_restarts_optimizer=2, noise='gaussian', normalize_y=True,\n",
       "             optimizer='fmin_l_bfgs_b', random_state=1117903871), GaussianProcessRegressor(alpha=1e-10, copy_X_train=True,\n",
       "             kernel=1**2 * Matern(length_scale=[1, 1, 1], nu=2.5) + WhiteKernel(noise_level=1),\n",
       "             n_restarts_optimizer=2, noise='gaussian', normalize_y=True,\n",
       "             optimizer='fmin_l_bfgs_b', random_state=1117903871), GaussianProcessRegressor(alpha=1e-10, copy_X_train=True,\n",
       "             kernel=1**2 * Matern(length_scale=[1, 1, 1], nu=2.5) + WhiteKernel(noise_level=1),\n",
       "             n_restarts_optimizer=2, noise='gaussian', normalize_y=True,\n",
       "             optimizer='fmin_l_bfgs_b', random_state=1117903871), GaussianProcessRegressor(alpha=1e-10, copy_X_train=True,\n",
       "             kernel=1**2 * Matern(length_scale=[1, 1, 1], nu=2.5) + WhiteKernel(noise_level=1),\n",
       "             n_restarts_optimizer=2, noise='gaussian', normalize_y=True,\n",
       "             optimizer='fmin_l_bfgs_b', random_state=1117903871), GaussianProcessRegressor(alpha=1e-10, copy_X_train=True,\n",
       "             kernel=1**2 * Matern(length_scale=[1, 1, 1], nu=2.5) + WhiteKernel(noise_level=1),\n",
       "             n_restarts_optimizer=2, noise='gaussian', normalize_y=True,\n",
       "             optimizer='fmin_l_bfgs_b', random_state=1117903871), GaussianProcessRegressor(alpha=1e-10, copy_X_train=True,\n",
       "             kernel=1**2 * Matern(length_scale=[1, 1, 1], nu=2.5) + WhiteKernel(noise_level=1),\n",
       "             n_restarts_optimizer=2, noise='gaussian', normalize_y=True,\n",
       "             optimizer='fmin_l_bfgs_b', random_state=1117903871), GaussianProcessRegressor(alpha=1e-10, copy_X_train=True,\n",
       "             kernel=1**2 * Matern(length_scale=[1, 1, 1], nu=2.5) + WhiteKernel(noise_level=1),\n",
       "             n_restarts_optimizer=2, noise='gaussian', normalize_y=True,\n",
       "             optimizer='fmin_l_bfgs_b', random_state=1117903871), GaussianProcessRegressor(alpha=1e-10, copy_X_train=True,\n",
       "             kernel=1**2 * Matern(length_scale=[1, 1, 1], nu=2.5) + WhiteKernel(noise_level=1),\n",
       "             n_restarts_optimizer=2, noise='gaussian', normalize_y=True,\n",
       "             optimizer='fmin_l_bfgs_b', random_state=1117903871), GaussianProcessRegressor(alpha=1e-10, copy_X_train=True,\n",
       "             kernel=1**2 * Matern(length_scale=[1, 1, 1], nu=2.5) + WhiteKernel(noise_level=1),\n",
       "             n_restarts_optimizer=2, noise='gaussian', normalize_y=True,\n",
       "             optimizer='fmin_l_bfgs_b', random_state=1117903871), GaussianProcessRegressor(alpha=1e-10, copy_X_train=True,\n",
       "             kernel=1**2 * Matern(length_scale=[1, 1, 1], nu=2.5) + WhiteKernel(noise_level=1),\n",
       "             n_restarts_optimizer=2, noise='gaussian', normalize_y=True,\n",
       "             optimizer='fmin_l_bfgs_b', random_state=1117903871), GaussianProcessRegressor(alpha=1e-10, copy_X_train=True,\n",
       "             kernel=1**2 * Matern(length_scale=[1, 1, 1], nu=2.5) + WhiteKernel(noise_level=1),\n",
       "             n_restarts_optimizer=2, noise='gaussian', normalize_y=True,\n",
       "             optimizer='fmin_l_bfgs_b', random_state=1117903871), GaussianProcessRegressor(alpha=1e-10, copy_X_train=True,\n",
       "             kernel=1**2 * Matern(length_scale=[1, 1, 1], nu=2.5) + WhiteKernel(noise_level=1),\n",
       "             n_restarts_optimizer=2, noise='gaussian', normalize_y=True,\n",
       "             optimizer='fmin_l_bfgs_b', random_state=1117903871), GaussianProcessRegressor(alpha=1e-10, copy_X_train=True,\n",
       "             kernel=1**2 * Matern(length_scale=[1, 1, 1], nu=2.5) + WhiteKernel(noise_level=1),\n",
       "             n_restarts_optimizer=2, noise='gaussian', normalize_y=True,\n",
       "             optimizer='fmin_l_bfgs_b', random_state=1117903871), GaussianProcessRegressor(alpha=1e-10, copy_X_train=True,\n",
       "             kernel=1**2 * Matern(length_scale=[1, 1, 1], nu=2.5) + WhiteKernel(noise_level=1),\n",
       "             n_restarts_optimizer=2, noise='gaussian', normalize_y=True,\n",
       "             optimizer='fmin_l_bfgs_b', random_state=1117903871), GaussianProcessRegressor(alpha=1e-10, copy_X_train=True,\n",
       "             kernel=1**2 * Matern(length_scale=[1, 1, 1], nu=2.5) + WhiteKernel(noise_level=1),\n",
       "             n_restarts_optimizer=2, noise='gaussian', normalize_y=True,\n",
       "             optimizer='fmin_l_bfgs_b', random_state=1117903871), GaussianProcessRegressor(alpha=1e-10, copy_X_train=True,\n",
       "             kernel=1**2 * Matern(length_scale=[1, 1, 1], nu=2.5) + WhiteKernel(noise_level=1),\n",
       "             n_restarts_optimizer=2, noise='gaussian', normalize_y=True,\n",
       "             optimizer='fmin_l_bfgs_b', random_state=1117903871), GaussianProcessRegressor(alpha=1e-10, copy_X_train=True,\n",
       "             kernel=1**2 * Matern(length_scale=[1, 1, 1], nu=2.5) + WhiteKernel(noise_level=1),\n",
       "             n_restarts_optimizer=2, noise='gaussian', normalize_y=True,\n",
       "             optimizer='fmin_l_bfgs_b', random_state=1117903871), GaussianProcessRegressor(alpha=1e-10, copy_X_train=True,\n",
       "             kernel=1**2 * Matern(length_scale=[1, 1, 1], nu=2.5) + WhiteKernel(noise_level=1),\n",
       "             n_restarts_optimizer=2, noise='gaussian', normalize_y=True,\n",
       "             optimizer='fmin_l_bfgs_b', random_state=1117903871), GaussianProcessRegressor(alpha=1e-10, copy_X_train=True,\n",
       "             kernel=1**2 * Matern(length_scale=[1, 1, 1], nu=2.5) + WhiteKernel(noise_level=1),\n",
       "             n_restarts_optimizer=2, noise='gaussian', normalize_y=True,\n",
       "             optimizer='fmin_l_bfgs_b', random_state=1117903871), GaussianProcessRegressor(alpha=1e-10, copy_X_train=True,\n",
       "             kernel=1**2 * Matern(length_scale=[1, 1, 1], nu=2.5) + WhiteKernel(noise_level=1),\n",
       "             n_restarts_optimizer=2, noise='gaussian', normalize_y=True,\n",
       "             optimizer='fmin_l_bfgs_b', random_state=1117903871), GaussianProcessRegressor(alpha=1e-10, copy_X_train=True,\n",
       "             kernel=1**2 * Matern(length_scale=[1, 1, 1], nu=2.5) + WhiteKernel(noise_level=1),\n",
       "             n_restarts_optimizer=2, noise='gaussian', normalize_y=True,\n",
       "             optimizer='fmin_l_bfgs_b', random_state=1117903871), GaussianProcessRegressor(alpha=1e-10, copy_X_train=True,\n",
       "             kernel=1**2 * Matern(length_scale=[1, 1, 1], nu=2.5) + WhiteKernel(noise_level=1),\n",
       "             n_restarts_optimizer=2, noise='gaussian', normalize_y=True,\n",
       "             optimizer='fmin_l_bfgs_b', random_state=1117903871), GaussianProcessRegressor(alpha=1e-10, copy_X_train=True,\n",
       "             kernel=1**2 * Matern(length_scale=[1, 1, 1], nu=2.5) + WhiteKernel(noise_level=1),\n",
       "             n_restarts_optimizer=2, noise='gaussian', normalize_y=True,\n",
       "             optimizer='fmin_l_bfgs_b', random_state=1117903871), GaussianProcessRegressor(alpha=1e-10, copy_X_train=True,\n",
       "             kernel=1**2 * Matern(length_scale=[1, 1, 1], nu=2.5) + WhiteKernel(noise_level=1),\n",
       "             n_restarts_optimizer=2, noise='gaussian', normalize_y=True,\n",
       "             optimizer='fmin_l_bfgs_b', random_state=1117903871), GaussianProcessRegressor(alpha=1e-10, copy_X_train=True,\n",
       "             kernel=1**2 * Matern(length_scale=[1, 1, 1], nu=2.5) + WhiteKernel(noise_level=1),\n",
       "             n_restarts_optimizer=2, noise='gaussian', normalize_y=True,\n",
       "             optimizer='fmin_l_bfgs_b', random_state=1117903871), GaussianProcessRegressor(alpha=1e-10, copy_X_train=True,\n",
       "             kernel=1**2 * Matern(length_scale=[1, 1, 1], nu=2.5) + WhiteKernel(noise_level=1),\n",
       "             n_restarts_optimizer=2, noise='gaussian', normalize_y=True,\n",
       "             optimizer='fmin_l_bfgs_b', random_state=1117903871), GaussianProcessRegressor(alpha=1e-10, copy_X_train=True,\n",
       "             kernel=1**2 * Matern(length_scale=[1, 1, 1], nu=2.5) + WhiteKernel(noise_level=1),\n",
       "             n_restarts_optimizer=2, noise='gaussian', normalize_y=True,\n",
       "             optimizer='fmin_l_bfgs_b', random_state=1117903871), GaussianProcessRegressor(alpha=1e-10, copy_X_train=True,\n",
       "             kernel=1**2 * Matern(length_scale=[1, 1, 1], nu=2.5) + WhiteKernel(noise_level=1),\n",
       "             n_restarts_optimizer=2, noise='gaussian', normalize_y=True,\n",
       "             optimizer='fmin_l_bfgs_b', random_state=1117903871), GaussianProcessRegressor(alpha=1e-10, copy_X_train=True,\n",
       "             kernel=1**2 * Matern(length_scale=[1, 1, 1], nu=2.5) + WhiteKernel(noise_level=1),\n",
       "             n_restarts_optimizer=2, noise='gaussian', normalize_y=True,\n",
       "             optimizer='fmin_l_bfgs_b', random_state=1117903871), GaussianProcessRegressor(alpha=1e-10, copy_X_train=True,\n",
       "             kernel=1**2 * Matern(length_scale=[1, 1, 1], nu=2.5) + WhiteKernel(noise_level=1),\n",
       "             n_restarts_optimizer=2, noise='gaussian', normalize_y=True,\n",
       "             optimizer='fmin_l_bfgs_b', random_state=1117903871), GaussianProcessRegressor(alpha=1e-10, copy_X_train=True,\n",
       "             kernel=1**2 * Matern(length_scale=[1, 1, 1], nu=2.5) + WhiteKernel(noise_level=1),\n",
       "             n_restarts_optimizer=2, noise='gaussian', normalize_y=True,\n",
       "             optimizer='fmin_l_bfgs_b', random_state=1117903871), GaussianProcessRegressor(alpha=1e-10, copy_X_train=True,\n",
       "             kernel=1**2 * Matern(length_scale=[1, 1, 1], nu=2.5) + WhiteKernel(noise_level=1),\n",
       "             n_restarts_optimizer=2, noise='gaussian', normalize_y=True,\n",
       "             optimizer='fmin_l_bfgs_b', random_state=1117903871), GaussianProcessRegressor(alpha=1e-10, copy_X_train=True,\n",
       "             kernel=1**2 * Matern(length_scale=[1, 1, 1], nu=2.5) + WhiteKernel(noise_level=1),\n",
       "             n_restarts_optimizer=2, noise='gaussian', normalize_y=True,\n",
       "             optimizer='fmin_l_bfgs_b', random_state=1117903871), GaussianProcessRegressor(alpha=1e-10, copy_X_train=True,\n",
       "             kernel=1**2 * Matern(length_scale=[1, 1, 1], nu=2.5) + WhiteKernel(noise_level=1),\n",
       "             n_restarts_optimizer=2, noise='gaussian', normalize_y=True,\n",
       "             optimizer='fmin_l_bfgs_b', random_state=1117903871), GaussianProcessRegressor(alpha=1e-10, copy_X_train=True,\n",
       "             kernel=1**2 * Matern(length_scale=[1, 1, 1], nu=2.5) + WhiteKernel(noise_level=1),\n",
       "             n_restarts_optimizer=2, noise='gaussian', normalize_y=True,\n",
       "             optimizer='fmin_l_bfgs_b', random_state=1117903871), GaussianProcessRegressor(alpha=1e-10, copy_X_train=True,\n",
       "             kernel=1**2 * Matern(length_scale=[1, 1, 1], nu=2.5) + WhiteKernel(noise_level=1),\n",
       "             n_restarts_optimizer=2, noise='gaussian', normalize_y=True,\n",
       "             optimizer='fmin_l_bfgs_b', random_state=1117903871), GaussianProcessRegressor(alpha=1e-10, copy_X_train=True,\n",
       "             kernel=1**2 * Matern(length_scale=[1, 1, 1], nu=2.5) + WhiteKernel(noise_level=1),\n",
       "             n_restarts_optimizer=2, noise='gaussian', normalize_y=True,\n",
       "             optimizer='fmin_l_bfgs_b', random_state=1117903871), GaussianProcessRegressor(alpha=1e-10, copy_X_train=True,\n",
       "             kernel=1**2 * Matern(length_scale=[1, 1, 1], nu=2.5) + WhiteKernel(noise_level=1),\n",
       "             n_restarts_optimizer=2, noise='gaussian', normalize_y=True,\n",
       "             optimizer='fmin_l_bfgs_b', random_state=1117903871), GaussianProcessRegressor(alpha=1e-10, copy_X_train=True,\n",
       "             kernel=1**2 * Matern(length_scale=[1, 1, 1], nu=2.5) + WhiteKernel(noise_level=1),\n",
       "             n_restarts_optimizer=2, noise='gaussian', normalize_y=True,\n",
       "             optimizer='fmin_l_bfgs_b', random_state=1117903871), GaussianProcessRegressor(alpha=1e-10, copy_X_train=True,\n",
       "             kernel=1**2 * Matern(length_scale=[1, 1, 1], nu=2.5) + WhiteKernel(noise_level=1),\n",
       "             n_restarts_optimizer=2, noise='gaussian', normalize_y=True,\n",
       "             optimizer='fmin_l_bfgs_b', random_state=1117903871), GaussianProcessRegressor(alpha=1e-10, copy_X_train=True,\n",
       "             kernel=1**2 * Matern(length_scale=[1, 1, 1], nu=2.5) + WhiteKernel(noise_level=1),\n",
       "             n_restarts_optimizer=2, noise='gaussian', normalize_y=True,\n",
       "             optimizer='fmin_l_bfgs_b', random_state=1117903871)]\n",
       " random_state: <mtrand.RandomState object at 0x0000020A41524E10>\n",
       "        space: Space([Real(low=0.01, high=1.0, prior='uniform', transform='normalize'),\n",
       "       Categorical(categories=('liblinear', 'lbfgs'), prior=None),\n",
       "       Categorical(categories=(None, 'balanced'), prior=None)])\n",
       "        specs: {'args': {'func': <function objective at 0x0000020A4B5B4B70>, 'dimensions': Space([Real(low=0.01, high=1.0, prior='uniform', transform='normalize'),\n",
       "       Categorical(categories=('liblinear', 'lbfgs'), prior=None),\n",
       "       Categorical(categories=(None, 'balanced'), prior=None)]), 'base_estimator': GaussianProcessRegressor(alpha=1e-10, copy_X_train=True,\n",
       "             kernel=1**2 * Matern(length_scale=[1, 1, 1], nu=2.5),\n",
       "             n_restarts_optimizer=2, noise='gaussian', normalize_y=True,\n",
       "             optimizer='fmin_l_bfgs_b', random_state=1117903871), 'n_calls': 100, 'n_random_starts': 10, 'acq_func': 'gp_hedge', 'acq_optimizer': 'auto', 'x0': None, 'y0': None, 'random_state': <mtrand.RandomState object at 0x0000020A41524E10>, 'verbose': True, 'callback': None, 'n_points': 10000, 'n_restarts_optimizer': 5, 'xi': 0.01, 'kappa': 1.96, 'n_jobs': 1}, 'function': 'base_minimize'}\n",
       "            x: [0.2072384604289609, 'liblinear', 'balanced']\n",
       "      x_iters: [[0.8367474231531485, 'lbfgs', 'balanced'], [0.699989973052892, 'lbfgs', 'balanced'], [0.39768409925662734, 'lbfgs', None], [0.34315265235016457, 'liblinear', None], [0.9041356399620373, 'liblinear', None], [0.2072384604289609, 'liblinear', 'balanced'], [0.5384747663292275, 'liblinear', None], [0.03247068990239737, 'liblinear', 'balanced'], [0.8849364371801829, 'lbfgs', 'balanced'], [0.45196369147193494, 'lbfgs', None], [1.0, 'liblinear', 'balanced'], [0.999460744985025, 'liblinear', 'balanced'], [0.01014194416509889, 'liblinear', 'balanced'], [0.9999303448939939, 'liblinear', 'balanced'], [1.0, 'liblinear', 'balanced'], [1.0, 'liblinear', 'balanced'], [1.0, 'liblinear', 'balanced'], [0.011257172838349695, 'liblinear', 'balanced'], [0.010377807090932278, 'lbfgs', 'balanced'], [0.01011750941361372, 'liblinear', 'balanced'], [0.9999638248078081, 'liblinear', None], [0.010181421996156476, 'liblinear', 'balanced'], [0.9995581721271325, 'lbfgs', 'balanced'], [0.9997578306883484, 'liblinear', None], [1.0, 'liblinear', 'balanced'], [0.010030776434129127, 'liblinear', None], [0.9994317412699829, 'liblinear', 'balanced'], [0.9998382120260763, 'lbfgs', 'balanced'], [0.999372359736551, 'liblinear', 'balanced'], [0.01022748714703384, 'liblinear', 'balanced'], [0.9997884209650915, 'lbfgs', 'balanced'], [0.9997683543607669, 'liblinear', 'balanced'], [0.010695171349365692, 'lbfgs', 'balanced'], [1.0, 'liblinear', 'balanced'], [1.0, 'liblinear', 'balanced'], [1.0, 'liblinear', 'balanced'], [0.011518647568864605, 'liblinear', 'balanced'], [0.9995162250211842, 'lbfgs', 'balanced'], [0.9989151294849552, 'liblinear', None], [0.010556065567228672, 'liblinear', 'balanced'], [0.010730302792922112, 'lbfgs', 'balanced'], [0.999125766484369, 'lbfgs', None], [1.0, 'liblinear', 'balanced'], [0.010013757302516992, 'liblinear', None], [0.9998065810457082, 'liblinear', None], [0.9998550732088938, 'liblinear', None], [0.9998226239668337, 'lbfgs', None], [1.0, 'liblinear', 'balanced'], [1.0, 'liblinear', 'balanced'], [1.0, 'liblinear', 'balanced'], [0.011381391780548878, 'lbfgs', 'balanced'], [0.9994493216738822, 'liblinear', None], [0.01035536701269889, 'liblinear', None], [0.010216121362252055, 'lbfgs', 'balanced'], [0.9997758660590752, 'liblinear', None], [0.9996994791051687, 'lbfgs', 'balanced'], [1.0, 'liblinear', 'balanced'], [1.0, 'liblinear', 'balanced'], [1.0, 'liblinear', 'balanced'], [1.0, 'liblinear', 'balanced'], [0.010652742335398136, 'liblinear', 'balanced'], [0.999984364281771, 'liblinear', None], [0.9993356303774671, 'lbfgs', 'balanced'], [1.0, 'liblinear', 'balanced'], [1.0, 'liblinear', 'balanced'], [1.0, 'liblinear', 'balanced'], [1.0, 'liblinear', 'balanced'], [1.0, 'liblinear', 'balanced'], [0.010264689659141497, 'lbfgs', 'balanced'], [1.0, 'liblinear', 'balanced'], [1.0, 'liblinear', 'balanced'], [1.0, 'liblinear', 'balanced'], [1.0, 'liblinear', 'balanced'], [0.9993748128653547, 'lbfgs', None], [0.010093663337293893, 'liblinear', 'balanced'], [1.0, 'liblinear', 'balanced'], [1.0, 'liblinear', 'balanced'], [0.9990756548592539, 'liblinear', None], [0.999945860816722, 'lbfgs', 'balanced'], [1.0, 'liblinear', 'balanced'], [0.010147001320664852, 'liblinear', 'balanced'], [0.010041675503864853, 'lbfgs', 'balanced'], [0.010770192603966694, 'liblinear', None], [0.5359693080735107, 'liblinear', 'balanced'], [0.9999760182449962, 'liblinear', None], [0.5039912698307398, 'liblinear', 'balanced'], [0.9999500461560878, 'lbfgs', 'balanced'], [0.0106960434099977, 'lbfgs', 'balanced'], [0.998842300428579, 'liblinear', None], [0.010150051397340458, 'liblinear', 'balanced'], [0.9999542948852986, 'lbfgs', 'balanced'], [0.999962124854017, 'liblinear', None], [0.01032114502478097, 'liblinear', 'balanced'], [0.9998261894278262, 'lbfgs', None], [0.5053968027855269, 'liblinear', 'balanced'], [1.0, 'liblinear', 'balanced'], [0.01026317924498407, 'lbfgs', 'balanced'], [0.010505079633510188, 'lbfgs', None], [0.5909903243498021, 'liblinear', 'balanced'], [0.4884288492473269, 'liblinear', 'balanced']]"
      ]
     },
     "execution_count": 19,
     "metadata": {},
     "output_type": "execute_result"
    }
   ],
   "source": [
    "reg_gp_lr"
   ]
  },
  {
   "cell_type": "code",
   "execution_count": 20,
   "metadata": {},
   "outputs": [
    {
     "data": {
      "text/plain": [
       "LogisticRegression(C=1.0, class_weight=None, dual=False, fit_intercept=True,\n",
       "          intercept_scaling=1, max_iter=100, multi_class='ovr', n_jobs=1,\n",
       "          penalty='l2', random_state=None, solver='liblinear', tol=0.0001,\n",
       "          verbose=0, warm_start=False)"
      ]
     },
     "execution_count": 20,
     "metadata": {},
     "output_type": "execute_result"
    }
   ],
   "source": [
    "lr = LogisticRegression()\n",
    "lr"
   ]
  },
  {
   "cell_type": "markdown",
   "metadata": {},
   "source": [
    "### Logistic Regression - Default Parameters"
   ]
  },
  {
   "cell_type": "code",
   "execution_count": 25,
   "metadata": {},
   "outputs": [
    {
     "data": {
      "text/html": [
       "<div>\n",
       "<style scoped>\n",
       "    .dataframe tbody tr th:only-of-type {\n",
       "        vertical-align: middle;\n",
       "    }\n",
       "\n",
       "    .dataframe tbody tr th {\n",
       "        vertical-align: top;\n",
       "    }\n",
       "\n",
       "    .dataframe thead th {\n",
       "        text-align: right;\n",
       "    }\n",
       "</style>\n",
       "<table border=\"1\" class=\"dataframe\">\n",
       "  <thead>\n",
       "    <tr style=\"text-align: right;\">\n",
       "      <th></th>\n",
       "      <th>C</th>\n",
       "      <th>solver</th>\n",
       "      <th>class_weight</th>\n",
       "      <th>score</th>\n",
       "      <th>score_val0</th>\n",
       "      <th>score_val1</th>\n",
       "      <th>score_val2</th>\n",
       "      <th>score_val3</th>\n",
       "      <th>score_val4</th>\n",
       "      <th>score_val5</th>\n",
       "      <th>score_val6</th>\n",
       "      <th>score_val7</th>\n",
       "      <th>score_val8</th>\n",
       "      <th>score_val9</th>\n",
       "      <th>average</th>\n",
       "    </tr>\n",
       "  </thead>\n",
       "  <tbody>\n",
       "    <tr>\n",
       "      <th>0</th>\n",
       "      <td>1.0</td>\n",
       "      <td>liblinear</td>\n",
       "      <td>None</td>\n",
       "      <td>fit_time</td>\n",
       "      <td>1.550853</td>\n",
       "      <td>1.990676</td>\n",
       "      <td>1.638618</td>\n",
       "      <td>1.547861</td>\n",
       "      <td>1.772260</td>\n",
       "      <td>1.788218</td>\n",
       "      <td>1.513951</td>\n",
       "      <td>1.474059</td>\n",
       "      <td>1.538887</td>\n",
       "      <td>1.707434</td>\n",
       "      <td>1.652282</td>\n",
       "    </tr>\n",
       "    <tr>\n",
       "      <th>1</th>\n",
       "      <td>1.0</td>\n",
       "      <td>liblinear</td>\n",
       "      <td>None</td>\n",
       "      <td>score_time</td>\n",
       "      <td>0.029921</td>\n",
       "      <td>0.028922</td>\n",
       "      <td>0.027925</td>\n",
       "      <td>0.032943</td>\n",
       "      <td>0.039894</td>\n",
       "      <td>0.031914</td>\n",
       "      <td>0.026928</td>\n",
       "      <td>0.032916</td>\n",
       "      <td>0.027924</td>\n",
       "      <td>0.027926</td>\n",
       "      <td>0.030721</td>\n",
       "    </tr>\n",
       "    <tr>\n",
       "      <th>2</th>\n",
       "      <td>1.0</td>\n",
       "      <td>liblinear</td>\n",
       "      <td>None</td>\n",
       "      <td>test_roc_auc</td>\n",
       "      <td>0.827341</td>\n",
       "      <td>0.817796</td>\n",
       "      <td>0.830286</td>\n",
       "      <td>0.816510</td>\n",
       "      <td>0.820313</td>\n",
       "      <td>0.827019</td>\n",
       "      <td>0.804402</td>\n",
       "      <td>0.823782</td>\n",
       "      <td>0.810271</td>\n",
       "      <td>0.822191</td>\n",
       "      <td>0.819991</td>\n",
       "    </tr>\n",
       "    <tr>\n",
       "      <th>3</th>\n",
       "      <td>1.0</td>\n",
       "      <td>liblinear</td>\n",
       "      <td>None</td>\n",
       "      <td>train_roc_auc</td>\n",
       "      <td>0.820850</td>\n",
       "      <td>0.821862</td>\n",
       "      <td>0.820230</td>\n",
       "      <td>0.822092</td>\n",
       "      <td>0.821759</td>\n",
       "      <td>0.820855</td>\n",
       "      <td>0.823317</td>\n",
       "      <td>0.821610</td>\n",
       "      <td>0.822674</td>\n",
       "      <td>0.821107</td>\n",
       "      <td>0.821636</td>\n",
       "    </tr>\n",
       "    <tr>\n",
       "      <th>4</th>\n",
       "      <td>1.0</td>\n",
       "      <td>liblinear</td>\n",
       "      <td>None</td>\n",
       "      <td>test_accuracy</td>\n",
       "      <td>0.937013</td>\n",
       "      <td>0.938075</td>\n",
       "      <td>0.936778</td>\n",
       "      <td>0.937950</td>\n",
       "      <td>0.935001</td>\n",
       "      <td>0.936881</td>\n",
       "      <td>0.938296</td>\n",
       "      <td>0.936881</td>\n",
       "      <td>0.935465</td>\n",
       "      <td>0.938886</td>\n",
       "      <td>0.937123</td>\n",
       "    </tr>\n",
       "    <tr>\n",
       "      <th>5</th>\n",
       "      <td>1.0</td>\n",
       "      <td>liblinear</td>\n",
       "      <td>None</td>\n",
       "      <td>train_accuracy</td>\n",
       "      <td>0.937397</td>\n",
       "      <td>0.937344</td>\n",
       "      <td>0.937528</td>\n",
       "      <td>0.937319</td>\n",
       "      <td>0.937529</td>\n",
       "      <td>0.937464</td>\n",
       "      <td>0.937346</td>\n",
       "      <td>0.937241</td>\n",
       "      <td>0.937674</td>\n",
       "      <td>0.937425</td>\n",
       "      <td>0.937427</td>\n",
       "    </tr>\n",
       "    <tr>\n",
       "      <th>6</th>\n",
       "      <td>1.0</td>\n",
       "      <td>liblinear</td>\n",
       "      <td>None</td>\n",
       "      <td>test_precision</td>\n",
       "      <td>0.593023</td>\n",
       "      <td>0.658228</td>\n",
       "      <td>0.587500</td>\n",
       "      <td>0.629213</td>\n",
       "      <td>0.490196</td>\n",
       "      <td>0.570000</td>\n",
       "      <td>0.644444</td>\n",
       "      <td>0.577778</td>\n",
       "      <td>0.514286</td>\n",
       "      <td>0.647619</td>\n",
       "      <td>0.591229</td>\n",
       "    </tr>\n",
       "    <tr>\n",
       "      <th>7</th>\n",
       "      <td>1.0</td>\n",
       "      <td>liblinear</td>\n",
       "      <td>None</td>\n",
       "      <td>train_precision</td>\n",
       "      <td>0.605296</td>\n",
       "      <td>0.602774</td>\n",
       "      <td>0.609394</td>\n",
       "      <td>0.602015</td>\n",
       "      <td>0.609069</td>\n",
       "      <td>0.606922</td>\n",
       "      <td>0.600490</td>\n",
       "      <td>0.597500</td>\n",
       "      <td>0.612634</td>\n",
       "      <td>0.606250</td>\n",
       "      <td>0.605235</td>\n",
       "    </tr>\n",
       "    <tr>\n",
       "      <th>8</th>\n",
       "      <td>1.0</td>\n",
       "      <td>liblinear</td>\n",
       "      <td>None</td>\n",
       "      <td>test_recall</td>\n",
       "      <td>0.092727</td>\n",
       "      <td>0.094545</td>\n",
       "      <td>0.085455</td>\n",
       "      <td>0.102004</td>\n",
       "      <td>0.091075</td>\n",
       "      <td>0.103825</td>\n",
       "      <td>0.105647</td>\n",
       "      <td>0.094718</td>\n",
       "      <td>0.065574</td>\n",
       "      <td>0.123862</td>\n",
       "      <td>0.095943</td>\n",
       "    </tr>\n",
       "    <tr>\n",
       "      <th>9</th>\n",
       "      <td>1.0</td>\n",
       "      <td>liblinear</td>\n",
       "      <td>None</td>\n",
       "      <td>train_recall</td>\n",
       "      <td>0.097107</td>\n",
       "      <td>0.096702</td>\n",
       "      <td>0.099737</td>\n",
       "      <td>0.096683</td>\n",
       "      <td>0.100526</td>\n",
       "      <td>0.099312</td>\n",
       "      <td>0.099110</td>\n",
       "      <td>0.096683</td>\n",
       "      <td>0.103964</td>\n",
       "      <td>0.098099</td>\n",
       "      <td>0.098792</td>\n",
       "    </tr>\n",
       "  </tbody>\n",
       "</table>\n",
       "</div>"
      ],
      "text/plain": [
       "     C     solver class_weight            score  score_val0  score_val1  \\\n",
       "0  1.0  liblinear         None         fit_time    1.550853    1.990676   \n",
       "1  1.0  liblinear         None       score_time    0.029921    0.028922   \n",
       "2  1.0  liblinear         None     test_roc_auc    0.827341    0.817796   \n",
       "3  1.0  liblinear         None    train_roc_auc    0.820850    0.821862   \n",
       "4  1.0  liblinear         None    test_accuracy    0.937013    0.938075   \n",
       "5  1.0  liblinear         None   train_accuracy    0.937397    0.937344   \n",
       "6  1.0  liblinear         None   test_precision    0.593023    0.658228   \n",
       "7  1.0  liblinear         None  train_precision    0.605296    0.602774   \n",
       "8  1.0  liblinear         None      test_recall    0.092727    0.094545   \n",
       "9  1.0  liblinear         None     train_recall    0.097107    0.096702   \n",
       "\n",
       "   score_val2  score_val3  score_val4  score_val5  score_val6  score_val7  \\\n",
       "0    1.638618    1.547861    1.772260    1.788218    1.513951    1.474059   \n",
       "1    0.027925    0.032943    0.039894    0.031914    0.026928    0.032916   \n",
       "2    0.830286    0.816510    0.820313    0.827019    0.804402    0.823782   \n",
       "3    0.820230    0.822092    0.821759    0.820855    0.823317    0.821610   \n",
       "4    0.936778    0.937950    0.935001    0.936881    0.938296    0.936881   \n",
       "5    0.937528    0.937319    0.937529    0.937464    0.937346    0.937241   \n",
       "6    0.587500    0.629213    0.490196    0.570000    0.644444    0.577778   \n",
       "7    0.609394    0.602015    0.609069    0.606922    0.600490    0.597500   \n",
       "8    0.085455    0.102004    0.091075    0.103825    0.105647    0.094718   \n",
       "9    0.099737    0.096683    0.100526    0.099312    0.099110    0.096683   \n",
       "\n",
       "   score_val8  score_val9   average  \n",
       "0    1.538887    1.707434  1.652282  \n",
       "1    0.027924    0.027926  0.030721  \n",
       "2    0.810271    0.822191  0.819991  \n",
       "3    0.822674    0.821107  0.821636  \n",
       "4    0.935465    0.938886  0.937123  \n",
       "5    0.937674    0.937425  0.937427  \n",
       "6    0.514286    0.647619  0.591229  \n",
       "7    0.612634    0.606250  0.605235  \n",
       "8    0.065574    0.123862  0.095943  \n",
       "9    0.103964    0.098099  0.098792  "
      ]
     },
     "execution_count": 25,
     "metadata": {},
     "output_type": "execute_result"
    }
   ],
   "source": [
    "res_lr = []\n",
    "lr = LogisticRegression()\n",
    "scores = [1.0, 'liblinear','None', cross_validate(lr, tr[cols], tr['HighUtilizationY2'], \n",
    "                                            scoring=['roc_auc','accuracy','precision','recall'], cv=10)]\n",
    "res_lr.append(scores)\n",
    "res_df_lr = pd.DataFrame(columns=[\"C\",\"solver\",\"class_weight\",\"score\",\"score_val0\",\"score_val1\",\"score_val2\",\n",
    "                                  \"score_val3\",\n",
    "                                  \"score_val4\",\"score_val5\",\"score_val6\",\"score_val7\",\"score_val8\",\"score_val9\",])\n",
    "cnt=0\n",
    "for r in res_lr:\n",
    "    for k,v in r[3].items():\n",
    "        l = [r[0]]\n",
    "        l.append(r[1])\n",
    "        l.append(r[2])\n",
    "        l.append(k)\n",
    "        for i in v:\n",
    "            l.append(i)\n",
    "        res_df_lr.loc[cnt]=l  \n",
    "        cnt = cnt + 1\n",
    "res_df_lr['average'] = res_df_lr[[\"score_val0\",\"score_val1\",\"score_val2\",\"score_val3\",\"score_val4\",\"score_val5\",\"score_val6\",\n",
    "                                  \"score_val7\",\"score_val8\",\"score_val9\"]].mean(numeric_only=True, axis=1)\n",
    "res_df_lr"
   ]
  },
  {
   "cell_type": "markdown",
   "metadata": {},
   "source": [
    "### Logistic Regression - Optimized Parameters"
   ]
  },
  {
   "cell_type": "code",
   "execution_count": 30,
   "metadata": {},
   "outputs": [
    {
     "data": {
      "text/html": [
       "<div>\n",
       "<style scoped>\n",
       "    .dataframe tbody tr th:only-of-type {\n",
       "        vertical-align: middle;\n",
       "    }\n",
       "\n",
       "    .dataframe tbody tr th {\n",
       "        vertical-align: top;\n",
       "    }\n",
       "\n",
       "    .dataframe thead th {\n",
       "        text-align: right;\n",
       "    }\n",
       "</style>\n",
       "<table border=\"1\" class=\"dataframe\">\n",
       "  <thead>\n",
       "    <tr style=\"text-align: right;\">\n",
       "      <th></th>\n",
       "      <th>C</th>\n",
       "      <th>solver</th>\n",
       "      <th>class_weight</th>\n",
       "      <th>score</th>\n",
       "      <th>score_val0</th>\n",
       "      <th>score_val1</th>\n",
       "      <th>score_val2</th>\n",
       "      <th>score_val3</th>\n",
       "      <th>score_val4</th>\n",
       "      <th>score_val5</th>\n",
       "      <th>score_val6</th>\n",
       "      <th>score_val7</th>\n",
       "      <th>score_val8</th>\n",
       "      <th>score_val9</th>\n",
       "      <th>average</th>\n",
       "    </tr>\n",
       "  </thead>\n",
       "  <tbody>\n",
       "    <tr>\n",
       "      <th>0</th>\n",
       "      <td>0.2</td>\n",
       "      <td>liblinear</td>\n",
       "      <td>balanced</td>\n",
       "      <td>fit_time</td>\n",
       "      <td>2.457424</td>\n",
       "      <td>2.373652</td>\n",
       "      <td>2.407562</td>\n",
       "      <td>2.899246</td>\n",
       "      <td>2.245996</td>\n",
       "      <td>2.736682</td>\n",
       "      <td>2.560154</td>\n",
       "      <td>2.539209</td>\n",
       "      <td>2.429503</td>\n",
       "      <td>2.440505</td>\n",
       "      <td>2.508993</td>\n",
       "    </tr>\n",
       "    <tr>\n",
       "      <th>1</th>\n",
       "      <td>0.2</td>\n",
       "      <td>liblinear</td>\n",
       "      <td>balanced</td>\n",
       "      <td>score_time</td>\n",
       "      <td>0.036870</td>\n",
       "      <td>0.033910</td>\n",
       "      <td>0.029921</td>\n",
       "      <td>0.029920</td>\n",
       "      <td>0.031914</td>\n",
       "      <td>0.028923</td>\n",
       "      <td>0.032913</td>\n",
       "      <td>0.031915</td>\n",
       "      <td>0.032912</td>\n",
       "      <td>0.030887</td>\n",
       "      <td>0.032008</td>\n",
       "    </tr>\n",
       "    <tr>\n",
       "      <th>2</th>\n",
       "      <td>0.2</td>\n",
       "      <td>liblinear</td>\n",
       "      <td>balanced</td>\n",
       "      <td>test_roc_auc</td>\n",
       "      <td>0.828431</td>\n",
       "      <td>0.819390</td>\n",
       "      <td>0.833383</td>\n",
       "      <td>0.818279</td>\n",
       "      <td>0.821678</td>\n",
       "      <td>0.829111</td>\n",
       "      <td>0.806817</td>\n",
       "      <td>0.823677</td>\n",
       "      <td>0.812417</td>\n",
       "      <td>0.826418</td>\n",
       "      <td>0.821960</td>\n",
       "    </tr>\n",
       "    <tr>\n",
       "      <th>3</th>\n",
       "      <td>0.2</td>\n",
       "      <td>liblinear</td>\n",
       "      <td>balanced</td>\n",
       "      <td>train_roc_auc</td>\n",
       "      <td>0.823452</td>\n",
       "      <td>0.824489</td>\n",
       "      <td>0.822866</td>\n",
       "      <td>0.824553</td>\n",
       "      <td>0.824279</td>\n",
       "      <td>0.823383</td>\n",
       "      <td>0.825791</td>\n",
       "      <td>0.824096</td>\n",
       "      <td>0.825182</td>\n",
       "      <td>0.823572</td>\n",
       "      <td>0.824166</td>\n",
       "    </tr>\n",
       "    <tr>\n",
       "      <th>4</th>\n",
       "      <td>0.2</td>\n",
       "      <td>liblinear</td>\n",
       "      <td>balanced</td>\n",
       "      <td>test_accuracy</td>\n",
       "      <td>0.767634</td>\n",
       "      <td>0.759731</td>\n",
       "      <td>0.763034</td>\n",
       "      <td>0.766427</td>\n",
       "      <td>0.765719</td>\n",
       "      <td>0.761680</td>\n",
       "      <td>0.765809</td>\n",
       "      <td>0.765809</td>\n",
       "      <td>0.776074</td>\n",
       "      <td>0.754365</td>\n",
       "      <td>0.764628</td>\n",
       "    </tr>\n",
       "    <tr>\n",
       "      <th>5</th>\n",
       "      <td>0.2</td>\n",
       "      <td>liblinear</td>\n",
       "      <td>balanced</td>\n",
       "      <td>train_accuracy</td>\n",
       "      <td>0.764832</td>\n",
       "      <td>0.765369</td>\n",
       "      <td>0.764989</td>\n",
       "      <td>0.765123</td>\n",
       "      <td>0.765503</td>\n",
       "      <td>0.763960</td>\n",
       "      <td>0.764327</td>\n",
       "      <td>0.764694</td>\n",
       "      <td>0.765113</td>\n",
       "      <td>0.764667</td>\n",
       "      <td>0.764858</td>\n",
       "    </tr>\n",
       "    <tr>\n",
       "      <th>6</th>\n",
       "      <td>0.2</td>\n",
       "      <td>liblinear</td>\n",
       "      <td>balanced</td>\n",
       "      <td>test_precision</td>\n",
       "      <td>0.176095</td>\n",
       "      <td>0.175469</td>\n",
       "      <td>0.184881</td>\n",
       "      <td>0.178716</td>\n",
       "      <td>0.178236</td>\n",
       "      <td>0.180911</td>\n",
       "      <td>0.175700</td>\n",
       "      <td>0.181455</td>\n",
       "      <td>0.181990</td>\n",
       "      <td>0.175899</td>\n",
       "      <td>0.178935</td>\n",
       "    </tr>\n",
       "    <tr>\n",
       "      <th>7</th>\n",
       "      <td>0.2</td>\n",
       "      <td>liblinear</td>\n",
       "      <td>balanced</td>\n",
       "      <td>train_precision</td>\n",
       "      <td>0.179978</td>\n",
       "      <td>0.179869</td>\n",
       "      <td>0.178882</td>\n",
       "      <td>0.179677</td>\n",
       "      <td>0.179871</td>\n",
       "      <td>0.178607</td>\n",
       "      <td>0.179674</td>\n",
       "      <td>0.179606</td>\n",
       "      <td>0.179953</td>\n",
       "      <td>0.179430</td>\n",
       "      <td>0.179555</td>\n",
       "    </tr>\n",
       "    <tr>\n",
       "      <th>8</th>\n",
       "      <td>0.2</td>\n",
       "      <td>liblinear</td>\n",
       "      <td>balanced</td>\n",
       "      <td>test_recall</td>\n",
       "      <td>0.701818</td>\n",
       "      <td>0.730909</td>\n",
       "      <td>0.778182</td>\n",
       "      <td>0.724954</td>\n",
       "      <td>0.724954</td>\n",
       "      <td>0.759563</td>\n",
       "      <td>0.708561</td>\n",
       "      <td>0.744991</td>\n",
       "      <td>0.703097</td>\n",
       "      <td>0.757741</td>\n",
       "      <td>0.733477</td>\n",
       "    </tr>\n",
       "    <tr>\n",
       "      <th>9</th>\n",
       "      <td>0.2</td>\n",
       "      <td>liblinear</td>\n",
       "      <td>balanced</td>\n",
       "      <td>train_recall</td>\n",
       "      <td>0.739429</td>\n",
       "      <td>0.736395</td>\n",
       "      <td>0.731742</td>\n",
       "      <td>0.736044</td>\n",
       "      <td>0.735639</td>\n",
       "      <td>0.734223</td>\n",
       "      <td>0.739482</td>\n",
       "      <td>0.737460</td>\n",
       "      <td>0.737864</td>\n",
       "      <td>0.736448</td>\n",
       "      <td>0.736473</td>\n",
       "    </tr>\n",
       "  </tbody>\n",
       "</table>\n",
       "</div>"
      ],
      "text/plain": [
       "     C     solver class_weight            score  score_val0  score_val1  \\\n",
       "0  0.2  liblinear     balanced         fit_time    2.457424    2.373652   \n",
       "1  0.2  liblinear     balanced       score_time    0.036870    0.033910   \n",
       "2  0.2  liblinear     balanced     test_roc_auc    0.828431    0.819390   \n",
       "3  0.2  liblinear     balanced    train_roc_auc    0.823452    0.824489   \n",
       "4  0.2  liblinear     balanced    test_accuracy    0.767634    0.759731   \n",
       "5  0.2  liblinear     balanced   train_accuracy    0.764832    0.765369   \n",
       "6  0.2  liblinear     balanced   test_precision    0.176095    0.175469   \n",
       "7  0.2  liblinear     balanced  train_precision    0.179978    0.179869   \n",
       "8  0.2  liblinear     balanced      test_recall    0.701818    0.730909   \n",
       "9  0.2  liblinear     balanced     train_recall    0.739429    0.736395   \n",
       "\n",
       "   score_val2  score_val3  score_val4  score_val5  score_val6  score_val7  \\\n",
       "0    2.407562    2.899246    2.245996    2.736682    2.560154    2.539209   \n",
       "1    0.029921    0.029920    0.031914    0.028923    0.032913    0.031915   \n",
       "2    0.833383    0.818279    0.821678    0.829111    0.806817    0.823677   \n",
       "3    0.822866    0.824553    0.824279    0.823383    0.825791    0.824096   \n",
       "4    0.763034    0.766427    0.765719    0.761680    0.765809    0.765809   \n",
       "5    0.764989    0.765123    0.765503    0.763960    0.764327    0.764694   \n",
       "6    0.184881    0.178716    0.178236    0.180911    0.175700    0.181455   \n",
       "7    0.178882    0.179677    0.179871    0.178607    0.179674    0.179606   \n",
       "8    0.778182    0.724954    0.724954    0.759563    0.708561    0.744991   \n",
       "9    0.731742    0.736044    0.735639    0.734223    0.739482    0.737460   \n",
       "\n",
       "   score_val8  score_val9   average  \n",
       "0    2.429503    2.440505  2.508993  \n",
       "1    0.032912    0.030887  0.032008  \n",
       "2    0.812417    0.826418  0.821960  \n",
       "3    0.825182    0.823572  0.824166  \n",
       "4    0.776074    0.754365  0.764628  \n",
       "5    0.765113    0.764667  0.764858  \n",
       "6    0.181990    0.175899  0.178935  \n",
       "7    0.179953    0.179430  0.179555  \n",
       "8    0.703097    0.757741  0.733477  \n",
       "9    0.737864    0.736448  0.736473  "
      ]
     },
     "execution_count": 30,
     "metadata": {},
     "output_type": "execute_result"
    }
   ],
   "source": [
    "res_lr = []\n",
    "lr = LogisticRegression(C=0.2, solver='liblinear',class_weight='balanced')\n",
    "scores = [0.2, 'liblinear','balanced', cross_validate(lr, tr[cols], tr['HighUtilizationY2'], \n",
    "                                            scoring=['roc_auc','accuracy','precision','recall'], cv=10)]\n",
    "res_lr.append(scores)\n",
    "res_df_lr = pd.DataFrame(columns=[\"C\",\"solver\",\"class_weight\",\"score\",\"score_val0\",\"score_val1\",\"score_val2\",\n",
    "                                  \"score_val3\",\n",
    "                                  \"score_val4\",\"score_val5\",\"score_val6\",\"score_val7\",\"score_val8\",\"score_val9\",])\n",
    "cnt=0\n",
    "for r in res_lr:\n",
    "    for k,v in r[3].items():\n",
    "        l = [r[0]]\n",
    "        l.append(r[1])\n",
    "        l.append(r[2])\n",
    "        l.append(k)\n",
    "        for i in v:\n",
    "            l.append(i)\n",
    "        res_df_lr.loc[cnt]=l  \n",
    "        cnt = cnt + 1\n",
    "res_df_lr['average'] = res_df_lr[[\"score_val0\",\"score_val1\",\"score_val2\",\"score_val3\",\"score_val4\",\"score_val5\",\"score_val6\",\n",
    "                                  \"score_val7\",\"score_val8\",\"score_val9\"]].mean(numeric_only=True, axis=1)\n",
    "res_df_lr"
   ]
  },
  {
   "cell_type": "markdown",
   "metadata": {},
   "source": [
    "### Gradient Boosting"
   ]
  },
  {
   "cell_type": "code",
   "execution_count": 31,
   "metadata": {},
   "outputs": [],
   "source": [
    "space_gb = [Integer(100, 200, name='n_estimators'),\n",
    "         Categorical(['sqrt', 'log2'], name='max_features'),\n",
    "         Categorical(['deviance', 'exponential'], name='loss')]"
   ]
  },
  {
   "cell_type": "code",
   "execution_count": 32,
   "metadata": {},
   "outputs": [],
   "source": [
    "from sklearn.ensemble import GradientBoostingClassifier\n",
    "from sklearn.model_selection import cross_val_score\n",
    "import numpy as np\n",
    "@use_named_args(space_gb)\n",
    "def objective(**params):\n",
    "    gb = GradientBoostingClassifier(**params)\n",
    "    return -np.mean(cross_val_score(gb, tr[cols], tr['HighUtilizationY2'], cv=5, n_jobs=1, scoring='roc_auc'))"
   ]
  },
  {
   "cell_type": "code",
   "execution_count": 33,
   "metadata": {},
   "outputs": [
    {
     "name": "stdout",
     "output_type": "stream",
     "text": [
      "Iteration No: 1 started. Evaluating function at random point.\n",
      "Iteration No: 1 ended. Evaluation done at random point.\n",
      "Time taken: 25.8100\n",
      "Function value obtained: -0.8274\n",
      "Current minimum: -0.8274\n",
      "Iteration No: 2 started. Evaluating function at random point.\n",
      "Iteration No: 2 ended. Evaluation done at random point.\n",
      "Time taken: 20.5251\n",
      "Function value obtained: -0.8271\n",
      "Current minimum: -0.8274\n",
      "Iteration No: 3 started. Evaluating function at random point.\n",
      "Iteration No: 3 ended. Evaluation done at random point.\n",
      "Time taken: 25.6963\n",
      "Function value obtained: -0.8281\n",
      "Current minimum: -0.8281\n",
      "Iteration No: 4 started. Evaluating function at random point.\n",
      "Iteration No: 4 ended. Evaluation done at random point.\n",
      "Time taken: 18.2642\n",
      "Function value obtained: -0.8267\n",
      "Current minimum: -0.8281\n",
      "Iteration No: 5 started. Evaluating function at random point.\n",
      "Iteration No: 5 ended. Evaluation done at random point.\n",
      "Time taken: 18.5163\n",
      "Function value obtained: -0.8257\n",
      "Current minimum: -0.8281\n",
      "Iteration No: 6 started. Evaluating function at random point.\n",
      "Iteration No: 6 ended. Evaluation done at random point.\n",
      "Time taken: 23.9938\n",
      "Function value obtained: -0.8270\n",
      "Current minimum: -0.8281\n",
      "Iteration No: 7 started. Evaluating function at random point.\n",
      "Iteration No: 7 ended. Evaluation done at random point.\n",
      "Time taken: 20.0614\n",
      "Function value obtained: -0.8263\n",
      "Current minimum: -0.8281\n",
      "Iteration No: 8 started. Evaluating function at random point.\n",
      "Iteration No: 8 ended. Evaluation done at random point.\n",
      "Time taken: 21.4865\n",
      "Function value obtained: -0.8275\n",
      "Current minimum: -0.8281\n",
      "Iteration No: 9 started. Evaluating function at random point.\n",
      "Iteration No: 9 ended. Evaluation done at random point.\n",
      "Time taken: 29.2089\n",
      "Function value obtained: -0.8280\n",
      "Current minimum: -0.8281\n",
      "Iteration No: 10 started. Evaluating function at random point.\n",
      "Iteration No: 10 ended. Evaluation done at random point.\n",
      "Time taken: 24.8067\n",
      "Function value obtained: -0.8266\n",
      "Current minimum: -0.8281\n",
      "Iteration No: 11 started. Searching for the next optimal point.\n",
      "Iteration No: 11 ended. Search finished for the next optimal point.\n",
      "Time taken: 13.7572\n",
      "Function value obtained: -0.8243\n",
      "Current minimum: -0.8281\n",
      "Iteration No: 12 started. Searching for the next optimal point.\n",
      "Iteration No: 12 ended. Search finished for the next optimal point.\n",
      "Time taken: 27.6192\n",
      "Function value obtained: -0.8272\n",
      "Current minimum: -0.8281\n",
      "Iteration No: 13 started. Searching for the next optimal point.\n"
     ]
    },
    {
     "name": "stderr",
     "output_type": "stream",
     "text": [
      "C:\\Users\\Merin\\Anaconda3\\lib\\site-packages\\skopt\\optimizer\\optimizer.py:399: UserWarning: The objective has been evaluated at this point before.\n",
      "  warnings.warn(\"The objective has been evaluated \"\n"
     ]
    },
    {
     "name": "stdout",
     "output_type": "stream",
     "text": [
      "Iteration No: 13 ended. Search finished for the next optimal point.\n",
      "Time taken: 28.0131\n",
      "Function value obtained: -0.8279\n",
      "Current minimum: -0.8281\n",
      "Iteration No: 14 started. Searching for the next optimal point.\n",
      "Iteration No: 14 ended. Search finished for the next optimal point.\n",
      "Time taken: 14.9560\n",
      "Function value obtained: -0.8253\n",
      "Current minimum: -0.8281\n",
      "Iteration No: 15 started. Searching for the next optimal point.\n",
      "Iteration No: 15 ended. Search finished for the next optimal point.\n",
      "Time taken: 31.5796\n",
      "Function value obtained: -0.8274\n",
      "Current minimum: -0.8281\n",
      "Iteration No: 16 started. Searching for the next optimal point.\n",
      "Iteration No: 16 ended. Search finished for the next optimal point.\n",
      "Time taken: 26.2708\n",
      "Function value obtained: -0.8275\n",
      "Current minimum: -0.8281\n",
      "Iteration No: 17 started. Searching for the next optimal point.\n"
     ]
    },
    {
     "name": "stderr",
     "output_type": "stream",
     "text": [
      "C:\\Users\\Merin\\Anaconda3\\lib\\site-packages\\skopt\\optimizer\\optimizer.py:399: UserWarning: The objective has been evaluated at this point before.\n",
      "  warnings.warn(\"The objective has been evaluated \"\n"
     ]
    },
    {
     "name": "stdout",
     "output_type": "stream",
     "text": [
      "Iteration No: 17 ended. Search finished for the next optimal point.\n",
      "Time taken: 15.0258\n",
      "Function value obtained: -0.8241\n",
      "Current minimum: -0.8281\n",
      "Iteration No: 18 started. Searching for the next optimal point.\n"
     ]
    },
    {
     "name": "stderr",
     "output_type": "stream",
     "text": [
      "C:\\Users\\Merin\\Anaconda3\\lib\\site-packages\\skopt\\optimizer\\optimizer.py:399: UserWarning: The objective has been evaluated at this point before.\n",
      "  warnings.warn(\"The objective has been evaluated \"\n"
     ]
    },
    {
     "name": "stdout",
     "output_type": "stream",
     "text": [
      "Iteration No: 18 ended. Search finished for the next optimal point.\n",
      "Time taken: 32.4652\n",
      "Function value obtained: -0.8276\n",
      "Current minimum: -0.8281\n",
      "Iteration No: 19 started. Searching for the next optimal point.\n"
     ]
    },
    {
     "name": "stderr",
     "output_type": "stream",
     "text": [
      "C:\\Users\\Merin\\Anaconda3\\lib\\site-packages\\skopt\\optimizer\\optimizer.py:399: UserWarning: The objective has been evaluated at this point before.\n",
      "  warnings.warn(\"The objective has been evaluated \"\n"
     ]
    },
    {
     "name": "stdout",
     "output_type": "stream",
     "text": [
      "Iteration No: 19 ended. Search finished for the next optimal point.\n",
      "Time taken: 30.7964\n",
      "Function value obtained: -0.8278\n",
      "Current minimum: -0.8281\n",
      "Iteration No: 20 started. Searching for the next optimal point.\n"
     ]
    },
    {
     "name": "stderr",
     "output_type": "stream",
     "text": [
      "C:\\Users\\Merin\\Anaconda3\\lib\\site-packages\\skopt\\optimizer\\optimizer.py:399: UserWarning: The objective has been evaluated at this point before.\n",
      "  warnings.warn(\"The objective has been evaluated \"\n"
     ]
    },
    {
     "name": "stdout",
     "output_type": "stream",
     "text": [
      "Iteration No: 20 ended. Search finished for the next optimal point.\n",
      "Time taken: 33.0137\n",
      "Function value obtained: -0.8282\n",
      "Current minimum: -0.8282\n",
      "Iteration No: 21 started. Searching for the next optimal point.\n"
     ]
    },
    {
     "name": "stderr",
     "output_type": "stream",
     "text": [
      "C:\\Users\\Merin\\Anaconda3\\lib\\site-packages\\skopt\\optimizer\\optimizer.py:399: UserWarning: The objective has been evaluated at this point before.\n",
      "  warnings.warn(\"The objective has been evaluated \"\n"
     ]
    },
    {
     "name": "stdout",
     "output_type": "stream",
     "text": [
      "Iteration No: 21 ended. Search finished for the next optimal point.\n",
      "Time taken: 34.3711\n",
      "Function value obtained: -0.8280\n",
      "Current minimum: -0.8282\n",
      "Iteration No: 22 started. Searching for the next optimal point.\n",
      "Iteration No: 22 ended. Search finished for the next optimal point.\n",
      "Time taken: 32.9220\n",
      "Function value obtained: -0.8273\n",
      "Current minimum: -0.8282\n",
      "Iteration No: 23 started. Searching for the next optimal point.\n"
     ]
    },
    {
     "name": "stderr",
     "output_type": "stream",
     "text": [
      "C:\\Users\\Merin\\Anaconda3\\lib\\site-packages\\skopt\\optimizer\\optimizer.py:399: UserWarning: The objective has been evaluated at this point before.\n",
      "  warnings.warn(\"The objective has been evaluated \"\n"
     ]
    },
    {
     "name": "stdout",
     "output_type": "stream",
     "text": [
      "Iteration No: 23 ended. Search finished for the next optimal point.\n",
      "Time taken: 17.4832\n",
      "Function value obtained: -0.8250\n",
      "Current minimum: -0.8282\n",
      "Iteration No: 24 started. Searching for the next optimal point.\n"
     ]
    },
    {
     "name": "stderr",
     "output_type": "stream",
     "text": [
      "C:\\Users\\Merin\\Anaconda3\\lib\\site-packages\\skopt\\optimizer\\optimizer.py:399: UserWarning: The objective has been evaluated at this point before.\n",
      "  warnings.warn(\"The objective has been evaluated \"\n"
     ]
    },
    {
     "name": "stdout",
     "output_type": "stream",
     "text": [
      "Iteration No: 24 ended. Search finished for the next optimal point.\n",
      "Time taken: 31.3212\n",
      "Function value obtained: -0.8280\n",
      "Current minimum: -0.8282\n",
      "Iteration No: 25 started. Searching for the next optimal point.\n",
      "Iteration No: 25 ended. Search finished for the next optimal point.\n",
      "Time taken: 22.6584\n",
      "Function value obtained: -0.8254\n",
      "Current minimum: -0.8282\n",
      "Iteration No: 26 started. Searching for the next optimal point.\n"
     ]
    },
    {
     "name": "stderr",
     "output_type": "stream",
     "text": [
      "C:\\Users\\Merin\\Anaconda3\\lib\\site-packages\\skopt\\optimizer\\optimizer.py:399: UserWarning: The objective has been evaluated at this point before.\n",
      "  warnings.warn(\"The objective has been evaluated \"\n"
     ]
    },
    {
     "name": "stdout",
     "output_type": "stream",
     "text": [
      "Iteration No: 26 ended. Search finished for the next optimal point.\n",
      "Time taken: 25.2405\n",
      "Function value obtained: -0.8276\n",
      "Current minimum: -0.8282\n",
      "Iteration No: 27 started. Searching for the next optimal point.\n"
     ]
    },
    {
     "name": "stderr",
     "output_type": "stream",
     "text": [
      "C:\\Users\\Merin\\Anaconda3\\lib\\site-packages\\skopt\\optimizer\\optimizer.py:399: UserWarning: The objective has been evaluated at this point before.\n",
      "  warnings.warn(\"The objective has been evaluated \"\n"
     ]
    },
    {
     "name": "stdout",
     "output_type": "stream",
     "text": [
      "Iteration No: 27 ended. Search finished for the next optimal point.\n",
      "Time taken: 23.3416\n",
      "Function value obtained: -0.8270\n",
      "Current minimum: -0.8282\n",
      "Iteration No: 28 started. Searching for the next optimal point.\n",
      "Iteration No: 28 ended. Search finished for the next optimal point.\n",
      "Time taken: 15.3021\n",
      "Function value obtained: -0.8253\n",
      "Current minimum: -0.8282\n",
      "Iteration No: 29 started. Searching for the next optimal point.\n"
     ]
    },
    {
     "name": "stderr",
     "output_type": "stream",
     "text": [
      "C:\\Users\\Merin\\Anaconda3\\lib\\site-packages\\skopt\\optimizer\\optimizer.py:399: UserWarning: The objective has been evaluated at this point before.\n",
      "  warnings.warn(\"The objective has been evaluated \"\n"
     ]
    },
    {
     "name": "stdout",
     "output_type": "stream",
     "text": [
      "Iteration No: 29 ended. Search finished for the next optimal point.\n",
      "Time taken: 13.5627\n",
      "Function value obtained: -0.8250\n",
      "Current minimum: -0.8282\n",
      "Iteration No: 30 started. Searching for the next optimal point.\n"
     ]
    },
    {
     "name": "stderr",
     "output_type": "stream",
     "text": [
      "C:\\Users\\Merin\\Anaconda3\\lib\\site-packages\\skopt\\optimizer\\optimizer.py:399: UserWarning: The objective has been evaluated at this point before.\n",
      "  warnings.warn(\"The objective has been evaluated \"\n"
     ]
    },
    {
     "name": "stdout",
     "output_type": "stream",
     "text": [
      "Iteration No: 30 ended. Search finished for the next optimal point.\n",
      "Time taken: 28.0560\n",
      "Function value obtained: -0.8283\n",
      "Current minimum: -0.8283\n",
      "Iteration No: 31 started. Searching for the next optimal point.\n"
     ]
    },
    {
     "name": "stderr",
     "output_type": "stream",
     "text": [
      "C:\\Users\\Merin\\Anaconda3\\lib\\site-packages\\skopt\\optimizer\\optimizer.py:399: UserWarning: The objective has been evaluated at this point before.\n",
      "  warnings.warn(\"The objective has been evaluated \"\n"
     ]
    },
    {
     "name": "stdout",
     "output_type": "stream",
     "text": [
      "Iteration No: 31 ended. Search finished for the next optimal point.\n",
      "Time taken: 36.0903\n",
      "Function value obtained: -0.8273\n",
      "Current minimum: -0.8283\n",
      "Iteration No: 32 started. Searching for the next optimal point.\n"
     ]
    },
    {
     "name": "stderr",
     "output_type": "stream",
     "text": [
      "C:\\Users\\Merin\\Anaconda3\\lib\\site-packages\\skopt\\optimizer\\optimizer.py:399: UserWarning: The objective has been evaluated at this point before.\n",
      "  warnings.warn(\"The objective has been evaluated \"\n"
     ]
    },
    {
     "name": "stdout",
     "output_type": "stream",
     "text": [
      "Iteration No: 32 ended. Search finished for the next optimal point.\n",
      "Time taken: 38.5932\n",
      "Function value obtained: -0.8281\n",
      "Current minimum: -0.8283\n",
      "Iteration No: 33 started. Searching for the next optimal point.\n"
     ]
    },
    {
     "name": "stderr",
     "output_type": "stream",
     "text": [
      "C:\\Users\\Merin\\Anaconda3\\lib\\site-packages\\skopt\\optimizer\\optimizer.py:399: UserWarning: The objective has been evaluated at this point before.\n",
      "  warnings.warn(\"The objective has been evaluated \"\n"
     ]
    },
    {
     "name": "stdout",
     "output_type": "stream",
     "text": [
      "Iteration No: 33 ended. Search finished for the next optimal point.\n",
      "Time taken: 32.1756\n",
      "Function value obtained: -0.8276\n",
      "Current minimum: -0.8283\n",
      "Iteration No: 34 started. Searching for the next optimal point.\n"
     ]
    },
    {
     "name": "stderr",
     "output_type": "stream",
     "text": [
      "C:\\Users\\Merin\\Anaconda3\\lib\\site-packages\\skopt\\optimizer\\optimizer.py:399: UserWarning: The objective has been evaluated at this point before.\n",
      "  warnings.warn(\"The objective has been evaluated \"\n"
     ]
    },
    {
     "name": "stdout",
     "output_type": "stream",
     "text": [
      "Iteration No: 34 ended. Search finished for the next optimal point.\n",
      "Time taken: 15.4347\n",
      "Function value obtained: -0.8255\n",
      "Current minimum: -0.8283\n",
      "Iteration No: 35 started. Searching for the next optimal point.\n"
     ]
    },
    {
     "name": "stderr",
     "output_type": "stream",
     "text": [
      "C:\\Users\\Merin\\Anaconda3\\lib\\site-packages\\skopt\\optimizer\\optimizer.py:399: UserWarning: The objective has been evaluated at this point before.\n",
      "  warnings.warn(\"The objective has been evaluated \"\n"
     ]
    },
    {
     "name": "stdout",
     "output_type": "stream",
     "text": [
      "Iteration No: 35 ended. Search finished for the next optimal point.\n",
      "Time taken: 14.8413\n",
      "Function value obtained: -0.8250\n",
      "Current minimum: -0.8283\n",
      "Iteration No: 36 started. Searching for the next optimal point.\n"
     ]
    },
    {
     "name": "stderr",
     "output_type": "stream",
     "text": [
      "C:\\Users\\Merin\\Anaconda3\\lib\\site-packages\\skopt\\optimizer\\optimizer.py:399: UserWarning: The objective has been evaluated at this point before.\n",
      "  warnings.warn(\"The objective has been evaluated \"\n"
     ]
    },
    {
     "name": "stdout",
     "output_type": "stream",
     "text": [
      "Iteration No: 36 ended. Search finished for the next optimal point.\n",
      "Time taken: 26.2159\n",
      "Function value obtained: -0.8275\n",
      "Current minimum: -0.8283\n",
      "Iteration No: 37 started. Searching for the next optimal point.\n"
     ]
    },
    {
     "name": "stderr",
     "output_type": "stream",
     "text": [
      "C:\\Users\\Merin\\Anaconda3\\lib\\site-packages\\skopt\\optimizer\\optimizer.py:399: UserWarning: The objective has been evaluated at this point before.\n",
      "  warnings.warn(\"The objective has been evaluated \"\n"
     ]
    },
    {
     "name": "stdout",
     "output_type": "stream",
     "text": [
      "Iteration No: 37 ended. Search finished for the next optimal point.\n",
      "Time taken: 31.0460\n",
      "Function value obtained: -0.8281\n",
      "Current minimum: -0.8283\n",
      "Iteration No: 38 started. Searching for the next optimal point.\n"
     ]
    },
    {
     "name": "stderr",
     "output_type": "stream",
     "text": [
      "C:\\Users\\Merin\\Anaconda3\\lib\\site-packages\\skopt\\optimizer\\optimizer.py:399: UserWarning: The objective has been evaluated at this point before.\n",
      "  warnings.warn(\"The objective has been evaluated \"\n"
     ]
    },
    {
     "name": "stdout",
     "output_type": "stream",
     "text": [
      "Iteration No: 38 ended. Search finished for the next optimal point.\n",
      "Time taken: 31.5137\n",
      "Function value obtained: -0.8276\n",
      "Current minimum: -0.8283\n",
      "Iteration No: 39 started. Searching for the next optimal point.\n"
     ]
    },
    {
     "name": "stderr",
     "output_type": "stream",
     "text": [
      "C:\\Users\\Merin\\Anaconda3\\lib\\site-packages\\skopt\\optimizer\\optimizer.py:399: UserWarning: The objective has been evaluated at this point before.\n",
      "  warnings.warn(\"The objective has been evaluated \"\n"
     ]
    },
    {
     "name": "stdout",
     "output_type": "stream",
     "text": [
      "Iteration No: 39 ended. Search finished for the next optimal point.\n",
      "Time taken: 27.6670\n",
      "Function value obtained: -0.8283\n",
      "Current minimum: -0.8283\n",
      "Iteration No: 40 started. Searching for the next optimal point.\n"
     ]
    },
    {
     "name": "stderr",
     "output_type": "stream",
     "text": [
      "C:\\Users\\Merin\\Anaconda3\\lib\\site-packages\\skopt\\optimizer\\optimizer.py:399: UserWarning: The objective has been evaluated at this point before.\n",
      "  warnings.warn(\"The objective has been evaluated \"\n"
     ]
    },
    {
     "name": "stdout",
     "output_type": "stream",
     "text": [
      "Iteration No: 40 ended. Search finished for the next optimal point.\n",
      "Time taken: 32.1819\n",
      "Function value obtained: -0.8280\n",
      "Current minimum: -0.8283\n",
      "Iteration No: 41 started. Searching for the next optimal point.\n"
     ]
    },
    {
     "name": "stderr",
     "output_type": "stream",
     "text": [
      "C:\\Users\\Merin\\Anaconda3\\lib\\site-packages\\skopt\\optimizer\\optimizer.py:399: UserWarning: The objective has been evaluated at this point before.\n",
      "  warnings.warn(\"The objective has been evaluated \"\n"
     ]
    },
    {
     "name": "stdout",
     "output_type": "stream",
     "text": [
      "Iteration No: 41 ended. Search finished for the next optimal point.\n",
      "Time taken: 27.4506\n",
      "Function value obtained: -0.8280\n",
      "Current minimum: -0.8283\n",
      "Iteration No: 42 started. Searching for the next optimal point.\n"
     ]
    },
    {
     "name": "stderr",
     "output_type": "stream",
     "text": [
      "C:\\Users\\Merin\\Anaconda3\\lib\\site-packages\\skopt\\optimizer\\optimizer.py:399: UserWarning: The objective has been evaluated at this point before.\n",
      "  warnings.warn(\"The objective has been evaluated \"\n"
     ]
    },
    {
     "name": "stdout",
     "output_type": "stream",
     "text": [
      "Iteration No: 42 ended. Search finished for the next optimal point.\n",
      "Time taken: 19.8957\n",
      "Function value obtained: -0.8248\n",
      "Current minimum: -0.8283\n",
      "Iteration No: 43 started. Searching for the next optimal point.\n"
     ]
    },
    {
     "name": "stderr",
     "output_type": "stream",
     "text": [
      "C:\\Users\\Merin\\Anaconda3\\lib\\site-packages\\skopt\\optimizer\\optimizer.py:399: UserWarning: The objective has been evaluated at this point before.\n",
      "  warnings.warn(\"The objective has been evaluated \"\n"
     ]
    },
    {
     "name": "stdout",
     "output_type": "stream",
     "text": [
      "Iteration No: 43 ended. Search finished for the next optimal point.\n",
      "Time taken: 21.2941\n",
      "Function value obtained: -0.8247\n",
      "Current minimum: -0.8283\n",
      "Iteration No: 44 started. Searching for the next optimal point.\n"
     ]
    },
    {
     "name": "stderr",
     "output_type": "stream",
     "text": [
      "C:\\Users\\Merin\\Anaconda3\\lib\\site-packages\\skopt\\optimizer\\optimizer.py:399: UserWarning: The objective has been evaluated at this point before.\n",
      "  warnings.warn(\"The objective has been evaluated \"\n"
     ]
    },
    {
     "name": "stdout",
     "output_type": "stream",
     "text": [
      "Iteration No: 44 ended. Search finished for the next optimal point.\n",
      "Time taken: 38.3747\n",
      "Function value obtained: -0.8270\n",
      "Current minimum: -0.8283\n",
      "Iteration No: 45 started. Searching for the next optimal point.\n"
     ]
    },
    {
     "name": "stderr",
     "output_type": "stream",
     "text": [
      "C:\\Users\\Merin\\Anaconda3\\lib\\site-packages\\skopt\\optimizer\\optimizer.py:399: UserWarning: The objective has been evaluated at this point before.\n",
      "  warnings.warn(\"The objective has been evaluated \"\n"
     ]
    },
    {
     "name": "stdout",
     "output_type": "stream",
     "text": [
      "Iteration No: 45 ended. Search finished for the next optimal point.\n",
      "Time taken: 18.6382\n",
      "Function value obtained: -0.8248\n",
      "Current minimum: -0.8283\n",
      "Iteration No: 46 started. Searching for the next optimal point.\n"
     ]
    },
    {
     "name": "stderr",
     "output_type": "stream",
     "text": [
      "C:\\Users\\Merin\\Anaconda3\\lib\\site-packages\\skopt\\optimizer\\optimizer.py:399: UserWarning: The objective has been evaluated at this point before.\n",
      "  warnings.warn(\"The objective has been evaluated \"\n"
     ]
    },
    {
     "name": "stdout",
     "output_type": "stream",
     "text": [
      "Iteration No: 46 ended. Search finished for the next optimal point.\n",
      "Time taken: 29.6776\n",
      "Function value obtained: -0.8274\n",
      "Current minimum: -0.8283\n",
      "Iteration No: 47 started. Searching for the next optimal point.\n"
     ]
    },
    {
     "name": "stderr",
     "output_type": "stream",
     "text": [
      "C:\\Users\\Merin\\Anaconda3\\lib\\site-packages\\skopt\\optimizer\\optimizer.py:399: UserWarning: The objective has been evaluated at this point before.\n",
      "  warnings.warn(\"The objective has been evaluated \"\n"
     ]
    },
    {
     "name": "stdout",
     "output_type": "stream",
     "text": [
      "Iteration No: 47 ended. Search finished for the next optimal point.\n",
      "Time taken: 32.5038\n",
      "Function value obtained: -0.8281\n",
      "Current minimum: -0.8283\n",
      "Iteration No: 48 started. Searching for the next optimal point.\n"
     ]
    },
    {
     "name": "stderr",
     "output_type": "stream",
     "text": [
      "C:\\Users\\Merin\\Anaconda3\\lib\\site-packages\\skopt\\optimizer\\optimizer.py:399: UserWarning: The objective has been evaluated at this point before.\n",
      "  warnings.warn(\"The objective has been evaluated \"\n"
     ]
    },
    {
     "name": "stdout",
     "output_type": "stream",
     "text": [
      "Iteration No: 48 ended. Search finished for the next optimal point.\n",
      "Time taken: 18.8741\n",
      "Function value obtained: -0.8247\n",
      "Current minimum: -0.8283\n",
      "Iteration No: 49 started. Searching for the next optimal point.\n"
     ]
    },
    {
     "name": "stderr",
     "output_type": "stream",
     "text": [
      "C:\\Users\\Merin\\Anaconda3\\lib\\site-packages\\skopt\\optimizer\\optimizer.py:399: UserWarning: The objective has been evaluated at this point before.\n",
      "  warnings.warn(\"The objective has been evaluated \"\n"
     ]
    },
    {
     "name": "stdout",
     "output_type": "stream",
     "text": [
      "Iteration No: 49 ended. Search finished for the next optimal point.\n",
      "Time taken: 38.4045\n",
      "Function value obtained: -0.8273\n",
      "Current minimum: -0.8283\n",
      "Iteration No: 50 started. Searching for the next optimal point.\n"
     ]
    },
    {
     "name": "stderr",
     "output_type": "stream",
     "text": [
      "C:\\Users\\Merin\\Anaconda3\\lib\\site-packages\\skopt\\optimizer\\optimizer.py:399: UserWarning: The objective has been evaluated at this point before.\n",
      "  warnings.warn(\"The objective has been evaluated \"\n"
     ]
    },
    {
     "name": "stdout",
     "output_type": "stream",
     "text": [
      "Iteration No: 50 ended. Search finished for the next optimal point.\n",
      "Time taken: 33.4767\n",
      "Function value obtained: -0.8278\n",
      "Current minimum: -0.8283\n",
      "Iteration No: 51 started. Searching for the next optimal point.\n"
     ]
    },
    {
     "name": "stderr",
     "output_type": "stream",
     "text": [
      "C:\\Users\\Merin\\Anaconda3\\lib\\site-packages\\skopt\\optimizer\\optimizer.py:399: UserWarning: The objective has been evaluated at this point before.\n",
      "  warnings.warn(\"The objective has been evaluated \"\n"
     ]
    },
    {
     "name": "stdout",
     "output_type": "stream",
     "text": [
      "Iteration No: 51 ended. Search finished for the next optimal point.\n",
      "Time taken: 37.8592\n",
      "Function value obtained: -0.8270\n",
      "Current minimum: -0.8283\n",
      "Iteration No: 52 started. Searching for the next optimal point.\n"
     ]
    },
    {
     "name": "stderr",
     "output_type": "stream",
     "text": [
      "C:\\Users\\Merin\\Anaconda3\\lib\\site-packages\\skopt\\optimizer\\optimizer.py:399: UserWarning: The objective has been evaluated at this point before.\n",
      "  warnings.warn(\"The objective has been evaluated \"\n"
     ]
    },
    {
     "name": "stdout",
     "output_type": "stream",
     "text": [
      "Iteration No: 52 ended. Search finished for the next optimal point.\n",
      "Time taken: 42.7026\n",
      "Function value obtained: -0.8284\n",
      "Current minimum: -0.8284\n",
      "Iteration No: 53 started. Searching for the next optimal point.\n"
     ]
    },
    {
     "name": "stderr",
     "output_type": "stream",
     "text": [
      "C:\\Users\\Merin\\Anaconda3\\lib\\site-packages\\skopt\\optimizer\\optimizer.py:399: UserWarning: The objective has been evaluated at this point before.\n",
      "  warnings.warn(\"The objective has been evaluated \"\n"
     ]
    },
    {
     "name": "stdout",
     "output_type": "stream",
     "text": [
      "Iteration No: 53 ended. Search finished for the next optimal point.\n",
      "Time taken: 17.7056\n",
      "Function value obtained: -0.8246\n",
      "Current minimum: -0.8284\n",
      "Iteration No: 54 started. Searching for the next optimal point.\n"
     ]
    },
    {
     "name": "stderr",
     "output_type": "stream",
     "text": [
      "C:\\Users\\Merin\\Anaconda3\\lib\\site-packages\\skopt\\optimizer\\optimizer.py:399: UserWarning: The objective has been evaluated at this point before.\n",
      "  warnings.warn(\"The objective has been evaluated \"\n"
     ]
    },
    {
     "name": "stdout",
     "output_type": "stream",
     "text": [
      "Iteration No: 54 ended. Search finished for the next optimal point.\n",
      "Time taken: 16.1985\n",
      "Function value obtained: -0.8248\n",
      "Current minimum: -0.8284\n",
      "Iteration No: 55 started. Searching for the next optimal point.\n"
     ]
    },
    {
     "name": "stderr",
     "output_type": "stream",
     "text": [
      "C:\\Users\\Merin\\Anaconda3\\lib\\site-packages\\skopt\\optimizer\\optimizer.py:399: UserWarning: The objective has been evaluated at this point before.\n",
      "  warnings.warn(\"The objective has been evaluated \"\n"
     ]
    },
    {
     "name": "stdout",
     "output_type": "stream",
     "text": [
      "Iteration No: 55 ended. Search finished for the next optimal point.\n",
      "Time taken: 27.6019\n",
      "Function value obtained: -0.8270\n",
      "Current minimum: -0.8284\n",
      "Iteration No: 56 started. Searching for the next optimal point.\n"
     ]
    },
    {
     "name": "stderr",
     "output_type": "stream",
     "text": [
      "C:\\Users\\Merin\\Anaconda3\\lib\\site-packages\\skopt\\optimizer\\optimizer.py:399: UserWarning: The objective has been evaluated at this point before.\n",
      "  warnings.warn(\"The objective has been evaluated \"\n"
     ]
    },
    {
     "name": "stdout",
     "output_type": "stream",
     "text": [
      "Iteration No: 56 ended. Search finished for the next optimal point.\n",
      "Time taken: 31.0269\n",
      "Function value obtained: -0.8274\n",
      "Current minimum: -0.8284\n",
      "Iteration No: 57 started. Searching for the next optimal point.\n"
     ]
    },
    {
     "name": "stderr",
     "output_type": "stream",
     "text": [
      "C:\\Users\\Merin\\Anaconda3\\lib\\site-packages\\skopt\\optimizer\\optimizer.py:399: UserWarning: The objective has been evaluated at this point before.\n",
      "  warnings.warn(\"The objective has been evaluated \"\n"
     ]
    },
    {
     "name": "stdout",
     "output_type": "stream",
     "text": [
      "Iteration No: 57 ended. Search finished for the next optimal point.\n",
      "Time taken: 29.2675\n",
      "Function value obtained: -0.8273\n",
      "Current minimum: -0.8284\n",
      "Iteration No: 58 started. Searching for the next optimal point.\n"
     ]
    },
    {
     "name": "stderr",
     "output_type": "stream",
     "text": [
      "C:\\Users\\Merin\\Anaconda3\\lib\\site-packages\\skopt\\optimizer\\optimizer.py:399: UserWarning: The objective has been evaluated at this point before.\n",
      "  warnings.warn(\"The objective has been evaluated \"\n"
     ]
    },
    {
     "name": "stdout",
     "output_type": "stream",
     "text": [
      "Iteration No: 58 ended. Search finished for the next optimal point.\n",
      "Time taken: 19.0683\n",
      "Function value obtained: -0.8263\n",
      "Current minimum: -0.8284\n",
      "Iteration No: 59 started. Searching for the next optimal point.\n"
     ]
    },
    {
     "name": "stderr",
     "output_type": "stream",
     "text": [
      "C:\\Users\\Merin\\Anaconda3\\lib\\site-packages\\skopt\\optimizer\\optimizer.py:399: UserWarning: The objective has been evaluated at this point before.\n",
      "  warnings.warn(\"The objective has been evaluated \"\n"
     ]
    },
    {
     "name": "stdout",
     "output_type": "stream",
     "text": [
      "Iteration No: 59 ended. Search finished for the next optimal point.\n",
      "Time taken: 30.6636\n",
      "Function value obtained: -0.8282\n",
      "Current minimum: -0.8284\n",
      "Iteration No: 60 started. Searching for the next optimal point.\n"
     ]
    },
    {
     "name": "stderr",
     "output_type": "stream",
     "text": [
      "C:\\Users\\Merin\\Anaconda3\\lib\\site-packages\\skopt\\optimizer\\optimizer.py:399: UserWarning: The objective has been evaluated at this point before.\n",
      "  warnings.warn(\"The objective has been evaluated \"\n"
     ]
    },
    {
     "name": "stdout",
     "output_type": "stream",
     "text": [
      "Iteration No: 60 ended. Search finished for the next optimal point.\n",
      "Time taken: 34.2371\n",
      "Function value obtained: -0.8281\n",
      "Current minimum: -0.8284\n",
      "Iteration No: 61 started. Searching for the next optimal point.\n"
     ]
    },
    {
     "name": "stderr",
     "output_type": "stream",
     "text": [
      "C:\\Users\\Merin\\Anaconda3\\lib\\site-packages\\skopt\\optimizer\\optimizer.py:399: UserWarning: The objective has been evaluated at this point before.\n",
      "  warnings.warn(\"The objective has been evaluated \"\n"
     ]
    },
    {
     "name": "stdout",
     "output_type": "stream",
     "text": [
      "Iteration No: 61 ended. Search finished for the next optimal point.\n",
      "Time taken: 17.2141\n",
      "Function value obtained: -0.8262\n",
      "Current minimum: -0.8284\n",
      "Iteration No: 62 started. Searching for the next optimal point.\n"
     ]
    },
    {
     "name": "stderr",
     "output_type": "stream",
     "text": [
      "C:\\Users\\Merin\\Anaconda3\\lib\\site-packages\\skopt\\optimizer\\optimizer.py:399: UserWarning: The objective has been evaluated at this point before.\n",
      "  warnings.warn(\"The objective has been evaluated \"\n"
     ]
    },
    {
     "name": "stdout",
     "output_type": "stream",
     "text": [
      "Iteration No: 62 ended. Search finished for the next optimal point.\n",
      "Time taken: 36.4606\n",
      "Function value obtained: -0.8287\n",
      "Current minimum: -0.8287\n",
      "Iteration No: 63 started. Searching for the next optimal point.\n"
     ]
    },
    {
     "name": "stderr",
     "output_type": "stream",
     "text": [
      "C:\\Users\\Merin\\Anaconda3\\lib\\site-packages\\skopt\\optimizer\\optimizer.py:399: UserWarning: The objective has been evaluated at this point before.\n",
      "  warnings.warn(\"The objective has been evaluated \"\n"
     ]
    },
    {
     "name": "stdout",
     "output_type": "stream",
     "text": [
      "Iteration No: 63 ended. Search finished for the next optimal point.\n",
      "Time taken: 16.2097\n",
      "Function value obtained: -0.8253\n",
      "Current minimum: -0.8287\n",
      "Iteration No: 64 started. Searching for the next optimal point.\n"
     ]
    },
    {
     "name": "stderr",
     "output_type": "stream",
     "text": [
      "C:\\Users\\Merin\\Anaconda3\\lib\\site-packages\\skopt\\optimizer\\optimizer.py:399: UserWarning: The objective has been evaluated at this point before.\n",
      "  warnings.warn(\"The objective has been evaluated \"\n"
     ]
    },
    {
     "name": "stdout",
     "output_type": "stream",
     "text": [
      "Iteration No: 64 ended. Search finished for the next optimal point.\n",
      "Time taken: 34.3820\n",
      "Function value obtained: -0.8284\n",
      "Current minimum: -0.8287\n",
      "Iteration No: 65 started. Searching for the next optimal point.\n"
     ]
    },
    {
     "name": "stderr",
     "output_type": "stream",
     "text": [
      "C:\\Users\\Merin\\Anaconda3\\lib\\site-packages\\skopt\\optimizer\\optimizer.py:399: UserWarning: The objective has been evaluated at this point before.\n",
      "  warnings.warn(\"The objective has been evaluated \"\n"
     ]
    },
    {
     "name": "stdout",
     "output_type": "stream",
     "text": [
      "Iteration No: 65 ended. Search finished for the next optimal point.\n",
      "Time taken: 27.7376\n",
      "Function value obtained: -0.8276\n",
      "Current minimum: -0.8287\n",
      "Iteration No: 66 started. Searching for the next optimal point.\n"
     ]
    },
    {
     "name": "stderr",
     "output_type": "stream",
     "text": [
      "C:\\Users\\Merin\\Anaconda3\\lib\\site-packages\\skopt\\optimizer\\optimizer.py:399: UserWarning: The objective has been evaluated at this point before.\n",
      "  warnings.warn(\"The objective has been evaluated \"\n"
     ]
    },
    {
     "name": "stdout",
     "output_type": "stream",
     "text": [
      "Iteration No: 66 ended. Search finished for the next optimal point.\n",
      "Time taken: 27.4474\n",
      "Function value obtained: -0.8271\n",
      "Current minimum: -0.8287\n",
      "Iteration No: 67 started. Searching for the next optimal point.\n"
     ]
    },
    {
     "name": "stderr",
     "output_type": "stream",
     "text": [
      "C:\\Users\\Merin\\Anaconda3\\lib\\site-packages\\skopt\\optimizer\\optimizer.py:399: UserWarning: The objective has been evaluated at this point before.\n",
      "  warnings.warn(\"The objective has been evaluated \"\n"
     ]
    },
    {
     "name": "stdout",
     "output_type": "stream",
     "text": [
      "Iteration No: 67 ended. Search finished for the next optimal point.\n",
      "Time taken: 36.0041\n",
      "Function value obtained: -0.8280\n",
      "Current minimum: -0.8287\n",
      "Iteration No: 68 started. Searching for the next optimal point.\n"
     ]
    },
    {
     "name": "stderr",
     "output_type": "stream",
     "text": [
      "C:\\Users\\Merin\\Anaconda3\\lib\\site-packages\\skopt\\optimizer\\optimizer.py:399: UserWarning: The objective has been evaluated at this point before.\n",
      "  warnings.warn(\"The objective has been evaluated \"\n"
     ]
    },
    {
     "name": "stdout",
     "output_type": "stream",
     "text": [
      "Iteration No: 68 ended. Search finished for the next optimal point.\n",
      "Time taken: 18.8019\n",
      "Function value obtained: -0.8245\n",
      "Current minimum: -0.8287\n",
      "Iteration No: 69 started. Searching for the next optimal point.\n"
     ]
    },
    {
     "name": "stderr",
     "output_type": "stream",
     "text": [
      "C:\\Users\\Merin\\Anaconda3\\lib\\site-packages\\skopt\\optimizer\\optimizer.py:399: UserWarning: The objective has been evaluated at this point before.\n",
      "  warnings.warn(\"The objective has been evaluated \"\n"
     ]
    },
    {
     "name": "stdout",
     "output_type": "stream",
     "text": [
      "Iteration No: 69 ended. Search finished for the next optimal point.\n",
      "Time taken: 17.2112\n",
      "Function value obtained: -0.8249\n",
      "Current minimum: -0.8287\n",
      "Iteration No: 70 started. Searching for the next optimal point.\n"
     ]
    },
    {
     "name": "stderr",
     "output_type": "stream",
     "text": [
      "C:\\Users\\Merin\\Anaconda3\\lib\\site-packages\\skopt\\optimizer\\optimizer.py:399: UserWarning: The objective has been evaluated at this point before.\n",
      "  warnings.warn(\"The objective has been evaluated \"\n"
     ]
    },
    {
     "name": "stdout",
     "output_type": "stream",
     "text": [
      "Iteration No: 70 ended. Search finished for the next optimal point.\n",
      "Time taken: 29.4792\n",
      "Function value obtained: -0.8283\n",
      "Current minimum: -0.8287\n",
      "Iteration No: 71 started. Searching for the next optimal point.\n"
     ]
    },
    {
     "name": "stderr",
     "output_type": "stream",
     "text": [
      "C:\\Users\\Merin\\Anaconda3\\lib\\site-packages\\skopt\\optimizer\\optimizer.py:399: UserWarning: The objective has been evaluated at this point before.\n",
      "  warnings.warn(\"The objective has been evaluated \"\n"
     ]
    },
    {
     "name": "stdout",
     "output_type": "stream",
     "text": [
      "Iteration No: 71 ended. Search finished for the next optimal point.\n",
      "Time taken: 27.8190\n",
      "Function value obtained: -0.8267\n",
      "Current minimum: -0.8287\n",
      "Iteration No: 72 started. Searching for the next optimal point.\n"
     ]
    },
    {
     "name": "stderr",
     "output_type": "stream",
     "text": [
      "C:\\Users\\Merin\\Anaconda3\\lib\\site-packages\\skopt\\optimizer\\optimizer.py:399: UserWarning: The objective has been evaluated at this point before.\n",
      "  warnings.warn(\"The objective has been evaluated \"\n"
     ]
    },
    {
     "name": "stdout",
     "output_type": "stream",
     "text": [
      "Iteration No: 72 ended. Search finished for the next optimal point.\n",
      "Time taken: 33.4853\n",
      "Function value obtained: -0.8278\n",
      "Current minimum: -0.8287\n",
      "Iteration No: 73 started. Searching for the next optimal point.\n"
     ]
    },
    {
     "name": "stderr",
     "output_type": "stream",
     "text": [
      "C:\\Users\\Merin\\Anaconda3\\lib\\site-packages\\skopt\\optimizer\\optimizer.py:399: UserWarning: The objective has been evaluated at this point before.\n",
      "  warnings.warn(\"The objective has been evaluated \"\n"
     ]
    },
    {
     "name": "stdout",
     "output_type": "stream",
     "text": [
      "Iteration No: 73 ended. Search finished for the next optimal point.\n",
      "Time taken: 35.3782\n",
      "Function value obtained: -0.8283\n",
      "Current minimum: -0.8287\n",
      "Iteration No: 74 started. Searching for the next optimal point.\n"
     ]
    },
    {
     "name": "stderr",
     "output_type": "stream",
     "text": [
      "C:\\Users\\Merin\\Anaconda3\\lib\\site-packages\\skopt\\optimizer\\optimizer.py:399: UserWarning: The objective has been evaluated at this point before.\n",
      "  warnings.warn(\"The objective has been evaluated \"\n"
     ]
    },
    {
     "name": "stdout",
     "output_type": "stream",
     "text": [
      "Iteration No: 74 ended. Search finished for the next optimal point.\n",
      "Time taken: 18.0831\n",
      "Function value obtained: -0.8249\n",
      "Current minimum: -0.8287\n",
      "Iteration No: 75 started. Searching for the next optimal point.\n"
     ]
    },
    {
     "name": "stderr",
     "output_type": "stream",
     "text": [
      "C:\\Users\\Merin\\Anaconda3\\lib\\site-packages\\skopt\\optimizer\\optimizer.py:399: UserWarning: The objective has been evaluated at this point before.\n",
      "  warnings.warn(\"The objective has been evaluated \"\n"
     ]
    },
    {
     "name": "stdout",
     "output_type": "stream",
     "text": [
      "Iteration No: 75 ended. Search finished for the next optimal point.\n",
      "Time taken: 16.3412\n",
      "Function value obtained: -0.8245\n",
      "Current minimum: -0.8287\n",
      "Iteration No: 76 started. Searching for the next optimal point.\n"
     ]
    },
    {
     "name": "stderr",
     "output_type": "stream",
     "text": [
      "C:\\Users\\Merin\\Anaconda3\\lib\\site-packages\\skopt\\optimizer\\optimizer.py:399: UserWarning: The objective has been evaluated at this point before.\n",
      "  warnings.warn(\"The objective has been evaluated \"\n"
     ]
    },
    {
     "name": "stdout",
     "output_type": "stream",
     "text": [
      "Iteration No: 76 ended. Search finished for the next optimal point.\n",
      "Time taken: 26.9760\n",
      "Function value obtained: -0.8275\n",
      "Current minimum: -0.8287\n",
      "Iteration No: 77 started. Searching for the next optimal point.\n"
     ]
    },
    {
     "name": "stderr",
     "output_type": "stream",
     "text": [
      "C:\\Users\\Merin\\Anaconda3\\lib\\site-packages\\skopt\\optimizer\\optimizer.py:399: UserWarning: The objective has been evaluated at this point before.\n",
      "  warnings.warn(\"The objective has been evaluated \"\n"
     ]
    },
    {
     "name": "stdout",
     "output_type": "stream",
     "text": [
      "Iteration No: 77 ended. Search finished for the next optimal point.\n",
      "Time taken: 34.8758\n",
      "Function value obtained: -0.8286\n",
      "Current minimum: -0.8287\n",
      "Iteration No: 78 started. Searching for the next optimal point.\n"
     ]
    },
    {
     "name": "stderr",
     "output_type": "stream",
     "text": [
      "C:\\Users\\Merin\\Anaconda3\\lib\\site-packages\\skopt\\optimizer\\optimizer.py:399: UserWarning: The objective has been evaluated at this point before.\n",
      "  warnings.warn(\"The objective has been evaluated \"\n"
     ]
    },
    {
     "name": "stdout",
     "output_type": "stream",
     "text": [
      "Iteration No: 78 ended. Search finished for the next optimal point.\n",
      "Time taken: 34.4973\n",
      "Function value obtained: -0.8280\n",
      "Current minimum: -0.8287\n",
      "Iteration No: 79 started. Searching for the next optimal point.\n"
     ]
    },
    {
     "name": "stderr",
     "output_type": "stream",
     "text": [
      "C:\\Users\\Merin\\Anaconda3\\lib\\site-packages\\skopt\\optimizer\\optimizer.py:399: UserWarning: The objective has been evaluated at this point before.\n",
      "  warnings.warn(\"The objective has been evaluated \"\n"
     ]
    },
    {
     "name": "stdout",
     "output_type": "stream",
     "text": [
      "Iteration No: 79 ended. Search finished for the next optimal point.\n",
      "Time taken: 36.0886\n",
      "Function value obtained: -0.8283\n",
      "Current minimum: -0.8287\n",
      "Iteration No: 80 started. Searching for the next optimal point.\n"
     ]
    },
    {
     "name": "stderr",
     "output_type": "stream",
     "text": [
      "C:\\Users\\Merin\\Anaconda3\\lib\\site-packages\\skopt\\optimizer\\optimizer.py:399: UserWarning: The objective has been evaluated at this point before.\n",
      "  warnings.warn(\"The objective has been evaluated \"\n"
     ]
    },
    {
     "name": "stdout",
     "output_type": "stream",
     "text": [
      "Iteration No: 80 ended. Search finished for the next optimal point.\n",
      "Time taken: 27.3487\n",
      "Function value obtained: -0.8271\n",
      "Current minimum: -0.8287\n",
      "Iteration No: 81 started. Searching for the next optimal point.\n"
     ]
    },
    {
     "name": "stderr",
     "output_type": "stream",
     "text": [
      "C:\\Users\\Merin\\Anaconda3\\lib\\site-packages\\skopt\\optimizer\\optimizer.py:399: UserWarning: The objective has been evaluated at this point before.\n",
      "  warnings.warn(\"The objective has been evaluated \"\n"
     ]
    },
    {
     "name": "stdout",
     "output_type": "stream",
     "text": [
      "Iteration No: 81 ended. Search finished for the next optimal point.\n",
      "Time taken: 18.0642\n",
      "Function value obtained: -0.8249\n",
      "Current minimum: -0.8287\n",
      "Iteration No: 82 started. Searching for the next optimal point.\n"
     ]
    },
    {
     "name": "stderr",
     "output_type": "stream",
     "text": [
      "C:\\Users\\Merin\\Anaconda3\\lib\\site-packages\\skopt\\optimizer\\optimizer.py:399: UserWarning: The objective has been evaluated at this point before.\n",
      "  warnings.warn(\"The objective has been evaluated \"\n"
     ]
    },
    {
     "name": "stdout",
     "output_type": "stream",
     "text": [
      "Iteration No: 82 ended. Search finished for the next optimal point.\n",
      "Time taken: 32.3080\n",
      "Function value obtained: -0.8277\n",
      "Current minimum: -0.8287\n",
      "Iteration No: 83 started. Searching for the next optimal point.\n"
     ]
    },
    {
     "name": "stderr",
     "output_type": "stream",
     "text": [
      "C:\\Users\\Merin\\Anaconda3\\lib\\site-packages\\skopt\\optimizer\\optimizer.py:399: UserWarning: The objective has been evaluated at this point before.\n",
      "  warnings.warn(\"The objective has been evaluated \"\n"
     ]
    },
    {
     "name": "stdout",
     "output_type": "stream",
     "text": [
      "Iteration No: 83 ended. Search finished for the next optimal point.\n",
      "Time taken: 17.3201\n",
      "Function value obtained: -0.8252\n",
      "Current minimum: -0.8287\n",
      "Iteration No: 84 started. Searching for the next optimal point.\n"
     ]
    },
    {
     "name": "stderr",
     "output_type": "stream",
     "text": [
      "C:\\Users\\Merin\\Anaconda3\\lib\\site-packages\\skopt\\optimizer\\optimizer.py:399: UserWarning: The objective has been evaluated at this point before.\n",
      "  warnings.warn(\"The objective has been evaluated \"\n"
     ]
    },
    {
     "name": "stdout",
     "output_type": "stream",
     "text": [
      "Iteration No: 84 ended. Search finished for the next optimal point.\n",
      "Time taken: 37.2296\n",
      "Function value obtained: -0.8282\n",
      "Current minimum: -0.8287\n",
      "Iteration No: 85 started. Searching for the next optimal point.\n"
     ]
    },
    {
     "name": "stderr",
     "output_type": "stream",
     "text": [
      "C:\\Users\\Merin\\Anaconda3\\lib\\site-packages\\skopt\\optimizer\\optimizer.py:399: UserWarning: The objective has been evaluated at this point before.\n",
      "  warnings.warn(\"The objective has been evaluated \"\n"
     ]
    },
    {
     "name": "stdout",
     "output_type": "stream",
     "text": [
      "Iteration No: 85 ended. Search finished for the next optimal point.\n",
      "Time taken: 26.9625\n",
      "Function value obtained: -0.8274\n",
      "Current minimum: -0.8287\n",
      "Iteration No: 86 started. Searching for the next optimal point.\n"
     ]
    },
    {
     "name": "stderr",
     "output_type": "stream",
     "text": [
      "C:\\Users\\Merin\\Anaconda3\\lib\\site-packages\\skopt\\optimizer\\optimizer.py:399: UserWarning: The objective has been evaluated at this point before.\n",
      "  warnings.warn(\"The objective has been evaluated \"\n"
     ]
    },
    {
     "name": "stdout",
     "output_type": "stream",
     "text": [
      "Iteration No: 86 ended. Search finished for the next optimal point.\n",
      "Time taken: 32.1884\n",
      "Function value obtained: -0.8274\n",
      "Current minimum: -0.8287\n",
      "Iteration No: 87 started. Searching for the next optimal point.\n"
     ]
    },
    {
     "name": "stderr",
     "output_type": "stream",
     "text": [
      "C:\\Users\\Merin\\Anaconda3\\lib\\site-packages\\skopt\\optimizer\\optimizer.py:399: UserWarning: The objective has been evaluated at this point before.\n",
      "  warnings.warn(\"The objective has been evaluated \"\n"
     ]
    },
    {
     "name": "stdout",
     "output_type": "stream",
     "text": [
      "Iteration No: 87 ended. Search finished for the next optimal point.\n",
      "Time taken: 29.0537\n",
      "Function value obtained: -0.8280\n",
      "Current minimum: -0.8287\n",
      "Iteration No: 88 started. Searching for the next optimal point.\n"
     ]
    },
    {
     "name": "stderr",
     "output_type": "stream",
     "text": [
      "C:\\Users\\Merin\\Anaconda3\\lib\\site-packages\\skopt\\optimizer\\optimizer.py:399: UserWarning: The objective has been evaluated at this point before.\n",
      "  warnings.warn(\"The objective has been evaluated \"\n"
     ]
    },
    {
     "name": "stdout",
     "output_type": "stream",
     "text": [
      "Iteration No: 88 ended. Search finished for the next optimal point.\n",
      "Time taken: 20.5894\n",
      "Function value obtained: -0.8257\n",
      "Current minimum: -0.8287\n",
      "Iteration No: 89 started. Searching for the next optimal point.\n"
     ]
    },
    {
     "name": "stderr",
     "output_type": "stream",
     "text": [
      "C:\\Users\\Merin\\Anaconda3\\lib\\site-packages\\skopt\\optimizer\\optimizer.py:399: UserWarning: The objective has been evaluated at this point before.\n",
      "  warnings.warn(\"The objective has been evaluated \"\n"
     ]
    },
    {
     "name": "stdout",
     "output_type": "stream",
     "text": [
      "Iteration No: 89 ended. Search finished for the next optimal point.\n",
      "Time taken: 31.2671\n",
      "Function value obtained: -0.8276\n",
      "Current minimum: -0.8287\n",
      "Iteration No: 90 started. Searching for the next optimal point.\n"
     ]
    },
    {
     "name": "stderr",
     "output_type": "stream",
     "text": [
      "C:\\Users\\Merin\\Anaconda3\\lib\\site-packages\\skopt\\optimizer\\optimizer.py:399: UserWarning: The objective has been evaluated at this point before.\n",
      "  warnings.warn(\"The objective has been evaluated \"\n"
     ]
    },
    {
     "name": "stdout",
     "output_type": "stream",
     "text": [
      "Iteration No: 90 ended. Search finished for the next optimal point.\n",
      "Time taken: 30.7723\n",
      "Function value obtained: -0.8277\n",
      "Current minimum: -0.8287\n",
      "Iteration No: 91 started. Searching for the next optimal point.\n"
     ]
    },
    {
     "name": "stderr",
     "output_type": "stream",
     "text": [
      "C:\\Users\\Merin\\Anaconda3\\lib\\site-packages\\skopt\\optimizer\\optimizer.py:399: UserWarning: The objective has been evaluated at this point before.\n",
      "  warnings.warn(\"The objective has been evaluated \"\n"
     ]
    },
    {
     "name": "stdout",
     "output_type": "stream",
     "text": [
      "Iteration No: 91 ended. Search finished for the next optimal point.\n",
      "Time taken: 17.7111\n",
      "Function value obtained: -0.8251\n",
      "Current minimum: -0.8287\n",
      "Iteration No: 92 started. Searching for the next optimal point.\n"
     ]
    },
    {
     "name": "stderr",
     "output_type": "stream",
     "text": [
      "C:\\Users\\Merin\\Anaconda3\\lib\\site-packages\\skopt\\optimizer\\optimizer.py:399: UserWarning: The objective has been evaluated at this point before.\n",
      "  warnings.warn(\"The objective has been evaluated \"\n"
     ]
    },
    {
     "name": "stdout",
     "output_type": "stream",
     "text": [
      "Iteration No: 92 ended. Search finished for the next optimal point.\n",
      "Time taken: 16.1768\n",
      "Function value obtained: -0.8246\n",
      "Current minimum: -0.8287\n",
      "Iteration No: 93 started. Searching for the next optimal point.\n"
     ]
    },
    {
     "name": "stderr",
     "output_type": "stream",
     "text": [
      "C:\\Users\\Merin\\Anaconda3\\lib\\site-packages\\skopt\\optimizer\\optimizer.py:399: UserWarning: The objective has been evaluated at this point before.\n",
      "  warnings.warn(\"The objective has been evaluated \"\n"
     ]
    },
    {
     "name": "stdout",
     "output_type": "stream",
     "text": [
      "Iteration No: 93 ended. Search finished for the next optimal point.\n",
      "Time taken: 28.6271\n",
      "Function value obtained: -0.8273\n",
      "Current minimum: -0.8287\n",
      "Iteration No: 94 started. Searching for the next optimal point.\n"
     ]
    },
    {
     "name": "stderr",
     "output_type": "stream",
     "text": [
      "C:\\Users\\Merin\\Anaconda3\\lib\\site-packages\\skopt\\optimizer\\optimizer.py:399: UserWarning: The objective has been evaluated at this point before.\n",
      "  warnings.warn(\"The objective has been evaluated \"\n"
     ]
    },
    {
     "name": "stdout",
     "output_type": "stream",
     "text": [
      "Iteration No: 94 ended. Search finished for the next optimal point.\n",
      "Time taken: 30.9470\n",
      "Function value obtained: -0.8274\n",
      "Current minimum: -0.8287\n",
      "Iteration No: 95 started. Searching for the next optimal point.\n"
     ]
    },
    {
     "name": "stderr",
     "output_type": "stream",
     "text": [
      "C:\\Users\\Merin\\Anaconda3\\lib\\site-packages\\skopt\\optimizer\\optimizer.py:399: UserWarning: The objective has been evaluated at this point before.\n",
      "  warnings.warn(\"The objective has been evaluated \"\n"
     ]
    },
    {
     "name": "stdout",
     "output_type": "stream",
     "text": [
      "Iteration No: 95 ended. Search finished for the next optimal point.\n",
      "Time taken: 27.8312\n",
      "Function value obtained: -0.8271\n",
      "Current minimum: -0.8287\n",
      "Iteration No: 96 started. Searching for the next optimal point.\n"
     ]
    },
    {
     "name": "stderr",
     "output_type": "stream",
     "text": [
      "C:\\Users\\Merin\\Anaconda3\\lib\\site-packages\\skopt\\optimizer\\optimizer.py:399: UserWarning: The objective has been evaluated at this point before.\n",
      "  warnings.warn(\"The objective has been evaluated \"\n"
     ]
    },
    {
     "name": "stdout",
     "output_type": "stream",
     "text": [
      "Iteration No: 96 ended. Search finished for the next optimal point.\n",
      "Time taken: 31.4589\n",
      "Function value obtained: -0.8275\n",
      "Current minimum: -0.8287\n",
      "Iteration No: 97 started. Searching for the next optimal point.\n"
     ]
    },
    {
     "name": "stderr",
     "output_type": "stream",
     "text": [
      "C:\\Users\\Merin\\Anaconda3\\lib\\site-packages\\skopt\\optimizer\\optimizer.py:399: UserWarning: The objective has been evaluated at this point before.\n",
      "  warnings.warn(\"The objective has been evaluated \"\n"
     ]
    },
    {
     "name": "stdout",
     "output_type": "stream",
     "text": [
      "Iteration No: 97 ended. Search finished for the next optimal point.\n",
      "Time taken: 16.8820\n",
      "Function value obtained: -0.8237\n",
      "Current minimum: -0.8287\n",
      "Iteration No: 98 started. Searching for the next optimal point.\n"
     ]
    },
    {
     "name": "stderr",
     "output_type": "stream",
     "text": [
      "C:\\Users\\Merin\\Anaconda3\\lib\\site-packages\\skopt\\optimizer\\optimizer.py:399: UserWarning: The objective has been evaluated at this point before.\n",
      "  warnings.warn(\"The objective has been evaluated \"\n"
     ]
    },
    {
     "name": "stdout",
     "output_type": "stream",
     "text": [
      "Iteration No: 98 ended. Search finished for the next optimal point.\n",
      "Time taken: 21.5549\n",
      "Function value obtained: -0.8256\n",
      "Current minimum: -0.8287\n",
      "Iteration No: 99 started. Searching for the next optimal point.\n"
     ]
    },
    {
     "name": "stderr",
     "output_type": "stream",
     "text": [
      "C:\\Users\\Merin\\Anaconda3\\lib\\site-packages\\skopt\\optimizer\\optimizer.py:399: UserWarning: The objective has been evaluated at this point before.\n",
      "  warnings.warn(\"The objective has been evaluated \"\n"
     ]
    },
    {
     "name": "stdout",
     "output_type": "stream",
     "text": [
      "Iteration No: 99 ended. Search finished for the next optimal point.\n",
      "Time taken: 31.3972\n",
      "Function value obtained: -0.8274\n",
      "Current minimum: -0.8287\n",
      "Iteration No: 100 started. Searching for the next optimal point.\n"
     ]
    },
    {
     "name": "stderr",
     "output_type": "stream",
     "text": [
      "C:\\Users\\Merin\\Anaconda3\\lib\\site-packages\\skopt\\optimizer\\optimizer.py:399: UserWarning: The objective has been evaluated at this point before.\n",
      "  warnings.warn(\"The objective has been evaluated \"\n"
     ]
    },
    {
     "name": "stdout",
     "output_type": "stream",
     "text": [
      "Iteration No: 100 ended. Search finished for the next optimal point.\n",
      "Time taken: 30.6906\n",
      "Function value obtained: -0.8284\n",
      "Current minimum: -0.8287\n"
     ]
    }
   ],
   "source": [
    "reg_gp_gb = gp_minimize(objective, space_gb, verbose=True)"
   ]
  },
  {
   "cell_type": "code",
   "execution_count": 34,
   "metadata": {},
   "outputs": [
    {
     "data": {
      "text/plain": [
       "          fun: -0.8286527877617654\n",
       "    func_vals: array([-0.82741432, -0.82710897, -0.82808604, -0.82665132, -0.82570659,\n",
       "       -0.82696495, -0.8262913 , -0.82745203, -0.82801072, -0.82662681,\n",
       "       -0.82431139, -0.82724157, -0.82791844, -0.82525193, -0.82738264,\n",
       "       -0.82751988, -0.82411265, -0.82755894, -0.82779658, -0.82816671,\n",
       "       -0.82799314, -0.82729582, -0.82504515, -0.82798445, -0.82535584,\n",
       "       -0.82759315, -0.82697691, -0.82531064, -0.8249811 , -0.82827978,\n",
       "       -0.82728124, -0.82814546, -0.82758064, -0.82551585, -0.82502899,\n",
       "       -0.82751822, -0.82806871, -0.82764142, -0.82825459, -0.82802142,\n",
       "       -0.82796435, -0.82481648, -0.82469724, -0.82696917, -0.82476094,\n",
       "       -0.82739971, -0.82805997, -0.82465511, -0.82730406, -0.82781856,\n",
       "       -0.82701003, -0.82843468, -0.8245992 , -0.82476332, -0.82697471,\n",
       "       -0.82743075, -0.82734043, -0.82628771, -0.82819166, -0.82811359,\n",
       "       -0.82615601, -0.82865279, -0.82530677, -0.8283947 , -0.82757303,\n",
       "       -0.8271169 , -0.82800187, -0.82449028, -0.82487725, -0.82827922,\n",
       "       -0.82670396, -0.82779749, -0.82828425, -0.82485316, -0.82451456,\n",
       "       -0.82746437, -0.8286029 , -0.82798531, -0.82825153, -0.82706345,\n",
       "       -0.82486983, -0.82771673, -0.82519327, -0.82815513, -0.82741756,\n",
       "       -0.82735922, -0.82800495, -0.82570203, -0.82761718, -0.82767773,\n",
       "       -0.82508225, -0.82458297, -0.82731971, -0.82743549, -0.8271444 ,\n",
       "       -0.82746019, -0.82370069, -0.82561519, -0.82742165, -0.82842702])\n",
       "       models: [GaussianProcessRegressor(alpha=1e-10, copy_X_train=True,\n",
       "             kernel=1**2 * Matern(length_scale=[1, 1, 1], nu=2.5) + WhiteKernel(noise_level=1),\n",
       "             n_restarts_optimizer=2, noise='gaussian', normalize_y=True,\n",
       "             optimizer='fmin_l_bfgs_b', random_state=1744541781), GaussianProcessRegressor(alpha=1e-10, copy_X_train=True,\n",
       "             kernel=1**2 * Matern(length_scale=[1, 1, 1], nu=2.5) + WhiteKernel(noise_level=1),\n",
       "             n_restarts_optimizer=2, noise='gaussian', normalize_y=True,\n",
       "             optimizer='fmin_l_bfgs_b', random_state=1744541781), GaussianProcessRegressor(alpha=1e-10, copy_X_train=True,\n",
       "             kernel=1**2 * Matern(length_scale=[1, 1, 1], nu=2.5) + WhiteKernel(noise_level=1),\n",
       "             n_restarts_optimizer=2, noise='gaussian', normalize_y=True,\n",
       "             optimizer='fmin_l_bfgs_b', random_state=1744541781), GaussianProcessRegressor(alpha=1e-10, copy_X_train=True,\n",
       "             kernel=1**2 * Matern(length_scale=[1, 1, 1], nu=2.5) + WhiteKernel(noise_level=1),\n",
       "             n_restarts_optimizer=2, noise='gaussian', normalize_y=True,\n",
       "             optimizer='fmin_l_bfgs_b', random_state=1744541781), GaussianProcessRegressor(alpha=1e-10, copy_X_train=True,\n",
       "             kernel=1**2 * Matern(length_scale=[1, 1, 1], nu=2.5) + WhiteKernel(noise_level=1),\n",
       "             n_restarts_optimizer=2, noise='gaussian', normalize_y=True,\n",
       "             optimizer='fmin_l_bfgs_b', random_state=1744541781), GaussianProcessRegressor(alpha=1e-10, copy_X_train=True,\n",
       "             kernel=1**2 * Matern(length_scale=[1, 1, 1], nu=2.5) + WhiteKernel(noise_level=1),\n",
       "             n_restarts_optimizer=2, noise='gaussian', normalize_y=True,\n",
       "             optimizer='fmin_l_bfgs_b', random_state=1744541781), GaussianProcessRegressor(alpha=1e-10, copy_X_train=True,\n",
       "             kernel=1**2 * Matern(length_scale=[1, 1, 1], nu=2.5) + WhiteKernel(noise_level=1),\n",
       "             n_restarts_optimizer=2, noise='gaussian', normalize_y=True,\n",
       "             optimizer='fmin_l_bfgs_b', random_state=1744541781), GaussianProcessRegressor(alpha=1e-10, copy_X_train=True,\n",
       "             kernel=1**2 * Matern(length_scale=[1, 1, 1], nu=2.5) + WhiteKernel(noise_level=1),\n",
       "             n_restarts_optimizer=2, noise='gaussian', normalize_y=True,\n",
       "             optimizer='fmin_l_bfgs_b', random_state=1744541781), GaussianProcessRegressor(alpha=1e-10, copy_X_train=True,\n",
       "             kernel=1**2 * Matern(length_scale=[1, 1, 1], nu=2.5) + WhiteKernel(noise_level=1),\n",
       "             n_restarts_optimizer=2, noise='gaussian', normalize_y=True,\n",
       "             optimizer='fmin_l_bfgs_b', random_state=1744541781), GaussianProcessRegressor(alpha=1e-10, copy_X_train=True,\n",
       "             kernel=1**2 * Matern(length_scale=[1, 1, 1], nu=2.5) + WhiteKernel(noise_level=1),\n",
       "             n_restarts_optimizer=2, noise='gaussian', normalize_y=True,\n",
       "             optimizer='fmin_l_bfgs_b', random_state=1744541781), GaussianProcessRegressor(alpha=1e-10, copy_X_train=True,\n",
       "             kernel=1**2 * Matern(length_scale=[1, 1, 1], nu=2.5) + WhiteKernel(noise_level=1),\n",
       "             n_restarts_optimizer=2, noise='gaussian', normalize_y=True,\n",
       "             optimizer='fmin_l_bfgs_b', random_state=1744541781), GaussianProcessRegressor(alpha=1e-10, copy_X_train=True,\n",
       "             kernel=1**2 * Matern(length_scale=[1, 1, 1], nu=2.5) + WhiteKernel(noise_level=1),\n",
       "             n_restarts_optimizer=2, noise='gaussian', normalize_y=True,\n",
       "             optimizer='fmin_l_bfgs_b', random_state=1744541781), GaussianProcessRegressor(alpha=1e-10, copy_X_train=True,\n",
       "             kernel=1**2 * Matern(length_scale=[1, 1, 1], nu=2.5) + WhiteKernel(noise_level=1),\n",
       "             n_restarts_optimizer=2, noise='gaussian', normalize_y=True,\n",
       "             optimizer='fmin_l_bfgs_b', random_state=1744541781), GaussianProcessRegressor(alpha=1e-10, copy_X_train=True,\n",
       "             kernel=1**2 * Matern(length_scale=[1, 1, 1], nu=2.5) + WhiteKernel(noise_level=1),\n",
       "             n_restarts_optimizer=2, noise='gaussian', normalize_y=True,\n",
       "             optimizer='fmin_l_bfgs_b', random_state=1744541781), GaussianProcessRegressor(alpha=1e-10, copy_X_train=True,\n",
       "             kernel=1**2 * Matern(length_scale=[1, 1, 1], nu=2.5) + WhiteKernel(noise_level=1),\n",
       "             n_restarts_optimizer=2, noise='gaussian', normalize_y=True,\n",
       "             optimizer='fmin_l_bfgs_b', random_state=1744541781), GaussianProcessRegressor(alpha=1e-10, copy_X_train=True,\n",
       "             kernel=1**2 * Matern(length_scale=[1, 1, 1], nu=2.5) + WhiteKernel(noise_level=1),\n",
       "             n_restarts_optimizer=2, noise='gaussian', normalize_y=True,\n",
       "             optimizer='fmin_l_bfgs_b', random_state=1744541781), GaussianProcessRegressor(alpha=1e-10, copy_X_train=True,\n",
       "             kernel=1**2 * Matern(length_scale=[1, 1, 1], nu=2.5) + WhiteKernel(noise_level=1),\n",
       "             n_restarts_optimizer=2, noise='gaussian', normalize_y=True,\n",
       "             optimizer='fmin_l_bfgs_b', random_state=1744541781), GaussianProcessRegressor(alpha=1e-10, copy_X_train=True,\n",
       "             kernel=1**2 * Matern(length_scale=[1, 1, 1], nu=2.5) + WhiteKernel(noise_level=1),\n",
       "             n_restarts_optimizer=2, noise='gaussian', normalize_y=True,\n",
       "             optimizer='fmin_l_bfgs_b', random_state=1744541781), GaussianProcessRegressor(alpha=1e-10, copy_X_train=True,\n",
       "             kernel=1**2 * Matern(length_scale=[1, 1, 1], nu=2.5) + WhiteKernel(noise_level=1),\n",
       "             n_restarts_optimizer=2, noise='gaussian', normalize_y=True,\n",
       "             optimizer='fmin_l_bfgs_b', random_state=1744541781), GaussianProcessRegressor(alpha=1e-10, copy_X_train=True,\n",
       "             kernel=1**2 * Matern(length_scale=[1, 1, 1], nu=2.5) + WhiteKernel(noise_level=1),\n",
       "             n_restarts_optimizer=2, noise='gaussian', normalize_y=True,\n",
       "             optimizer='fmin_l_bfgs_b', random_state=1744541781), GaussianProcessRegressor(alpha=1e-10, copy_X_train=True,\n",
       "             kernel=1**2 * Matern(length_scale=[1, 1, 1], nu=2.5) + WhiteKernel(noise_level=1),\n",
       "             n_restarts_optimizer=2, noise='gaussian', normalize_y=True,\n",
       "             optimizer='fmin_l_bfgs_b', random_state=1744541781), GaussianProcessRegressor(alpha=1e-10, copy_X_train=True,\n",
       "             kernel=1**2 * Matern(length_scale=[1, 1, 1], nu=2.5) + WhiteKernel(noise_level=1),\n",
       "             n_restarts_optimizer=2, noise='gaussian', normalize_y=True,\n",
       "             optimizer='fmin_l_bfgs_b', random_state=1744541781), GaussianProcessRegressor(alpha=1e-10, copy_X_train=True,\n",
       "             kernel=1**2 * Matern(length_scale=[1, 1, 1], nu=2.5) + WhiteKernel(noise_level=1),\n",
       "             n_restarts_optimizer=2, noise='gaussian', normalize_y=True,\n",
       "             optimizer='fmin_l_bfgs_b', random_state=1744541781), GaussianProcessRegressor(alpha=1e-10, copy_X_train=True,\n",
       "             kernel=1**2 * Matern(length_scale=[1, 1, 1], nu=2.5) + WhiteKernel(noise_level=1),\n",
       "             n_restarts_optimizer=2, noise='gaussian', normalize_y=True,\n",
       "             optimizer='fmin_l_bfgs_b', random_state=1744541781), GaussianProcessRegressor(alpha=1e-10, copy_X_train=True,\n",
       "             kernel=1**2 * Matern(length_scale=[1, 1, 1], nu=2.5) + WhiteKernel(noise_level=1),\n",
       "             n_restarts_optimizer=2, noise='gaussian', normalize_y=True,\n",
       "             optimizer='fmin_l_bfgs_b', random_state=1744541781), GaussianProcessRegressor(alpha=1e-10, copy_X_train=True,\n",
       "             kernel=1**2 * Matern(length_scale=[1, 1, 1], nu=2.5) + WhiteKernel(noise_level=1),\n",
       "             n_restarts_optimizer=2, noise='gaussian', normalize_y=True,\n",
       "             optimizer='fmin_l_bfgs_b', random_state=1744541781), GaussianProcessRegressor(alpha=1e-10, copy_X_train=True,\n",
       "             kernel=1**2 * Matern(length_scale=[1, 1, 1], nu=2.5) + WhiteKernel(noise_level=1),\n",
       "             n_restarts_optimizer=2, noise='gaussian', normalize_y=True,\n",
       "             optimizer='fmin_l_bfgs_b', random_state=1744541781), GaussianProcessRegressor(alpha=1e-10, copy_X_train=True,\n",
       "             kernel=1**2 * Matern(length_scale=[1, 1, 1], nu=2.5) + WhiteKernel(noise_level=1),\n",
       "             n_restarts_optimizer=2, noise='gaussian', normalize_y=True,\n",
       "             optimizer='fmin_l_bfgs_b', random_state=1744541781), GaussianProcessRegressor(alpha=1e-10, copy_X_train=True,\n",
       "             kernel=1**2 * Matern(length_scale=[1, 1, 1], nu=2.5) + WhiteKernel(noise_level=1),\n",
       "             n_restarts_optimizer=2, noise='gaussian', normalize_y=True,\n",
       "             optimizer='fmin_l_bfgs_b', random_state=1744541781), GaussianProcessRegressor(alpha=1e-10, copy_X_train=True,\n",
       "             kernel=1**2 * Matern(length_scale=[1, 1, 1], nu=2.5) + WhiteKernel(noise_level=1),\n",
       "             n_restarts_optimizer=2, noise='gaussian', normalize_y=True,\n",
       "             optimizer='fmin_l_bfgs_b', random_state=1744541781), GaussianProcessRegressor(alpha=1e-10, copy_X_train=True,\n",
       "             kernel=1**2 * Matern(length_scale=[1, 1, 1], nu=2.5) + WhiteKernel(noise_level=1),\n",
       "             n_restarts_optimizer=2, noise='gaussian', normalize_y=True,\n",
       "             optimizer='fmin_l_bfgs_b', random_state=1744541781), GaussianProcessRegressor(alpha=1e-10, copy_X_train=True,\n",
       "             kernel=1**2 * Matern(length_scale=[1, 1, 1], nu=2.5) + WhiteKernel(noise_level=1),\n",
       "             n_restarts_optimizer=2, noise='gaussian', normalize_y=True,\n",
       "             optimizer='fmin_l_bfgs_b', random_state=1744541781), GaussianProcessRegressor(alpha=1e-10, copy_X_train=True,\n",
       "             kernel=1**2 * Matern(length_scale=[1, 1, 1], nu=2.5) + WhiteKernel(noise_level=1),\n",
       "             n_restarts_optimizer=2, noise='gaussian', normalize_y=True,\n",
       "             optimizer='fmin_l_bfgs_b', random_state=1744541781), GaussianProcessRegressor(alpha=1e-10, copy_X_train=True,\n",
       "             kernel=1**2 * Matern(length_scale=[1, 1, 1], nu=2.5) + WhiteKernel(noise_level=1),\n",
       "             n_restarts_optimizer=2, noise='gaussian', normalize_y=True,\n",
       "             optimizer='fmin_l_bfgs_b', random_state=1744541781), GaussianProcessRegressor(alpha=1e-10, copy_X_train=True,\n",
       "             kernel=1**2 * Matern(length_scale=[1, 1, 1], nu=2.5) + WhiteKernel(noise_level=1),\n",
       "             n_restarts_optimizer=2, noise='gaussian', normalize_y=True,\n",
       "             optimizer='fmin_l_bfgs_b', random_state=1744541781), GaussianProcessRegressor(alpha=1e-10, copy_X_train=True,\n",
       "             kernel=1**2 * Matern(length_scale=[1, 1, 1], nu=2.5) + WhiteKernel(noise_level=1),\n",
       "             n_restarts_optimizer=2, noise='gaussian', normalize_y=True,\n",
       "             optimizer='fmin_l_bfgs_b', random_state=1744541781), GaussianProcessRegressor(alpha=1e-10, copy_X_train=True,\n",
       "             kernel=1**2 * Matern(length_scale=[1, 1, 1], nu=2.5) + WhiteKernel(noise_level=1),\n",
       "             n_restarts_optimizer=2, noise='gaussian', normalize_y=True,\n",
       "             optimizer='fmin_l_bfgs_b', random_state=1744541781), GaussianProcessRegressor(alpha=1e-10, copy_X_train=True,\n",
       "             kernel=1**2 * Matern(length_scale=[1, 1, 1], nu=2.5) + WhiteKernel(noise_level=1),\n",
       "             n_restarts_optimizer=2, noise='gaussian', normalize_y=True,\n",
       "             optimizer='fmin_l_bfgs_b', random_state=1744541781), GaussianProcessRegressor(alpha=1e-10, copy_X_train=True,\n",
       "             kernel=1**2 * Matern(length_scale=[1, 1, 1], nu=2.5) + WhiteKernel(noise_level=1),\n",
       "             n_restarts_optimizer=2, noise='gaussian', normalize_y=True,\n",
       "             optimizer='fmin_l_bfgs_b', random_state=1744541781), GaussianProcessRegressor(alpha=1e-10, copy_X_train=True,\n",
       "             kernel=1**2 * Matern(length_scale=[1, 1, 1], nu=2.5) + WhiteKernel(noise_level=1),\n",
       "             n_restarts_optimizer=2, noise='gaussian', normalize_y=True,\n",
       "             optimizer='fmin_l_bfgs_b', random_state=1744541781), GaussianProcessRegressor(alpha=1e-10, copy_X_train=True,\n",
       "             kernel=1**2 * Matern(length_scale=[1, 1, 1], nu=2.5) + WhiteKernel(noise_level=1),\n",
       "             n_restarts_optimizer=2, noise='gaussian', normalize_y=True,\n",
       "             optimizer='fmin_l_bfgs_b', random_state=1744541781), GaussianProcessRegressor(alpha=1e-10, copy_X_train=True,\n",
       "             kernel=1**2 * Matern(length_scale=[1, 1, 1], nu=2.5) + WhiteKernel(noise_level=1),\n",
       "             n_restarts_optimizer=2, noise='gaussian', normalize_y=True,\n",
       "             optimizer='fmin_l_bfgs_b', random_state=1744541781), GaussianProcessRegressor(alpha=1e-10, copy_X_train=True,\n",
       "             kernel=1**2 * Matern(length_scale=[1, 1, 1], nu=2.5) + WhiteKernel(noise_level=1),\n",
       "             n_restarts_optimizer=2, noise='gaussian', normalize_y=True,\n",
       "             optimizer='fmin_l_bfgs_b', random_state=1744541781), GaussianProcessRegressor(alpha=1e-10, copy_X_train=True,\n",
       "             kernel=1**2 * Matern(length_scale=[1, 1, 1], nu=2.5) + WhiteKernel(noise_level=1),\n",
       "             n_restarts_optimizer=2, noise='gaussian', normalize_y=True,\n",
       "             optimizer='fmin_l_bfgs_b', random_state=1744541781), GaussianProcessRegressor(alpha=1e-10, copy_X_train=True,\n",
       "             kernel=1**2 * Matern(length_scale=[1, 1, 1], nu=2.5) + WhiteKernel(noise_level=1),\n",
       "             n_restarts_optimizer=2, noise='gaussian', normalize_y=True,\n",
       "             optimizer='fmin_l_bfgs_b', random_state=1744541781), GaussianProcessRegressor(alpha=1e-10, copy_X_train=True,\n",
       "             kernel=1**2 * Matern(length_scale=[1, 1, 1], nu=2.5) + WhiteKernel(noise_level=1),\n",
       "             n_restarts_optimizer=2, noise='gaussian', normalize_y=True,\n",
       "             optimizer='fmin_l_bfgs_b', random_state=1744541781), GaussianProcessRegressor(alpha=1e-10, copy_X_train=True,\n",
       "             kernel=1**2 * Matern(length_scale=[1, 1, 1], nu=2.5) + WhiteKernel(noise_level=1),\n",
       "             n_restarts_optimizer=2, noise='gaussian', normalize_y=True,\n",
       "             optimizer='fmin_l_bfgs_b', random_state=1744541781), GaussianProcessRegressor(alpha=1e-10, copy_X_train=True,\n",
       "             kernel=1**2 * Matern(length_scale=[1, 1, 1], nu=2.5) + WhiteKernel(noise_level=1),\n",
       "             n_restarts_optimizer=2, noise='gaussian', normalize_y=True,\n",
       "             optimizer='fmin_l_bfgs_b', random_state=1744541781), GaussianProcessRegressor(alpha=1e-10, copy_X_train=True,\n",
       "             kernel=1**2 * Matern(length_scale=[1, 1, 1], nu=2.5) + WhiteKernel(noise_level=1),\n",
       "             n_restarts_optimizer=2, noise='gaussian', normalize_y=True,\n",
       "             optimizer='fmin_l_bfgs_b', random_state=1744541781), GaussianProcessRegressor(alpha=1e-10, copy_X_train=True,\n",
       "             kernel=1**2 * Matern(length_scale=[1, 1, 1], nu=2.5) + WhiteKernel(noise_level=1),\n",
       "             n_restarts_optimizer=2, noise='gaussian', normalize_y=True,\n",
       "             optimizer='fmin_l_bfgs_b', random_state=1744541781), GaussianProcessRegressor(alpha=1e-10, copy_X_train=True,\n",
       "             kernel=1**2 * Matern(length_scale=[1, 1, 1], nu=2.5) + WhiteKernel(noise_level=1),\n",
       "             n_restarts_optimizer=2, noise='gaussian', normalize_y=True,\n",
       "             optimizer='fmin_l_bfgs_b', random_state=1744541781), GaussianProcessRegressor(alpha=1e-10, copy_X_train=True,\n",
       "             kernel=1**2 * Matern(length_scale=[1, 1, 1], nu=2.5) + WhiteKernel(noise_level=1),\n",
       "             n_restarts_optimizer=2, noise='gaussian', normalize_y=True,\n",
       "             optimizer='fmin_l_bfgs_b', random_state=1744541781), GaussianProcessRegressor(alpha=1e-10, copy_X_train=True,\n",
       "             kernel=1**2 * Matern(length_scale=[1, 1, 1], nu=2.5) + WhiteKernel(noise_level=1),\n",
       "             n_restarts_optimizer=2, noise='gaussian', normalize_y=True,\n",
       "             optimizer='fmin_l_bfgs_b', random_state=1744541781), GaussianProcessRegressor(alpha=1e-10, copy_X_train=True,\n",
       "             kernel=1**2 * Matern(length_scale=[1, 1, 1], nu=2.5) + WhiteKernel(noise_level=1),\n",
       "             n_restarts_optimizer=2, noise='gaussian', normalize_y=True,\n",
       "             optimizer='fmin_l_bfgs_b', random_state=1744541781), GaussianProcessRegressor(alpha=1e-10, copy_X_train=True,\n",
       "             kernel=1**2 * Matern(length_scale=[1, 1, 1], nu=2.5) + WhiteKernel(noise_level=1),\n",
       "             n_restarts_optimizer=2, noise='gaussian', normalize_y=True,\n",
       "             optimizer='fmin_l_bfgs_b', random_state=1744541781), GaussianProcessRegressor(alpha=1e-10, copy_X_train=True,\n",
       "             kernel=1**2 * Matern(length_scale=[1, 1, 1], nu=2.5) + WhiteKernel(noise_level=1),\n",
       "             n_restarts_optimizer=2, noise='gaussian', normalize_y=True,\n",
       "             optimizer='fmin_l_bfgs_b', random_state=1744541781), GaussianProcessRegressor(alpha=1e-10, copy_X_train=True,\n",
       "             kernel=1**2 * Matern(length_scale=[1, 1, 1], nu=2.5) + WhiteKernel(noise_level=1),\n",
       "             n_restarts_optimizer=2, noise='gaussian', normalize_y=True,\n",
       "             optimizer='fmin_l_bfgs_b', random_state=1744541781), GaussianProcessRegressor(alpha=1e-10, copy_X_train=True,\n",
       "             kernel=1**2 * Matern(length_scale=[1, 1, 1], nu=2.5) + WhiteKernel(noise_level=1),\n",
       "             n_restarts_optimizer=2, noise='gaussian', normalize_y=True,\n",
       "             optimizer='fmin_l_bfgs_b', random_state=1744541781), GaussianProcessRegressor(alpha=1e-10, copy_X_train=True,\n",
       "             kernel=1**2 * Matern(length_scale=[1, 1, 1], nu=2.5) + WhiteKernel(noise_level=1),\n",
       "             n_restarts_optimizer=2, noise='gaussian', normalize_y=True,\n",
       "             optimizer='fmin_l_bfgs_b', random_state=1744541781), GaussianProcessRegressor(alpha=1e-10, copy_X_train=True,\n",
       "             kernel=1**2 * Matern(length_scale=[1, 1, 1], nu=2.5) + WhiteKernel(noise_level=1),\n",
       "             n_restarts_optimizer=2, noise='gaussian', normalize_y=True,\n",
       "             optimizer='fmin_l_bfgs_b', random_state=1744541781), GaussianProcessRegressor(alpha=1e-10, copy_X_train=True,\n",
       "             kernel=1**2 * Matern(length_scale=[1, 1, 1], nu=2.5) + WhiteKernel(noise_level=1),\n",
       "             n_restarts_optimizer=2, noise='gaussian', normalize_y=True,\n",
       "             optimizer='fmin_l_bfgs_b', random_state=1744541781), GaussianProcessRegressor(alpha=1e-10, copy_X_train=True,\n",
       "             kernel=1**2 * Matern(length_scale=[1, 1, 1], nu=2.5) + WhiteKernel(noise_level=1),\n",
       "             n_restarts_optimizer=2, noise='gaussian', normalize_y=True,\n",
       "             optimizer='fmin_l_bfgs_b', random_state=1744541781), GaussianProcessRegressor(alpha=1e-10, copy_X_train=True,\n",
       "             kernel=1**2 * Matern(length_scale=[1, 1, 1], nu=2.5) + WhiteKernel(noise_level=1),\n",
       "             n_restarts_optimizer=2, noise='gaussian', normalize_y=True,\n",
       "             optimizer='fmin_l_bfgs_b', random_state=1744541781), GaussianProcessRegressor(alpha=1e-10, copy_X_train=True,\n",
       "             kernel=1**2 * Matern(length_scale=[1, 1, 1], nu=2.5) + WhiteKernel(noise_level=1),\n",
       "             n_restarts_optimizer=2, noise='gaussian', normalize_y=True,\n",
       "             optimizer='fmin_l_bfgs_b', random_state=1744541781), GaussianProcessRegressor(alpha=1e-10, copy_X_train=True,\n",
       "             kernel=1**2 * Matern(length_scale=[1, 1, 1], nu=2.5) + WhiteKernel(noise_level=1),\n",
       "             n_restarts_optimizer=2, noise='gaussian', normalize_y=True,\n",
       "             optimizer='fmin_l_bfgs_b', random_state=1744541781), GaussianProcessRegressor(alpha=1e-10, copy_X_train=True,\n",
       "             kernel=1**2 * Matern(length_scale=[1, 1, 1], nu=2.5) + WhiteKernel(noise_level=1),\n",
       "             n_restarts_optimizer=2, noise='gaussian', normalize_y=True,\n",
       "             optimizer='fmin_l_bfgs_b', random_state=1744541781), GaussianProcessRegressor(alpha=1e-10, copy_X_train=True,\n",
       "             kernel=1**2 * Matern(length_scale=[1, 1, 1], nu=2.5) + WhiteKernel(noise_level=1),\n",
       "             n_restarts_optimizer=2, noise='gaussian', normalize_y=True,\n",
       "             optimizer='fmin_l_bfgs_b', random_state=1744541781), GaussianProcessRegressor(alpha=1e-10, copy_X_train=True,\n",
       "             kernel=1**2 * Matern(length_scale=[1, 1, 1], nu=2.5) + WhiteKernel(noise_level=1),\n",
       "             n_restarts_optimizer=2, noise='gaussian', normalize_y=True,\n",
       "             optimizer='fmin_l_bfgs_b', random_state=1744541781), GaussianProcessRegressor(alpha=1e-10, copy_X_train=True,\n",
       "             kernel=1**2 * Matern(length_scale=[1, 1, 1], nu=2.5) + WhiteKernel(noise_level=1),\n",
       "             n_restarts_optimizer=2, noise='gaussian', normalize_y=True,\n",
       "             optimizer='fmin_l_bfgs_b', random_state=1744541781), GaussianProcessRegressor(alpha=1e-10, copy_X_train=True,\n",
       "             kernel=1**2 * Matern(length_scale=[1, 1, 1], nu=2.5) + WhiteKernel(noise_level=1),\n",
       "             n_restarts_optimizer=2, noise='gaussian', normalize_y=True,\n",
       "             optimizer='fmin_l_bfgs_b', random_state=1744541781), GaussianProcessRegressor(alpha=1e-10, copy_X_train=True,\n",
       "             kernel=1**2 * Matern(length_scale=[1, 1, 1], nu=2.5) + WhiteKernel(noise_level=1),\n",
       "             n_restarts_optimizer=2, noise='gaussian', normalize_y=True,\n",
       "             optimizer='fmin_l_bfgs_b', random_state=1744541781), GaussianProcessRegressor(alpha=1e-10, copy_X_train=True,\n",
       "             kernel=1**2 * Matern(length_scale=[1, 1, 1], nu=2.5) + WhiteKernel(noise_level=1),\n",
       "             n_restarts_optimizer=2, noise='gaussian', normalize_y=True,\n",
       "             optimizer='fmin_l_bfgs_b', random_state=1744541781), GaussianProcessRegressor(alpha=1e-10, copy_X_train=True,\n",
       "             kernel=1**2 * Matern(length_scale=[1, 1, 1], nu=2.5) + WhiteKernel(noise_level=1),\n",
       "             n_restarts_optimizer=2, noise='gaussian', normalize_y=True,\n",
       "             optimizer='fmin_l_bfgs_b', random_state=1744541781), GaussianProcessRegressor(alpha=1e-10, copy_X_train=True,\n",
       "             kernel=1**2 * Matern(length_scale=[1, 1, 1], nu=2.5) + WhiteKernel(noise_level=1),\n",
       "             n_restarts_optimizer=2, noise='gaussian', normalize_y=True,\n",
       "             optimizer='fmin_l_bfgs_b', random_state=1744541781), GaussianProcessRegressor(alpha=1e-10, copy_X_train=True,\n",
       "             kernel=1**2 * Matern(length_scale=[1, 1, 1], nu=2.5) + WhiteKernel(noise_level=1),\n",
       "             n_restarts_optimizer=2, noise='gaussian', normalize_y=True,\n",
       "             optimizer='fmin_l_bfgs_b', random_state=1744541781), GaussianProcessRegressor(alpha=1e-10, copy_X_train=True,\n",
       "             kernel=1**2 * Matern(length_scale=[1, 1, 1], nu=2.5) + WhiteKernel(noise_level=1),\n",
       "             n_restarts_optimizer=2, noise='gaussian', normalize_y=True,\n",
       "             optimizer='fmin_l_bfgs_b', random_state=1744541781), GaussianProcessRegressor(alpha=1e-10, copy_X_train=True,\n",
       "             kernel=1**2 * Matern(length_scale=[1, 1, 1], nu=2.5) + WhiteKernel(noise_level=1),\n",
       "             n_restarts_optimizer=2, noise='gaussian', normalize_y=True,\n",
       "             optimizer='fmin_l_bfgs_b', random_state=1744541781), GaussianProcessRegressor(alpha=1e-10, copy_X_train=True,\n",
       "             kernel=1**2 * Matern(length_scale=[1, 1, 1], nu=2.5) + WhiteKernel(noise_level=1),\n",
       "             n_restarts_optimizer=2, noise='gaussian', normalize_y=True,\n",
       "             optimizer='fmin_l_bfgs_b', random_state=1744541781), GaussianProcessRegressor(alpha=1e-10, copy_X_train=True,\n",
       "             kernel=1**2 * Matern(length_scale=[1, 1, 1], nu=2.5) + WhiteKernel(noise_level=1),\n",
       "             n_restarts_optimizer=2, noise='gaussian', normalize_y=True,\n",
       "             optimizer='fmin_l_bfgs_b', random_state=1744541781), GaussianProcessRegressor(alpha=1e-10, copy_X_train=True,\n",
       "             kernel=1**2 * Matern(length_scale=[1, 1, 1], nu=2.5) + WhiteKernel(noise_level=1),\n",
       "             n_restarts_optimizer=2, noise='gaussian', normalize_y=True,\n",
       "             optimizer='fmin_l_bfgs_b', random_state=1744541781), GaussianProcessRegressor(alpha=1e-10, copy_X_train=True,\n",
       "             kernel=1**2 * Matern(length_scale=[1, 1, 1], nu=2.5) + WhiteKernel(noise_level=1),\n",
       "             n_restarts_optimizer=2, noise='gaussian', normalize_y=True,\n",
       "             optimizer='fmin_l_bfgs_b', random_state=1744541781), GaussianProcessRegressor(alpha=1e-10, copy_X_train=True,\n",
       "             kernel=1**2 * Matern(length_scale=[1, 1, 1], nu=2.5) + WhiteKernel(noise_level=1),\n",
       "             n_restarts_optimizer=2, noise='gaussian', normalize_y=True,\n",
       "             optimizer='fmin_l_bfgs_b', random_state=1744541781), GaussianProcessRegressor(alpha=1e-10, copy_X_train=True,\n",
       "             kernel=1**2 * Matern(length_scale=[1, 1, 1], nu=2.5) + WhiteKernel(noise_level=1),\n",
       "             n_restarts_optimizer=2, noise='gaussian', normalize_y=True,\n",
       "             optimizer='fmin_l_bfgs_b', random_state=1744541781), GaussianProcessRegressor(alpha=1e-10, copy_X_train=True,\n",
       "             kernel=1**2 * Matern(length_scale=[1, 1, 1], nu=2.5) + WhiteKernel(noise_level=1),\n",
       "             n_restarts_optimizer=2, noise='gaussian', normalize_y=True,\n",
       "             optimizer='fmin_l_bfgs_b', random_state=1744541781), GaussianProcessRegressor(alpha=1e-10, copy_X_train=True,\n",
       "             kernel=1**2 * Matern(length_scale=[1, 1, 1], nu=2.5) + WhiteKernel(noise_level=1),\n",
       "             n_restarts_optimizer=2, noise='gaussian', normalize_y=True,\n",
       "             optimizer='fmin_l_bfgs_b', random_state=1744541781), GaussianProcessRegressor(alpha=1e-10, copy_X_train=True,\n",
       "             kernel=1**2 * Matern(length_scale=[1, 1, 1], nu=2.5) + WhiteKernel(noise_level=1),\n",
       "             n_restarts_optimizer=2, noise='gaussian', normalize_y=True,\n",
       "             optimizer='fmin_l_bfgs_b', random_state=1744541781), GaussianProcessRegressor(alpha=1e-10, copy_X_train=True,\n",
       "             kernel=1**2 * Matern(length_scale=[1, 1, 1], nu=2.5) + WhiteKernel(noise_level=1),\n",
       "             n_restarts_optimizer=2, noise='gaussian', normalize_y=True,\n",
       "             optimizer='fmin_l_bfgs_b', random_state=1744541781), GaussianProcessRegressor(alpha=1e-10, copy_X_train=True,\n",
       "             kernel=1**2 * Matern(length_scale=[1, 1, 1], nu=2.5) + WhiteKernel(noise_level=1),\n",
       "             n_restarts_optimizer=2, noise='gaussian', normalize_y=True,\n",
       "             optimizer='fmin_l_bfgs_b', random_state=1744541781), GaussianProcessRegressor(alpha=1e-10, copy_X_train=True,\n",
       "             kernel=1**2 * Matern(length_scale=[1, 1, 1], nu=2.5) + WhiteKernel(noise_level=1),\n",
       "             n_restarts_optimizer=2, noise='gaussian', normalize_y=True,\n",
       "             optimizer='fmin_l_bfgs_b', random_state=1744541781), GaussianProcessRegressor(alpha=1e-10, copy_X_train=True,\n",
       "             kernel=1**2 * Matern(length_scale=[1, 1, 1], nu=2.5) + WhiteKernel(noise_level=1),\n",
       "             n_restarts_optimizer=2, noise='gaussian', normalize_y=True,\n",
       "             optimizer='fmin_l_bfgs_b', random_state=1744541781), GaussianProcessRegressor(alpha=1e-10, copy_X_train=True,\n",
       "             kernel=1**2 * Matern(length_scale=[1, 1, 1], nu=2.5) + WhiteKernel(noise_level=1),\n",
       "             n_restarts_optimizer=2, noise='gaussian', normalize_y=True,\n",
       "             optimizer='fmin_l_bfgs_b', random_state=1744541781)]\n",
       " random_state: <mtrand.RandomState object at 0x0000020A41524E10>\n",
       "        space: Space([Integer(low=100, high=200),\n",
       "       Categorical(categories=('sqrt', 'log2'), prior=None),\n",
       "       Categorical(categories=('deviance', 'exponential'), prior=None)])\n",
       "        specs: {'args': {'func': <function objective at 0x0000020A5043B8C8>, 'dimensions': Space([Integer(low=100, high=200),\n",
       "       Categorical(categories=('sqrt', 'log2'), prior=None),\n",
       "       Categorical(categories=('deviance', 'exponential'), prior=None)]), 'base_estimator': GaussianProcessRegressor(alpha=1e-10, copy_X_train=True,\n",
       "             kernel=1**2 * Matern(length_scale=[1, 1, 1], nu=2.5),\n",
       "             n_restarts_optimizer=2, noise='gaussian', normalize_y=True,\n",
       "             optimizer='fmin_l_bfgs_b', random_state=1744541781), 'n_calls': 100, 'n_random_starts': 10, 'acq_func': 'gp_hedge', 'acq_optimizer': 'auto', 'x0': None, 'y0': None, 'random_state': <mtrand.RandomState object at 0x0000020A41524E10>, 'verbose': True, 'callback': None, 'n_points': 10000, 'n_restarts_optimizer': 5, 'xi': 0.01, 'kappa': 1.96, 'n_jobs': 1}, 'function': 'base_minimize'}\n",
       "            x: [200, 'sqrt', 'exponential']\n",
       "      x_iters: [[194, 'sqrt', 'deviance'], [178, 'log2', 'exponential'], [198, 'sqrt', 'exponential'], [127, 'sqrt', 'exponential'], [128, 'sqrt', 'deviance'], [163, 'sqrt', 'deviance'], [144, 'sqrt', 'deviance'], [143, 'sqrt', 'deviance'], [190, 'sqrt', 'exponential'], [142, 'sqrt', 'exponential'], [100, 'log2', 'deviance'], [200, 'log2', 'exponential'], [200, 'log2', 'exponential'], [100, 'log2', 'exponential'], [200, 'sqrt', 'exponential'], [200, 'log2', 'deviance'], [100, 'log2', 'deviance'], [200, 'log2', 'deviance'], [200, 'sqrt', 'exponential'], [200, 'sqrt', 'exponential'], [200, 'sqrt', 'exponential'], [200, 'sqrt', 'deviance'], [100, 'log2', 'exponential'], [200, 'sqrt', 'exponential'], [100, 'sqrt', 'exponential'], [200, 'log2', 'deviance'], [200, 'log2', 'deviance'], [100, 'sqrt', 'deviance'], [100, 'log2', 'exponential'], [200, 'sqrt', 'exponential'], [200, 'log2', 'deviance'], [200, 'sqrt', 'exponential'], [200, 'sqrt', 'exponential'], [100, 'sqrt', 'deviance'], [100, 'log2', 'exponential'], [200, 'log2', 'deviance'], [200, 'sqrt', 'exponential'], [200, 'sqrt', 'deviance'], [200, 'log2', 'exponential'], [200, 'sqrt', 'exponential'], [200, 'log2', 'deviance'], [100, 'sqrt', 'deviance'], [100, 'log2', 'exponential'], [200, 'log2', 'deviance'], [100, 'sqrt', 'deviance'], [200, 'log2', 'exponential'], [200, 'log2', 'deviance'], [100, 'log2', 'exponential'], [200, 'sqrt', 'deviance'], [200, 'log2', 'exponential'], [200, 'log2', 'deviance'], [200, 'sqrt', 'exponential'], [100, 'sqrt', 'deviance'], [100, 'log2', 'exponential'], [200, 'log2', 'deviance'], [200, 'sqrt', 'deviance'], [200, 'log2', 'exponential'], [100, 'sqrt', 'exponential'], [200, 'sqrt', 'deviance'], [200, 'sqrt', 'exponential'], [100, 'sqrt', 'deviance'], [200, 'sqrt', 'exponential'], [100, 'log2', 'exponential'], [200, 'sqrt', 'exponential'], [200, 'log2', 'deviance'], [200, 'log2', 'deviance'], [200, 'sqrt', 'exponential'], [100, 'sqrt', 'deviance'], [100, 'log2', 'exponential'], [200, 'log2', 'exponential'], [200, 'log2', 'deviance'], [200, 'sqrt', 'deviance'], [200, 'sqrt', 'exponential'], [100, 'sqrt', 'deviance'], [100, 'log2', 'exponential'], [200, 'log2', 'deviance'], [200, 'sqrt', 'exponential'], [200, 'sqrt', 'exponential'], [200, 'sqrt', 'exponential'], [200, 'log2', 'deviance'], [100, 'sqrt', 'deviance'], [200, 'log2', 'exponential'], [100, 'log2', 'exponential'], [200, 'sqrt', 'exponential'], [200, 'log2', 'deviance'], [200, 'sqrt', 'deviance'], [200, 'log2', 'exponential'], [100, 'sqrt', 'exponential'], [200, 'sqrt', 'deviance'], [200, 'log2', 'exponential'], [100, 'sqrt', 'deviance'], [100, 'log2', 'exponential'], [200, 'log2', 'deviance'], [200, 'sqrt', 'deviance'], [200, 'log2', 'deviance'], [200, 'log2', 'exponential'], [100, 'log2', 'deviance'], [100, 'sqrt', 'exponential'], [200, 'sqrt', 'deviance'], [200, 'log2', 'exponential']]"
      ]
     },
     "execution_count": 34,
     "metadata": {},
     "output_type": "execute_result"
    }
   ],
   "source": [
    "reg_gp_gb"
   ]
  },
  {
   "cell_type": "code",
   "execution_count": 35,
   "metadata": {},
   "outputs": [
    {
     "data": {
      "text/plain": [
       "GradientBoostingClassifier(criterion='friedman_mse', init=None,\n",
       "              learning_rate=0.1, loss='deviance', max_depth=3,\n",
       "              max_features=None, max_leaf_nodes=None,\n",
       "              min_impurity_decrease=0.0, min_impurity_split=None,\n",
       "              min_samples_leaf=1, min_samples_split=2,\n",
       "              min_weight_fraction_leaf=0.0, n_estimators=100,\n",
       "              presort='auto', random_state=None, subsample=1.0, verbose=0,\n",
       "              warm_start=False)"
      ]
     },
     "execution_count": 35,
     "metadata": {},
     "output_type": "execute_result"
    }
   ],
   "source": [
    "gb = GradientBoostingClassifier()\n",
    "gb"
   ]
  },
  {
   "cell_type": "markdown",
   "metadata": {},
   "source": [
    "### Gradient Boosting - Default Parameters"
   ]
  },
  {
   "cell_type": "code",
   "execution_count": 36,
   "metadata": {},
   "outputs": [
    {
     "data": {
      "text/html": [
       "<div>\n",
       "<style scoped>\n",
       "    .dataframe tbody tr th:only-of-type {\n",
       "        vertical-align: middle;\n",
       "    }\n",
       "\n",
       "    .dataframe tbody tr th {\n",
       "        vertical-align: top;\n",
       "    }\n",
       "\n",
       "    .dataframe thead th {\n",
       "        text-align: right;\n",
       "    }\n",
       "</style>\n",
       "<table border=\"1\" class=\"dataframe\">\n",
       "  <thead>\n",
       "    <tr style=\"text-align: right;\">\n",
       "      <th></th>\n",
       "      <th>Estimators</th>\n",
       "      <th>max_features</th>\n",
       "      <th>loss</th>\n",
       "      <th>score</th>\n",
       "      <th>score_val0</th>\n",
       "      <th>score_val1</th>\n",
       "      <th>score_val2</th>\n",
       "      <th>score_val3</th>\n",
       "      <th>score_val4</th>\n",
       "      <th>score_val5</th>\n",
       "      <th>score_val6</th>\n",
       "      <th>score_val7</th>\n",
       "      <th>score_val8</th>\n",
       "      <th>score_val9</th>\n",
       "      <th>average</th>\n",
       "    </tr>\n",
       "  </thead>\n",
       "  <tbody>\n",
       "    <tr>\n",
       "      <th>0</th>\n",
       "      <td>100</td>\n",
       "      <td>None</td>\n",
       "      <td>deviance</td>\n",
       "      <td>fit_time</td>\n",
       "      <td>15.392839</td>\n",
       "      <td>14.778482</td>\n",
       "      <td>14.576024</td>\n",
       "      <td>15.395829</td>\n",
       "      <td>15.899483</td>\n",
       "      <td>16.591608</td>\n",
       "      <td>16.096959</td>\n",
       "      <td>15.457666</td>\n",
       "      <td>15.418770</td>\n",
       "      <td>14.860266</td>\n",
       "      <td>15.446793</td>\n",
       "    </tr>\n",
       "    <tr>\n",
       "      <th>1</th>\n",
       "      <td>100</td>\n",
       "      <td>None</td>\n",
       "      <td>deviance</td>\n",
       "      <td>score_time</td>\n",
       "      <td>0.076796</td>\n",
       "      <td>0.076828</td>\n",
       "      <td>0.074800</td>\n",
       "      <td>0.076795</td>\n",
       "      <td>0.079788</td>\n",
       "      <td>0.104728</td>\n",
       "      <td>0.076794</td>\n",
       "      <td>0.075824</td>\n",
       "      <td>0.074832</td>\n",
       "      <td>0.075797</td>\n",
       "      <td>0.079298</td>\n",
       "    </tr>\n",
       "    <tr>\n",
       "      <th>2</th>\n",
       "      <td>100</td>\n",
       "      <td>None</td>\n",
       "      <td>deviance</td>\n",
       "      <td>test_roc_auc</td>\n",
       "      <td>0.831200</td>\n",
       "      <td>0.821408</td>\n",
       "      <td>0.837329</td>\n",
       "      <td>0.825216</td>\n",
       "      <td>0.827860</td>\n",
       "      <td>0.834479</td>\n",
       "      <td>0.810054</td>\n",
       "      <td>0.830807</td>\n",
       "      <td>0.821343</td>\n",
       "      <td>0.829717</td>\n",
       "      <td>0.826941</td>\n",
       "    </tr>\n",
       "    <tr>\n",
       "      <th>3</th>\n",
       "      <td>100</td>\n",
       "      <td>None</td>\n",
       "      <td>deviance</td>\n",
       "      <td>train_roc_auc</td>\n",
       "      <td>0.834813</td>\n",
       "      <td>0.837096</td>\n",
       "      <td>0.834142</td>\n",
       "      <td>0.836364</td>\n",
       "      <td>0.836163</td>\n",
       "      <td>0.835050</td>\n",
       "      <td>0.837519</td>\n",
       "      <td>0.835724</td>\n",
       "      <td>0.836159</td>\n",
       "      <td>0.835440</td>\n",
       "      <td>0.835847</td>\n",
       "    </tr>\n",
       "    <tr>\n",
       "      <th>4</th>\n",
       "      <td>100</td>\n",
       "      <td>None</td>\n",
       "      <td>deviance</td>\n",
       "      <td>test_accuracy</td>\n",
       "      <td>0.939019</td>\n",
       "      <td>0.939608</td>\n",
       "      <td>0.937249</td>\n",
       "      <td>0.940309</td>\n",
       "      <td>0.936652</td>\n",
       "      <td>0.938650</td>\n",
       "      <td>0.939122</td>\n",
       "      <td>0.938650</td>\n",
       "      <td>0.935937</td>\n",
       "      <td>0.938768</td>\n",
       "      <td>0.938397</td>\n",
       "    </tr>\n",
       "    <tr>\n",
       "      <th>5</th>\n",
       "      <td>100</td>\n",
       "      <td>None</td>\n",
       "      <td>deviance</td>\n",
       "      <td>train_accuracy</td>\n",
       "      <td>0.939153</td>\n",
       "      <td>0.939546</td>\n",
       "      <td>0.939560</td>\n",
       "      <td>0.939403</td>\n",
       "      <td>0.939823</td>\n",
       "      <td>0.939784</td>\n",
       "      <td>0.939325</td>\n",
       "      <td>0.939627</td>\n",
       "      <td>0.939967</td>\n",
       "      <td>0.939509</td>\n",
       "      <td>0.939570</td>\n",
       "    </tr>\n",
       "    <tr>\n",
       "      <th>6</th>\n",
       "      <td>100</td>\n",
       "      <td>None</td>\n",
       "      <td>deviance</td>\n",
       "      <td>test_precision</td>\n",
       "      <td>0.627907</td>\n",
       "      <td>0.663793</td>\n",
       "      <td>0.583333</td>\n",
       "      <td>0.683761</td>\n",
       "      <td>0.549180</td>\n",
       "      <td>0.616000</td>\n",
       "      <td>0.638655</td>\n",
       "      <td>0.604317</td>\n",
       "      <td>0.528846</td>\n",
       "      <td>0.604167</td>\n",
       "      <td>0.609996</td>\n",
       "    </tr>\n",
       "    <tr>\n",
       "      <th>7</th>\n",
       "      <td>100</td>\n",
       "      <td>None</td>\n",
       "      <td>deviance</td>\n",
       "      <td>train_precision</td>\n",
       "      <td>0.632833</td>\n",
       "      <td>0.646590</td>\n",
       "      <td>0.649281</td>\n",
       "      <td>0.643946</td>\n",
       "      <td>0.660601</td>\n",
       "      <td>0.659381</td>\n",
       "      <td>0.637555</td>\n",
       "      <td>0.651434</td>\n",
       "      <td>0.657712</td>\n",
       "      <td>0.647799</td>\n",
       "      <td>0.648713</td>\n",
       "    </tr>\n",
       "    <tr>\n",
       "      <th>8</th>\n",
       "      <td>100</td>\n",
       "      <td>None</td>\n",
       "      <td>deviance</td>\n",
       "      <td>test_recall</td>\n",
       "      <td>0.147273</td>\n",
       "      <td>0.140000</td>\n",
       "      <td>0.114545</td>\n",
       "      <td>0.145719</td>\n",
       "      <td>0.122040</td>\n",
       "      <td>0.140255</td>\n",
       "      <td>0.138434</td>\n",
       "      <td>0.153005</td>\n",
       "      <td>0.100182</td>\n",
       "      <td>0.158470</td>\n",
       "      <td>0.135992</td>\n",
       "    </tr>\n",
       "    <tr>\n",
       "      <th>9</th>\n",
       "      <td>100</td>\n",
       "      <td>None</td>\n",
       "      <td>deviance</td>\n",
       "      <td>train_recall</td>\n",
       "      <td>0.145054</td>\n",
       "      <td>0.147684</td>\n",
       "      <td>0.146065</td>\n",
       "      <td>0.145227</td>\n",
       "      <td>0.146845</td>\n",
       "      <td>0.146440</td>\n",
       "      <td>0.147654</td>\n",
       "      <td>0.147047</td>\n",
       "      <td>0.153519</td>\n",
       "      <td>0.145833</td>\n",
       "      <td>0.147137</td>\n",
       "    </tr>\n",
       "  </tbody>\n",
       "</table>\n",
       "</div>"
      ],
      "text/plain": [
       "  Estimators max_features      loss            score  score_val0  score_val1  \\\n",
       "0        100         None  deviance         fit_time   15.392839   14.778482   \n",
       "1        100         None  deviance       score_time    0.076796    0.076828   \n",
       "2        100         None  deviance     test_roc_auc    0.831200    0.821408   \n",
       "3        100         None  deviance    train_roc_auc    0.834813    0.837096   \n",
       "4        100         None  deviance    test_accuracy    0.939019    0.939608   \n",
       "5        100         None  deviance   train_accuracy    0.939153    0.939546   \n",
       "6        100         None  deviance   test_precision    0.627907    0.663793   \n",
       "7        100         None  deviance  train_precision    0.632833    0.646590   \n",
       "8        100         None  deviance      test_recall    0.147273    0.140000   \n",
       "9        100         None  deviance     train_recall    0.145054    0.147684   \n",
       "\n",
       "   score_val2  score_val3  score_val4  score_val5  score_val6  score_val7  \\\n",
       "0   14.576024   15.395829   15.899483   16.591608   16.096959   15.457666   \n",
       "1    0.074800    0.076795    0.079788    0.104728    0.076794    0.075824   \n",
       "2    0.837329    0.825216    0.827860    0.834479    0.810054    0.830807   \n",
       "3    0.834142    0.836364    0.836163    0.835050    0.837519    0.835724   \n",
       "4    0.937249    0.940309    0.936652    0.938650    0.939122    0.938650   \n",
       "5    0.939560    0.939403    0.939823    0.939784    0.939325    0.939627   \n",
       "6    0.583333    0.683761    0.549180    0.616000    0.638655    0.604317   \n",
       "7    0.649281    0.643946    0.660601    0.659381    0.637555    0.651434   \n",
       "8    0.114545    0.145719    0.122040    0.140255    0.138434    0.153005   \n",
       "9    0.146065    0.145227    0.146845    0.146440    0.147654    0.147047   \n",
       "\n",
       "   score_val8  score_val9    average  \n",
       "0   15.418770   14.860266  15.446793  \n",
       "1    0.074832    0.075797   0.079298  \n",
       "2    0.821343    0.829717   0.826941  \n",
       "3    0.836159    0.835440   0.835847  \n",
       "4    0.935937    0.938768   0.938397  \n",
       "5    0.939967    0.939509   0.939570  \n",
       "6    0.528846    0.604167   0.609996  \n",
       "7    0.657712    0.647799   0.648713  \n",
       "8    0.100182    0.158470   0.135992  \n",
       "9    0.153519    0.145833   0.147137  "
      ]
     },
     "execution_count": 36,
     "metadata": {},
     "output_type": "execute_result"
    }
   ],
   "source": [
    "res_gb = []\n",
    "gb = GradientBoostingClassifier()\n",
    "scores = [100, 'None','deviance', cross_validate(gb, tr[cols], tr['HighUtilizationY2'], \n",
    "                                            scoring=['roc_auc','accuracy','precision','recall'], cv=10)]\n",
    "res_gb.append(scores)\n",
    "res_df_gb = pd.DataFrame(columns=[\"Estimators\",\"max_features\",\"loss\",\"score\",\"score_val0\",\"score_val1\",\"score_val2\",\n",
    "                                  \"score_val3\",\n",
    "                                  \"score_val4\",\"score_val5\",\"score_val6\",\"score_val7\",\"score_val8\",\"score_val9\",])\n",
    "cnt=0\n",
    "for r in res_gb:\n",
    "    for k,v in r[3].items():\n",
    "        l = [r[0]]\n",
    "        l.append(r[1])\n",
    "        l.append(r[2])\n",
    "        l.append(k)\n",
    "        for i in v:\n",
    "            l.append(i)\n",
    "        res_df_gb.loc[cnt]=l  \n",
    "        cnt = cnt + 1\n",
    "res_df_gb['average'] = res_df_gb[[\"score_val0\",\"score_val1\",\"score_val2\",\"score_val3\",\"score_val4\",\"score_val5\",\"score_val6\",\n",
    "                                  \"score_val7\",\"score_val8\",\"score_val9\"]].mean(numeric_only=True, axis=1)\n",
    "res_df_gb"
   ]
  },
  {
   "cell_type": "markdown",
   "metadata": {},
   "source": [
    "### Gradient Boosting - Optimized Parameters"
   ]
  },
  {
   "cell_type": "code",
   "execution_count": 37,
   "metadata": {},
   "outputs": [
    {
     "data": {
      "text/html": [
       "<div>\n",
       "<style scoped>\n",
       "    .dataframe tbody tr th:only-of-type {\n",
       "        vertical-align: middle;\n",
       "    }\n",
       "\n",
       "    .dataframe tbody tr th {\n",
       "        vertical-align: top;\n",
       "    }\n",
       "\n",
       "    .dataframe thead th {\n",
       "        text-align: right;\n",
       "    }\n",
       "</style>\n",
       "<table border=\"1\" class=\"dataframe\">\n",
       "  <thead>\n",
       "    <tr style=\"text-align: right;\">\n",
       "      <th></th>\n",
       "      <th>Estimators</th>\n",
       "      <th>max_features</th>\n",
       "      <th>loss</th>\n",
       "      <th>score</th>\n",
       "      <th>score_val0</th>\n",
       "      <th>score_val1</th>\n",
       "      <th>score_val2</th>\n",
       "      <th>score_val3</th>\n",
       "      <th>score_val4</th>\n",
       "      <th>score_val5</th>\n",
       "      <th>score_val6</th>\n",
       "      <th>score_val7</th>\n",
       "      <th>score_val8</th>\n",
       "      <th>score_val9</th>\n",
       "      <th>average</th>\n",
       "    </tr>\n",
       "  </thead>\n",
       "  <tbody>\n",
       "    <tr>\n",
       "      <th>0</th>\n",
       "      <td>200</td>\n",
       "      <td>sqrt</td>\n",
       "      <td>exponential</td>\n",
       "      <td>fit_time</td>\n",
       "      <td>5.575064</td>\n",
       "      <td>6.495629</td>\n",
       "      <td>5.293846</td>\n",
       "      <td>5.205081</td>\n",
       "      <td>5.125295</td>\n",
       "      <td>5.225030</td>\n",
       "      <td>5.544175</td>\n",
       "      <td>5.664853</td>\n",
       "      <td>5.617978</td>\n",
       "      <td>5.465386</td>\n",
       "      <td>5.521234</td>\n",
       "    </tr>\n",
       "    <tr>\n",
       "      <th>1</th>\n",
       "      <td>200</td>\n",
       "      <td>sqrt</td>\n",
       "      <td>exponential</td>\n",
       "      <td>score_time</td>\n",
       "      <td>0.123707</td>\n",
       "      <td>0.126661</td>\n",
       "      <td>0.132644</td>\n",
       "      <td>0.127660</td>\n",
       "      <td>0.124667</td>\n",
       "      <td>0.140622</td>\n",
       "      <td>0.131646</td>\n",
       "      <td>0.150597</td>\n",
       "      <td>0.133642</td>\n",
       "      <td>0.129654</td>\n",
       "      <td>0.132150</td>\n",
       "    </tr>\n",
       "    <tr>\n",
       "      <th>2</th>\n",
       "      <td>200</td>\n",
       "      <td>sqrt</td>\n",
       "      <td>exponential</td>\n",
       "      <td>test_roc_auc</td>\n",
       "      <td>0.834658</td>\n",
       "      <td>0.821378</td>\n",
       "      <td>0.840086</td>\n",
       "      <td>0.826099</td>\n",
       "      <td>0.830368</td>\n",
       "      <td>0.834791</td>\n",
       "      <td>0.813379</td>\n",
       "      <td>0.832423</td>\n",
       "      <td>0.822669</td>\n",
       "      <td>0.832324</td>\n",
       "      <td>0.828818</td>\n",
       "    </tr>\n",
       "    <tr>\n",
       "      <th>3</th>\n",
       "      <td>200</td>\n",
       "      <td>sqrt</td>\n",
       "      <td>exponential</td>\n",
       "      <td>train_roc_auc</td>\n",
       "      <td>0.839252</td>\n",
       "      <td>0.841253</td>\n",
       "      <td>0.837919</td>\n",
       "      <td>0.838779</td>\n",
       "      <td>0.839183</td>\n",
       "      <td>0.838227</td>\n",
       "      <td>0.840695</td>\n",
       "      <td>0.839184</td>\n",
       "      <td>0.839448</td>\n",
       "      <td>0.839155</td>\n",
       "      <td>0.839310</td>\n",
       "    </tr>\n",
       "    <tr>\n",
       "      <th>4</th>\n",
       "      <td>200</td>\n",
       "      <td>sqrt</td>\n",
       "      <td>exponential</td>\n",
       "      <td>test_accuracy</td>\n",
       "      <td>0.938311</td>\n",
       "      <td>0.939255</td>\n",
       "      <td>0.937367</td>\n",
       "      <td>0.938186</td>\n",
       "      <td>0.936534</td>\n",
       "      <td>0.937588</td>\n",
       "      <td>0.939594</td>\n",
       "      <td>0.937588</td>\n",
       "      <td>0.936763</td>\n",
       "      <td>0.937942</td>\n",
       "      <td>0.937913</td>\n",
       "    </tr>\n",
       "    <tr>\n",
       "      <th>5</th>\n",
       "      <td>200</td>\n",
       "      <td>sqrt</td>\n",
       "      <td>exponential</td>\n",
       "      <td>train_accuracy</td>\n",
       "      <td>0.938944</td>\n",
       "      <td>0.938878</td>\n",
       "      <td>0.938865</td>\n",
       "      <td>0.938787</td>\n",
       "      <td>0.939154</td>\n",
       "      <td>0.938683</td>\n",
       "      <td>0.938473</td>\n",
       "      <td>0.938866</td>\n",
       "      <td>0.938735</td>\n",
       "      <td>0.938775</td>\n",
       "      <td>0.938816</td>\n",
       "    </tr>\n",
       "    <tr>\n",
       "      <th>6</th>\n",
       "      <td>200</td>\n",
       "      <td>sqrt</td>\n",
       "      <td>exponential</td>\n",
       "      <td>test_precision</td>\n",
       "      <td>0.648352</td>\n",
       "      <td>0.696629</td>\n",
       "      <td>0.614458</td>\n",
       "      <td>0.640449</td>\n",
       "      <td>0.551402</td>\n",
       "      <td>0.600000</td>\n",
       "      <td>0.722892</td>\n",
       "      <td>0.606383</td>\n",
       "      <td>0.600000</td>\n",
       "      <td>0.600000</td>\n",
       "      <td>0.628056</td>\n",
       "    </tr>\n",
       "    <tr>\n",
       "      <th>7</th>\n",
       "      <td>200</td>\n",
       "      <td>sqrt</td>\n",
       "      <td>exponential</td>\n",
       "      <td>train_precision</td>\n",
       "      <td>0.672727</td>\n",
       "      <td>0.660920</td>\n",
       "      <td>0.669915</td>\n",
       "      <td>0.677003</td>\n",
       "      <td>0.666300</td>\n",
       "      <td>0.667085</td>\n",
       "      <td>0.660668</td>\n",
       "      <td>0.675439</td>\n",
       "      <td>0.670886</td>\n",
       "      <td>0.650496</td>\n",
       "      <td>0.667144</td>\n",
       "    </tr>\n",
       "    <tr>\n",
       "      <th>8</th>\n",
       "      <td>200</td>\n",
       "      <td>sqrt</td>\n",
       "      <td>exponential</td>\n",
       "      <td>test_recall</td>\n",
       "      <td>0.107273</td>\n",
       "      <td>0.112727</td>\n",
       "      <td>0.092727</td>\n",
       "      <td>0.103825</td>\n",
       "      <td>0.107468</td>\n",
       "      <td>0.109290</td>\n",
       "      <td>0.109290</td>\n",
       "      <td>0.103825</td>\n",
       "      <td>0.071038</td>\n",
       "      <td>0.125683</td>\n",
       "      <td>0.104315</td>\n",
       "    </tr>\n",
       "    <tr>\n",
       "      <th>9</th>\n",
       "      <td>200</td>\n",
       "      <td>sqrt</td>\n",
       "      <td>exponential</td>\n",
       "      <td>train_recall</td>\n",
       "      <td>0.112280</td>\n",
       "      <td>0.116326</td>\n",
       "      <td>0.111268</td>\n",
       "      <td>0.105987</td>\n",
       "      <td>0.122371</td>\n",
       "      <td>0.107403</td>\n",
       "      <td>0.103964</td>\n",
       "      <td>0.109021</td>\n",
       "      <td>0.107201</td>\n",
       "      <td>0.119337</td>\n",
       "      <td>0.111516</td>\n",
       "    </tr>\n",
       "  </tbody>\n",
       "</table>\n",
       "</div>"
      ],
      "text/plain": [
       "  Estimators max_features         loss            score  score_val0  \\\n",
       "0        200         sqrt  exponential         fit_time    5.575064   \n",
       "1        200         sqrt  exponential       score_time    0.123707   \n",
       "2        200         sqrt  exponential     test_roc_auc    0.834658   \n",
       "3        200         sqrt  exponential    train_roc_auc    0.839252   \n",
       "4        200         sqrt  exponential    test_accuracy    0.938311   \n",
       "5        200         sqrt  exponential   train_accuracy    0.938944   \n",
       "6        200         sqrt  exponential   test_precision    0.648352   \n",
       "7        200         sqrt  exponential  train_precision    0.672727   \n",
       "8        200         sqrt  exponential      test_recall    0.107273   \n",
       "9        200         sqrt  exponential     train_recall    0.112280   \n",
       "\n",
       "   score_val1  score_val2  score_val3  score_val4  score_val5  score_val6  \\\n",
       "0    6.495629    5.293846    5.205081    5.125295    5.225030    5.544175   \n",
       "1    0.126661    0.132644    0.127660    0.124667    0.140622    0.131646   \n",
       "2    0.821378    0.840086    0.826099    0.830368    0.834791    0.813379   \n",
       "3    0.841253    0.837919    0.838779    0.839183    0.838227    0.840695   \n",
       "4    0.939255    0.937367    0.938186    0.936534    0.937588    0.939594   \n",
       "5    0.938878    0.938865    0.938787    0.939154    0.938683    0.938473   \n",
       "6    0.696629    0.614458    0.640449    0.551402    0.600000    0.722892   \n",
       "7    0.660920    0.669915    0.677003    0.666300    0.667085    0.660668   \n",
       "8    0.112727    0.092727    0.103825    0.107468    0.109290    0.109290   \n",
       "9    0.116326    0.111268    0.105987    0.122371    0.107403    0.103964   \n",
       "\n",
       "   score_val7  score_val8  score_val9   average  \n",
       "0    5.664853    5.617978    5.465386  5.521234  \n",
       "1    0.150597    0.133642    0.129654  0.132150  \n",
       "2    0.832423    0.822669    0.832324  0.828818  \n",
       "3    0.839184    0.839448    0.839155  0.839310  \n",
       "4    0.937588    0.936763    0.937942  0.937913  \n",
       "5    0.938866    0.938735    0.938775  0.938816  \n",
       "6    0.606383    0.600000    0.600000  0.628056  \n",
       "7    0.675439    0.670886    0.650496  0.667144  \n",
       "8    0.103825    0.071038    0.125683  0.104315  \n",
       "9    0.109021    0.107201    0.119337  0.111516  "
      ]
     },
     "execution_count": 37,
     "metadata": {},
     "output_type": "execute_result"
    }
   ],
   "source": [
    "res_gb = []\n",
    "gb = GradientBoostingClassifier(n_estimators = 200 , max_features = 'sqrt',loss = 'exponential')\n",
    "scores = [200, 'sqrt','exponential', cross_validate(gb, tr[cols], tr['HighUtilizationY2'], \n",
    "                                            scoring=['roc_auc','accuracy','precision','recall'], cv=10)]\n",
    "res_gb.append(scores)\n",
    "res_df_gb = pd.DataFrame(columns=[\"Estimators\",\"max_features\",\"loss\",\"score\",\"score_val0\",\"score_val1\",\"score_val2\",\n",
    "                                  \"score_val3\",\n",
    "                                  \"score_val4\",\"score_val5\",\"score_val6\",\"score_val7\",\"score_val8\",\"score_val9\",])\n",
    "cnt=0\n",
    "for r in res_gb:\n",
    "    for k,v in r[3].items():\n",
    "        l = [r[0]]\n",
    "        l.append(r[1])\n",
    "        l.append(r[2])\n",
    "        l.append(k)\n",
    "        for i in v:\n",
    "            l.append(i)\n",
    "        res_df_gb.loc[cnt]=l  \n",
    "        cnt = cnt + 1\n",
    "res_df_gb['average'] = res_df_gb[[\"score_val0\",\"score_val1\",\"score_val2\",\"score_val3\",\"score_val4\",\"score_val5\",\"score_val6\",\n",
    "                                  \"score_val7\",\"score_val8\",\"score_val9\"]].mean(numeric_only=True, axis=1)\n",
    "res_df_gb"
   ]
  },
  {
   "cell_type": "code",
   "execution_count": null,
   "metadata": {},
   "outputs": [],
   "source": []
  }
 ],
 "metadata": {
  "kernelspec": {
   "display_name": "Python 3",
   "language": "python",
   "name": "python3"
  }
 },
 "nbformat": 4,
 "nbformat_minor": 2
}
